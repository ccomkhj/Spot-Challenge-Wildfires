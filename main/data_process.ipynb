{
 "cells": [
  {
   "cell_type": "code",
   "execution_count": 1,
   "metadata": {},
   "outputs": [],
   "source": [
    "import pandas as pd\n",
    "import seaborn as sns\n",
    "import matplotlib.pyplot as plt\n",
    "import numpy as np\n",
    "\n",
    "from sklearn.preprocessing import StandardScaler\n",
    "from sklearn.metrics import mean_squared_error, r2_score\n",
    "from sklearn.model_selection import train_test_split\n",
    "\n",
    "%matplotlib inline"
   ]
  },
  {
   "cell_type": "code",
   "execution_count": 2,
   "metadata": {},
   "outputs": [],
   "source": [
    "H_Wildfires = pd.read_csv(r'..\\data\\Nov_10\\Historical_Wildfires.csv')\n",
    "H_Weather = pd.read_csv(r'..\\data\\Nov_10\\HistoricalWeather.csv')\n",
    "H_Weather_Fc = pd.read_csv(r'..\\data\\Nov_10\\HistoricalWeatherForecasts.csv')\n",
    "LandClass = pd.read_csv(r'..\\data\\Nov_10\\LandClass.csv')\n",
    "Vege = pd.read_csv(r'..\\data\\Nov_10\\VegetationIndex.csv')"
   ]
  },
  {
   "cell_type": "code",
   "execution_count": 3,
   "metadata": {},
   "outputs": [],
   "source": [
    "# To run on Ubuntu:\n",
    "# H_Wildfires = pd.read_csv(r'../data/Nov_10/Historical_Wildfires.csv')\n",
    "# H_Weather = pd.read_csv(r'../data/Nov_10/HistoricalWeather.csv')\n",
    "# H_Weather_Fc = pd.read_csv(r'../data/Nov_10/HistoricalWeatherForecasts.csv')\n",
    "# LandClass = pd.read_csv(r'../data/Nov_10/LandClass.csv')\n",
    "# Vege = pd.read_csv(r'../data/Nov_10/VegetationIndex.csv')"
   ]
  },
  {
   "cell_type": "code",
   "execution_count": 4,
   "metadata": {
    "scrolled": false
   },
   "outputs": [
    {
     "data": {
      "text/html": [
       "<div>\n",
       "<style scoped>\n",
       "    .dataframe tbody tr th:only-of-type {\n",
       "        vertical-align: middle;\n",
       "    }\n",
       "\n",
       "    .dataframe tbody tr th {\n",
       "        vertical-align: top;\n",
       "    }\n",
       "\n",
       "    .dataframe thead th {\n",
       "        text-align: right;\n",
       "    }\n",
       "</style>\n",
       "<table border=\"1\" class=\"dataframe\">\n",
       "  <thead>\n",
       "    <tr style=\"text-align: right;\">\n",
       "      <th></th>\n",
       "      <th>Region</th>\n",
       "      <th>Date</th>\n",
       "      <th>Estimated_fire_area</th>\n",
       "      <th>Mean_estimated_fire_brightness</th>\n",
       "      <th>Mean_estimated_fire_radiative_power</th>\n",
       "      <th>Mean_confidence</th>\n",
       "      <th>Std_confidence</th>\n",
       "      <th>Var_confidence</th>\n",
       "      <th>Count</th>\n",
       "      <th>Replaced</th>\n",
       "    </tr>\n",
       "  </thead>\n",
       "  <tbody>\n",
       "    <tr>\n",
       "      <th>0</th>\n",
       "      <td>NSW</td>\n",
       "      <td>1/4/2005</td>\n",
       "      <td>8.68000</td>\n",
       "      <td>312.266667</td>\n",
       "      <td>42.400000</td>\n",
       "      <td>78.666667</td>\n",
       "      <td>2.886751</td>\n",
       "      <td>8.333333</td>\n",
       "      <td>3</td>\n",
       "      <td>R</td>\n",
       "    </tr>\n",
       "    <tr>\n",
       "      <th>1</th>\n",
       "      <td>NSW</td>\n",
       "      <td>1/5/2005</td>\n",
       "      <td>16.61125</td>\n",
       "      <td>322.475000</td>\n",
       "      <td>62.362500</td>\n",
       "      <td>85.500000</td>\n",
       "      <td>8.088793</td>\n",
       "      <td>65.428571</td>\n",
       "      <td>8</td>\n",
       "      <td>R</td>\n",
       "    </tr>\n",
       "    <tr>\n",
       "      <th>2</th>\n",
       "      <td>NSW</td>\n",
       "      <td>1/6/2005</td>\n",
       "      <td>5.52000</td>\n",
       "      <td>325.266667</td>\n",
       "      <td>38.400000</td>\n",
       "      <td>78.333333</td>\n",
       "      <td>3.214550</td>\n",
       "      <td>10.333333</td>\n",
       "      <td>3</td>\n",
       "      <td>R</td>\n",
       "    </tr>\n",
       "    <tr>\n",
       "      <th>3</th>\n",
       "      <td>NSW</td>\n",
       "      <td>1/7/2005</td>\n",
       "      <td>6.26400</td>\n",
       "      <td>313.870000</td>\n",
       "      <td>33.800000</td>\n",
       "      <td>92.200000</td>\n",
       "      <td>7.529940</td>\n",
       "      <td>56.700000</td>\n",
       "      <td>5</td>\n",
       "      <td>R</td>\n",
       "    </tr>\n",
       "    <tr>\n",
       "      <th>4</th>\n",
       "      <td>NSW</td>\n",
       "      <td>1/8/2005</td>\n",
       "      <td>5.40000</td>\n",
       "      <td>337.383333</td>\n",
       "      <td>122.533333</td>\n",
       "      <td>91.000000</td>\n",
       "      <td>7.937254</td>\n",
       "      <td>63.000000</td>\n",
       "      <td>3</td>\n",
       "      <td>R</td>\n",
       "    </tr>\n",
       "  </tbody>\n",
       "</table>\n",
       "</div>"
      ],
      "text/plain": [
       "  Region      Date  Estimated_fire_area  Mean_estimated_fire_brightness  \\\n",
       "0    NSW  1/4/2005              8.68000                      312.266667   \n",
       "1    NSW  1/5/2005             16.61125                      322.475000   \n",
       "2    NSW  1/6/2005              5.52000                      325.266667   \n",
       "3    NSW  1/7/2005              6.26400                      313.870000   \n",
       "4    NSW  1/8/2005              5.40000                      337.383333   \n",
       "\n",
       "   Mean_estimated_fire_radiative_power  Mean_confidence  Std_confidence  \\\n",
       "0                            42.400000        78.666667        2.886751   \n",
       "1                            62.362500        85.500000        8.088793   \n",
       "2                            38.400000        78.333333        3.214550   \n",
       "3                            33.800000        92.200000        7.529940   \n",
       "4                           122.533333        91.000000        7.937254   \n",
       "\n",
       "   Var_confidence  Count Replaced  \n",
       "0        8.333333      3        R  \n",
       "1       65.428571      8        R  \n",
       "2       10.333333      3        R  \n",
       "3       56.700000      5        R  \n",
       "4       63.000000      3        R  "
      ]
     },
     "execution_count": 4,
     "metadata": {},
     "output_type": "execute_result"
    }
   ],
   "source": [
    "H_Wildfires.head()"
   ]
  },
  {
   "cell_type": "code",
   "execution_count": 5,
   "metadata": {},
   "outputs": [
    {
     "data": {
      "text/html": [
       "<style  type=\"text/css\" >\n",
       "</style><table id=\"T_ed865cb6_371d_11eb_980b_a0a4c50f08f6\" ><thead>    <tr>        <th class=\"col_heading level0 col0\" >Data</th>        <th class=\"col_heading level0 col1\" >Unit</th>    </tr></thead><tbody>\n",
       "                <tr>\n",
       "                                <td id=\"T_ed865cb6_371d_11eb_980b_a0a4c50f08f6row0_col0\" class=\"data row0 col0\" >Estimated fire Area</td>\n",
       "                        <td id=\"T_ed865cb6_371d_11eb_980b_a0a4c50f08f6row0_col1\" class=\"data row0 col1\" >km^2</td>\n",
       "            </tr>\n",
       "            <tr>\n",
       "                                <td id=\"T_ed865cb6_371d_11eb_980b_a0a4c50f08f6row1_col0\" class=\"data row1 col0\" >Brightness</td>\n",
       "                        <td id=\"T_ed865cb6_371d_11eb_980b_a0a4c50f08f6row1_col1\" class=\"data row1 col1\" >K</td>\n",
       "            </tr>\n",
       "            <tr>\n",
       "                                <td id=\"T_ed865cb6_371d_11eb_980b_a0a4c50f08f6row2_col0\" class=\"data row2 col0\" >Raditative Power</td>\n",
       "                        <td id=\"T_ed865cb6_371d_11eb_980b_a0a4c50f08f6row2_col1\" class=\"data row2 col1\" >MW</td>\n",
       "            </tr>\n",
       "    </tbody></table>"
      ],
      "text/plain": [
       "<pandas.io.formats.style.Styler at 0x1df7cf17cc0>"
      ]
     },
     "execution_count": 5,
     "metadata": {},
     "output_type": "execute_result"
    }
   ],
   "source": [
    "Unit_info2 = {'Data':['Estimated fire Area', 'Brightness', 'Raditative Power'],\n",
    "        'Unit':['km^2','K','MW']}\n",
    "data_type2 = pd.DataFrame(Unit_info2)\n",
    "data_type2.style.hide_index()"
   ]
  },
  {
   "cell_type": "code",
   "execution_count": 6,
   "metadata": {
    "scrolled": false
   },
   "outputs": [
    {
     "data": {
      "text/html": [
       "<div>\n",
       "<style scoped>\n",
       "    .dataframe tbody tr th:only-of-type {\n",
       "        vertical-align: middle;\n",
       "    }\n",
       "\n",
       "    .dataframe tbody tr th {\n",
       "        vertical-align: top;\n",
       "    }\n",
       "\n",
       "    .dataframe thead th {\n",
       "        text-align: right;\n",
       "    }\n",
       "</style>\n",
       "<table border=\"1\" class=\"dataframe\">\n",
       "  <thead>\n",
       "    <tr style=\"text-align: right;\">\n",
       "      <th></th>\n",
       "      <th>Date</th>\n",
       "      <th>Region</th>\n",
       "      <th>Parameter</th>\n",
       "      <th>count()[unit: km^2]</th>\n",
       "      <th>min()</th>\n",
       "      <th>max()</th>\n",
       "      <th>mean()</th>\n",
       "      <th>variance()</th>\n",
       "    </tr>\n",
       "  </thead>\n",
       "  <tbody>\n",
       "    <tr>\n",
       "      <th>0</th>\n",
       "      <td>2005-01-01</td>\n",
       "      <td>NSW</td>\n",
       "      <td>Precipitation</td>\n",
       "      <td>8.002343e+05</td>\n",
       "      <td>0.000000</td>\n",
       "      <td>1.836935</td>\n",
       "      <td>0.044274</td>\n",
       "      <td>0.028362</td>\n",
       "    </tr>\n",
       "    <tr>\n",
       "      <th>1</th>\n",
       "      <td>2005-01-01</td>\n",
       "      <td>NSW</td>\n",
       "      <td>RelativeHumidity</td>\n",
       "      <td>8.002343e+05</td>\n",
       "      <td>13.877194</td>\n",
       "      <td>80.522964</td>\n",
       "      <td>36.355567</td>\n",
       "      <td>253.559937</td>\n",
       "    </tr>\n",
       "    <tr>\n",
       "      <th>2</th>\n",
       "      <td>2005-01-01</td>\n",
       "      <td>NSW</td>\n",
       "      <td>SoilWaterContent</td>\n",
       "      <td>8.002343e+05</td>\n",
       "      <td>0.002245</td>\n",
       "      <td>0.414305</td>\n",
       "      <td>0.170931</td>\n",
       "      <td>0.007758</td>\n",
       "    </tr>\n",
       "    <tr>\n",
       "      <th>3</th>\n",
       "      <td>2005-01-01</td>\n",
       "      <td>NSW</td>\n",
       "      <td>SolarRadiation</td>\n",
       "      <td>8.002343e+05</td>\n",
       "      <td>14.515009</td>\n",
       "      <td>32.169781</td>\n",
       "      <td>26.749389</td>\n",
       "      <td>6.078587</td>\n",
       "    </tr>\n",
       "    <tr>\n",
       "      <th>4</th>\n",
       "      <td>2005-01-01</td>\n",
       "      <td>NSW</td>\n",
       "      <td>Temperature</td>\n",
       "      <td>8.002343e+05</td>\n",
       "      <td>14.485785</td>\n",
       "      <td>35.878704</td>\n",
       "      <td>27.341182</td>\n",
       "      <td>18.562212</td>\n",
       "    </tr>\n",
       "    <tr>\n",
       "      <th>5</th>\n",
       "      <td>2005-01-01</td>\n",
       "      <td>NSW</td>\n",
       "      <td>WindSpeed</td>\n",
       "      <td>8.002343e+05</td>\n",
       "      <td>1.354448</td>\n",
       "      <td>7.670482</td>\n",
       "      <td>3.323550</td>\n",
       "      <td>0.850048</td>\n",
       "    </tr>\n",
       "    <tr>\n",
       "      <th>6</th>\n",
       "      <td>2005-01-01</td>\n",
       "      <td>NT</td>\n",
       "      <td>Precipitation</td>\n",
       "      <td>1.357561e+06</td>\n",
       "      <td>0.000000</td>\n",
       "      <td>315.266815</td>\n",
       "      <td>9.884958</td>\n",
       "      <td>546.059262</td>\n",
       "    </tr>\n",
       "    <tr>\n",
       "      <th>7</th>\n",
       "      <td>2005-01-01</td>\n",
       "      <td>NT</td>\n",
       "      <td>RelativeHumidity</td>\n",
       "      <td>1.357561e+06</td>\n",
       "      <td>14.558820</td>\n",
       "      <td>95.683342</td>\n",
       "      <td>61.494675</td>\n",
       "      <td>584.201131</td>\n",
       "    </tr>\n",
       "  </tbody>\n",
       "</table>\n",
       "</div>"
      ],
      "text/plain": [
       "         Date Region         Parameter  count()[unit: km^2]      min()  \\\n",
       "0  2005-01-01    NSW     Precipitation         8.002343e+05   0.000000   \n",
       "1  2005-01-01    NSW  RelativeHumidity         8.002343e+05  13.877194   \n",
       "2  2005-01-01    NSW  SoilWaterContent         8.002343e+05   0.002245   \n",
       "3  2005-01-01    NSW    SolarRadiation         8.002343e+05  14.515009   \n",
       "4  2005-01-01    NSW       Temperature         8.002343e+05  14.485785   \n",
       "5  2005-01-01    NSW         WindSpeed         8.002343e+05   1.354448   \n",
       "6  2005-01-01     NT     Precipitation         1.357561e+06   0.000000   \n",
       "7  2005-01-01     NT  RelativeHumidity         1.357561e+06  14.558820   \n",
       "\n",
       "        max()     mean()  variance()  \n",
       "0    1.836935   0.044274    0.028362  \n",
       "1   80.522964  36.355567  253.559937  \n",
       "2    0.414305   0.170931    0.007758  \n",
       "3   32.169781  26.749389    6.078587  \n",
       "4   35.878704  27.341182   18.562212  \n",
       "5    7.670482   3.323550    0.850048  \n",
       "6  315.266815   9.884958  546.059262  \n",
       "7   95.683342  61.494675  584.201131  "
      ]
     },
     "execution_count": 6,
     "metadata": {},
     "output_type": "execute_result"
    }
   ],
   "source": [
    "H_Weather.head(8)"
   ]
  },
  {
   "cell_type": "code",
   "execution_count": 7,
   "metadata": {
    "scrolled": false
   },
   "outputs": [
    {
     "data": {
      "text/html": [
       "<style  type=\"text/css\" >\n",
       "</style><table id=\"T_ed91c51e_371d_11eb_b7b5_a0a4c50f08f6\" ><thead>    <tr>        <th class=\"col_heading level0 col0\" >Data</th>        <th class=\"col_heading level0 col1\" >Unit</th>    </tr></thead><tbody>\n",
       "                <tr>\n",
       "                                <td id=\"T_ed91c51e_371d_11eb_b7b5_a0a4c50f08f6row0_col0\" class=\"data row0 col0\" >Precipitation</td>\n",
       "                        <td id=\"T_ed91c51e_371d_11eb_b7b5_a0a4c50f08f6row0_col1\" class=\"data row0 col1\" >mm/day</td>\n",
       "            </tr>\n",
       "            <tr>\n",
       "                                <td id=\"T_ed91c51e_371d_11eb_b7b5_a0a4c50f08f6row1_col0\" class=\"data row1 col0\" >Relative humidity</td>\n",
       "                        <td id=\"T_ed91c51e_371d_11eb_b7b5_a0a4c50f08f6row1_col1\" class=\"data row1 col1\" >%</td>\n",
       "            </tr>\n",
       "            <tr>\n",
       "                                <td id=\"T_ed91c51e_371d_11eb_b7b5_a0a4c50f08f6row2_col0\" class=\"data row2 col0\" >Soil water content</td>\n",
       "                        <td id=\"T_ed91c51e_371d_11eb_b7b5_a0a4c50f08f6row2_col1\" class=\"data row2 col1\" >m^3</td>\n",
       "            </tr>\n",
       "            <tr>\n",
       "                                <td id=\"T_ed91c51e_371d_11eb_b7b5_a0a4c50f08f6row3_col0\" class=\"data row3 col0\" >Solar radiation</td>\n",
       "                        <td id=\"T_ed91c51e_371d_11eb_b7b5_a0a4c50f08f6row3_col1\" class=\"data row3 col1\" >MJ/day</td>\n",
       "            </tr>\n",
       "            <tr>\n",
       "                                <td id=\"T_ed91c51e_371d_11eb_b7b5_a0a4c50f08f6row4_col0\" class=\"data row4 col0\" >Temperature</td>\n",
       "                        <td id=\"T_ed91c51e_371d_11eb_b7b5_a0a4c50f08f6row4_col1\" class=\"data row4 col1\" >C</td>\n",
       "            </tr>\n",
       "            <tr>\n",
       "                                <td id=\"T_ed91c51e_371d_11eb_b7b5_a0a4c50f08f6row5_col0\" class=\"data row5 col0\" >Wind speed</td>\n",
       "                        <td id=\"T_ed91c51e_371d_11eb_b7b5_a0a4c50f08f6row5_col1\" class=\"data row5 col1\" >m/s</td>\n",
       "            </tr>\n",
       "    </tbody></table>"
      ],
      "text/plain": [
       "<pandas.io.formats.style.Styler at 0x1df7d03df98>"
      ]
     },
     "execution_count": 7,
     "metadata": {},
     "output_type": "execute_result"
    }
   ],
   "source": [
    "Unit_info = {'Data':['Precipitation', 'Relative humidity', 'Soil water content', 'Solar radiation','Temperature','Wind speed'],\n",
    "        'Unit':['mm/day','%','m^3','MJ/day','C','m/s']}\n",
    "data_type = pd.DataFrame(Unit_info)\n",
    "data_type.style.hide_index()"
   ]
  },
  {
   "cell_type": "markdown",
   "metadata": {},
   "source": [
    "Lead time: Difference between the time the forcast is for ''valid time'' and the time the forecast was made ''issue time'')\n",
    "\n",
    "So, issue time = valid time - lead time\n",
    "\n",
    "##### why no Precipitation & Soil water content here ?\n",
    ": Precipitation will be available after July 2015"
   ]
  },
  {
   "cell_type": "code",
   "execution_count": 8,
   "metadata": {
    "scrolled": true
   },
   "outputs": [
    {
     "data": {
      "text/html": [
       "<div>\n",
       "<style scoped>\n",
       "    .dataframe tbody tr th:only-of-type {\n",
       "        vertical-align: middle;\n",
       "    }\n",
       "\n",
       "    .dataframe tbody tr th {\n",
       "        vertical-align: top;\n",
       "    }\n",
       "\n",
       "    .dataframe thead th {\n",
       "        text-align: right;\n",
       "    }\n",
       "</style>\n",
       "<table border=\"1\" class=\"dataframe\">\n",
       "  <thead>\n",
       "    <tr style=\"text-align: right;\">\n",
       "      <th></th>\n",
       "      <th>Date</th>\n",
       "      <th>Region</th>\n",
       "      <th>Parameter</th>\n",
       "      <th>Lead time</th>\n",
       "      <th>count()[unit: km^2]</th>\n",
       "      <th>min()</th>\n",
       "      <th>max()</th>\n",
       "      <th>mean()</th>\n",
       "      <th>variance()</th>\n",
       "    </tr>\n",
       "  </thead>\n",
       "  <tbody>\n",
       "    <tr>\n",
       "      <th>0</th>\n",
       "      <td>2014-01-01</td>\n",
       "      <td>NSW</td>\n",
       "      <td>RelativeHumidity</td>\n",
       "      <td>5</td>\n",
       "      <td>8.037682e+05</td>\n",
       "      <td>7.482927</td>\n",
       "      <td>85.021118</td>\n",
       "      <td>28.223569</td>\n",
       "      <td>353.620815</td>\n",
       "    </tr>\n",
       "    <tr>\n",
       "      <th>1</th>\n",
       "      <td>2014-01-01</td>\n",
       "      <td>NSW</td>\n",
       "      <td>SolarRadiation</td>\n",
       "      <td>5</td>\n",
       "      <td>8.037682e+05</td>\n",
       "      <td>24.865765</td>\n",
       "      <td>33.557598</td>\n",
       "      <td>31.647308</td>\n",
       "      <td>2.276068</td>\n",
       "    </tr>\n",
       "    <tr>\n",
       "      <th>2</th>\n",
       "      <td>2014-01-01</td>\n",
       "      <td>NSW</td>\n",
       "      <td>Temperature</td>\n",
       "      <td>5</td>\n",
       "      <td>8.037682e+05</td>\n",
       "      <td>21.243755</td>\n",
       "      <td>36.929035</td>\n",
       "      <td>30.893523</td>\n",
       "      <td>17.918553</td>\n",
       "    </tr>\n",
       "    <tr>\n",
       "      <th>3</th>\n",
       "      <td>2014-01-01</td>\n",
       "      <td>NSW</td>\n",
       "      <td>WindSpeed</td>\n",
       "      <td>5</td>\n",
       "      <td>8.037682e+05</td>\n",
       "      <td>1.593531</td>\n",
       "      <td>6.989559</td>\n",
       "      <td>3.958822</td>\n",
       "      <td>1.334834</td>\n",
       "    </tr>\n",
       "    <tr>\n",
       "      <th>4</th>\n",
       "      <td>2014-01-01</td>\n",
       "      <td>NT</td>\n",
       "      <td>RelativeHumidity</td>\n",
       "      <td>5</td>\n",
       "      <td>1.349817e+06</td>\n",
       "      <td>14.796251</td>\n",
       "      <td>73.601479</td>\n",
       "      <td>39.799856</td>\n",
       "      <td>189.805002</td>\n",
       "    </tr>\n",
       "    <tr>\n",
       "      <th>5</th>\n",
       "      <td>2014-01-01</td>\n",
       "      <td>NT</td>\n",
       "      <td>SolarRadiation</td>\n",
       "      <td>5</td>\n",
       "      <td>1.349817e+06</td>\n",
       "      <td>18.851019</td>\n",
       "      <td>32.766205</td>\n",
       "      <td>28.016282</td>\n",
       "      <td>6.573279</td>\n",
       "    </tr>\n",
       "    <tr>\n",
       "      <th>6</th>\n",
       "      <td>2014-01-01</td>\n",
       "      <td>NT</td>\n",
       "      <td>Temperature</td>\n",
       "      <td>5</td>\n",
       "      <td>1.349817e+06</td>\n",
       "      <td>25.955570</td>\n",
       "      <td>39.907539</td>\n",
       "      <td>33.379110</td>\n",
       "      <td>6.605778</td>\n",
       "    </tr>\n",
       "    <tr>\n",
       "      <th>7</th>\n",
       "      <td>2014-01-01</td>\n",
       "      <td>NT</td>\n",
       "      <td>WindSpeed</td>\n",
       "      <td>5</td>\n",
       "      <td>1.349817e+06</td>\n",
       "      <td>1.192912</td>\n",
       "      <td>12.156700</td>\n",
       "      <td>4.740253</td>\n",
       "      <td>4.871655</td>\n",
       "    </tr>\n",
       "  </tbody>\n",
       "</table>\n",
       "</div>"
      ],
      "text/plain": [
       "         Date Region         Parameter  Lead time  count()[unit: km^2]  \\\n",
       "0  2014-01-01    NSW  RelativeHumidity          5         8.037682e+05   \n",
       "1  2014-01-01    NSW    SolarRadiation          5         8.037682e+05   \n",
       "2  2014-01-01    NSW       Temperature          5         8.037682e+05   \n",
       "3  2014-01-01    NSW         WindSpeed          5         8.037682e+05   \n",
       "4  2014-01-01     NT  RelativeHumidity          5         1.349817e+06   \n",
       "5  2014-01-01     NT    SolarRadiation          5         1.349817e+06   \n",
       "6  2014-01-01     NT       Temperature          5         1.349817e+06   \n",
       "7  2014-01-01     NT         WindSpeed          5         1.349817e+06   \n",
       "\n",
       "       min()      max()     mean()  variance()  \n",
       "0   7.482927  85.021118  28.223569  353.620815  \n",
       "1  24.865765  33.557598  31.647308    2.276068  \n",
       "2  21.243755  36.929035  30.893523   17.918553  \n",
       "3   1.593531   6.989559   3.958822    1.334834  \n",
       "4  14.796251  73.601479  39.799856  189.805002  \n",
       "5  18.851019  32.766205  28.016282    6.573279  \n",
       "6  25.955570  39.907539  33.379110    6.605778  \n",
       "7   1.192912  12.156700   4.740253    4.871655  "
      ]
     },
     "execution_count": 8,
     "metadata": {},
     "output_type": "execute_result"
    }
   ],
   "source": [
    "H_Weather_Fc.head(8)"
   ]
  },
  {
   "cell_type": "code",
   "execution_count": 9,
   "metadata": {},
   "outputs": [
    {
     "data": {
      "text/plain": [
       "array(['RelativeHumidity', 'SolarRadiation', 'Temperature', 'WindSpeed',\n",
       "       'Precipitation'], dtype=object)"
      ]
     },
     "execution_count": 9,
     "metadata": {},
     "output_type": "execute_result"
    }
   ],
   "source": [
    "H_Weather_Fc.Parameter.unique()"
   ]
  },
  {
   "cell_type": "markdown",
   "metadata": {},
   "source": [
    "There is obvious outlier at 2017-10-06"
   ]
  },
  {
   "cell_type": "code",
   "execution_count": 10,
   "metadata": {
    "scrolled": false
   },
   "outputs": [
    {
     "data": {
      "text/html": [
       "<div>\n",
       "<style scoped>\n",
       "    .dataframe tbody tr th:only-of-type {\n",
       "        vertical-align: middle;\n",
       "    }\n",
       "\n",
       "    .dataframe tbody tr th {\n",
       "        vertical-align: top;\n",
       "    }\n",
       "\n",
       "    .dataframe thead th {\n",
       "        text-align: right;\n",
       "    }\n",
       "</style>\n",
       "<table border=\"1\" class=\"dataframe\">\n",
       "  <thead>\n",
       "    <tr style=\"text-align: right;\">\n",
       "      <th></th>\n",
       "      <th>Date</th>\n",
       "      <th>Region</th>\n",
       "      <th>Parameter</th>\n",
       "      <th>Lead time</th>\n",
       "      <th>count()[unit: km^2]</th>\n",
       "      <th>min()</th>\n",
       "      <th>max()</th>\n",
       "      <th>mean()</th>\n",
       "      <th>variance()</th>\n",
       "    </tr>\n",
       "  </thead>\n",
       "  <tbody>\n",
       "    <tr>\n",
       "      <th>100639</th>\n",
       "      <td>2017-10-06</td>\n",
       "      <td>NSW</td>\n",
       "      <td>Precipitation</td>\n",
       "      <td>5</td>\n",
       "      <td>8.037682e+05</td>\n",
       "      <td>0.000000</td>\n",
       "      <td>17.424505</td>\n",
       "      <td>0.147542</td>\n",
       "      <td>0.885459</td>\n",
       "    </tr>\n",
       "    <tr>\n",
       "      <th>100640</th>\n",
       "      <td>2017-10-06</td>\n",
       "      <td>NSW</td>\n",
       "      <td>Precipitation</td>\n",
       "      <td>10</td>\n",
       "      <td>8.037682e+05</td>\n",
       "      <td>0.000000</td>\n",
       "      <td>5.196585</td>\n",
       "      <td>0.419928</td>\n",
       "      <td>0.820959</td>\n",
       "    </tr>\n",
       "    <tr>\n",
       "      <th>100641</th>\n",
       "      <td>2017-10-06</td>\n",
       "      <td>NSW</td>\n",
       "      <td>Precipitation</td>\n",
       "      <td>15</td>\n",
       "      <td>7.725261e+05</td>\n",
       "      <td>250.288422</td>\n",
       "      <td>8210.618164</td>\n",
       "      <td>316.547930</td>\n",
       "      <td>290270.178084</td>\n",
       "    </tr>\n",
       "    <tr>\n",
       "      <th>100642</th>\n",
       "      <td>2017-10-06</td>\n",
       "      <td>NSW</td>\n",
       "      <td>RelativeHumidity</td>\n",
       "      <td>5</td>\n",
       "      <td>8.037682e+05</td>\n",
       "      <td>21.865715</td>\n",
       "      <td>97.436989</td>\n",
       "      <td>48.691228</td>\n",
       "      <td>284.283663</td>\n",
       "    </tr>\n",
       "    <tr>\n",
       "      <th>100643</th>\n",
       "      <td>2017-10-06</td>\n",
       "      <td>NSW</td>\n",
       "      <td>RelativeHumidity</td>\n",
       "      <td>10</td>\n",
       "      <td>8.037682e+05</td>\n",
       "      <td>24.730513</td>\n",
       "      <td>99.168449</td>\n",
       "      <td>66.204040</td>\n",
       "      <td>573.370274</td>\n",
       "    </tr>\n",
       "    <tr>\n",
       "      <th>...</th>\n",
       "      <td>...</td>\n",
       "      <td>...</td>\n",
       "      <td>...</td>\n",
       "      <td>...</td>\n",
       "      <td>...</td>\n",
       "      <td>...</td>\n",
       "      <td>...</td>\n",
       "      <td>...</td>\n",
       "      <td>...</td>\n",
       "    </tr>\n",
       "    <tr>\n",
       "      <th>100739</th>\n",
       "      <td>2017-10-06</td>\n",
       "      <td>WA</td>\n",
       "      <td>Temperature</td>\n",
       "      <td>10</td>\n",
       "      <td>2.542548e+06</td>\n",
       "      <td>10.918800</td>\n",
       "      <td>33.982826</td>\n",
       "      <td>26.265514</td>\n",
       "      <td>32.721216</td>\n",
       "    </tr>\n",
       "    <tr>\n",
       "      <th>100740</th>\n",
       "      <td>2017-10-06</td>\n",
       "      <td>WA</td>\n",
       "      <td>Temperature</td>\n",
       "      <td>15</td>\n",
       "      <td>2.542548e+06</td>\n",
       "      <td>8.435110</td>\n",
       "      <td>36.643944</td>\n",
       "      <td>26.317869</td>\n",
       "      <td>38.023123</td>\n",
       "    </tr>\n",
       "    <tr>\n",
       "      <th>100741</th>\n",
       "      <td>2017-10-06</td>\n",
       "      <td>WA</td>\n",
       "      <td>WindSpeed</td>\n",
       "      <td>5</td>\n",
       "      <td>2.542548e+06</td>\n",
       "      <td>2.448896</td>\n",
       "      <td>9.710284</td>\n",
       "      <td>6.179069</td>\n",
       "      <td>1.679758</td>\n",
       "    </tr>\n",
       "    <tr>\n",
       "      <th>100742</th>\n",
       "      <td>2017-10-06</td>\n",
       "      <td>WA</td>\n",
       "      <td>WindSpeed</td>\n",
       "      <td>10</td>\n",
       "      <td>2.542548e+06</td>\n",
       "      <td>0.481980</td>\n",
       "      <td>9.431306</td>\n",
       "      <td>5.861428</td>\n",
       "      <td>2.422428</td>\n",
       "    </tr>\n",
       "    <tr>\n",
       "      <th>100743</th>\n",
       "      <td>2017-10-06</td>\n",
       "      <td>WA</td>\n",
       "      <td>WindSpeed</td>\n",
       "      <td>15</td>\n",
       "      <td>2.542548e+06</td>\n",
       "      <td>1.243808</td>\n",
       "      <td>12.268062</td>\n",
       "      <td>6.854383</td>\n",
       "      <td>5.135153</td>\n",
       "    </tr>\n",
       "  </tbody>\n",
       "</table>\n",
       "<p>105 rows × 9 columns</p>\n",
       "</div>"
      ],
      "text/plain": [
       "              Date Region         Parameter  Lead time  count()[unit: km^2]  \\\n",
       "100639  2017-10-06    NSW     Precipitation          5         8.037682e+05   \n",
       "100640  2017-10-06    NSW     Precipitation         10         8.037682e+05   \n",
       "100641  2017-10-06    NSW     Precipitation         15         7.725261e+05   \n",
       "100642  2017-10-06    NSW  RelativeHumidity          5         8.037682e+05   \n",
       "100643  2017-10-06    NSW  RelativeHumidity         10         8.037682e+05   \n",
       "...            ...    ...               ...        ...                  ...   \n",
       "100739  2017-10-06     WA       Temperature         10         2.542548e+06   \n",
       "100740  2017-10-06     WA       Temperature         15         2.542548e+06   \n",
       "100741  2017-10-06     WA         WindSpeed          5         2.542548e+06   \n",
       "100742  2017-10-06     WA         WindSpeed         10         2.542548e+06   \n",
       "100743  2017-10-06     WA         WindSpeed         15         2.542548e+06   \n",
       "\n",
       "             min()        max()      mean()     variance()  \n",
       "100639    0.000000    17.424505    0.147542       0.885459  \n",
       "100640    0.000000     5.196585    0.419928       0.820959  \n",
       "100641  250.288422  8210.618164  316.547930  290270.178084  \n",
       "100642   21.865715    97.436989   48.691228     284.283663  \n",
       "100643   24.730513    99.168449   66.204040     573.370274  \n",
       "...            ...          ...         ...            ...  \n",
       "100739   10.918800    33.982826   26.265514      32.721216  \n",
       "100740    8.435110    36.643944   26.317869      38.023123  \n",
       "100741    2.448896     9.710284    6.179069       1.679758  \n",
       "100742    0.481980     9.431306    5.861428       2.422428  \n",
       "100743    1.243808    12.268062    6.854383       5.135153  \n",
       "\n",
       "[105 rows x 9 columns]"
      ]
     },
     "execution_count": 10,
     "metadata": {},
     "output_type": "execute_result"
    }
   ],
   "source": [
    "H_Weather_Fc[H_Weather_Fc.Date=='2017-10-06']"
   ]
  },
  {
   "cell_type": "markdown",
   "metadata": {},
   "source": [
    "##### Every Unit is '%'"
   ]
  },
  {
   "cell_type": "code",
   "execution_count": 11,
   "metadata": {
    "scrolled": false
   },
   "outputs": [
    {
     "data": {
      "text/html": [
       "<div>\n",
       "<style scoped>\n",
       "    .dataframe tbody tr th:only-of-type {\n",
       "        vertical-align: middle;\n",
       "    }\n",
       "\n",
       "    .dataframe tbody tr th {\n",
       "        vertical-align: top;\n",
       "    }\n",
       "\n",
       "    .dataframe thead th {\n",
       "        text-align: right;\n",
       "    }\n",
       "</style>\n",
       "<table border=\"1\" class=\"dataframe\">\n",
       "  <thead>\n",
       "    <tr style=\"text-align: right;\">\n",
       "      <th></th>\n",
       "      <th>Region</th>\n",
       "      <th>Shrubs</th>\n",
       "      <th>Herbaceous vegetation</th>\n",
       "      <th>Cultivated and managed vegetation/agriculture (cropland)</th>\n",
       "      <th>Urban / built up</th>\n",
       "      <th>Bare / sparse vegetation</th>\n",
       "      <th>Permanent water bodies</th>\n",
       "      <th>Herbaceous wetland</th>\n",
       "      <th>Closed forest, evergreen, broad leaf</th>\n",
       "      <th>Closed forest, deciduous broad leaf</th>\n",
       "      <th>Closed forest, unknown</th>\n",
       "      <th>Open forest, evergreen broad leaf</th>\n",
       "      <th>Open forest, deciduous broad leaf</th>\n",
       "      <th>Open forest, unknown definitions</th>\n",
       "      <th>Open sea</th>\n",
       "    </tr>\n",
       "  </thead>\n",
       "  <tbody>\n",
       "    <tr>\n",
       "      <th>0</th>\n",
       "      <td>NSW</td>\n",
       "      <td>6.2</td>\n",
       "      <td>43.6</td>\n",
       "      <td>13.0</td>\n",
       "      <td>0.3</td>\n",
       "      <td>0.2</td>\n",
       "      <td>0.2</td>\n",
       "      <td>0.1</td>\n",
       "      <td>14.7</td>\n",
       "      <td>6.8</td>\n",
       "      <td>0.3</td>\n",
       "      <td>0.5</td>\n",
       "      <td>3.7</td>\n",
       "      <td>10.3</td>\n",
       "      <td>0.1</td>\n",
       "    </tr>\n",
       "    <tr>\n",
       "      <th>1</th>\n",
       "      <td>NT</td>\n",
       "      <td>18.1</td>\n",
       "      <td>48.9</td>\n",
       "      <td>0.1</td>\n",
       "      <td>0.0</td>\n",
       "      <td>0.4</td>\n",
       "      <td>0.1</td>\n",
       "      <td>0.1</td>\n",
       "      <td>1.0</td>\n",
       "      <td>7.7</td>\n",
       "      <td>0.1</td>\n",
       "      <td>0.1</td>\n",
       "      <td>13.6</td>\n",
       "      <td>9.3</td>\n",
       "      <td>0.5</td>\n",
       "    </tr>\n",
       "    <tr>\n",
       "      <th>2</th>\n",
       "      <td>QL</td>\n",
       "      <td>9.5</td>\n",
       "      <td>45.3</td>\n",
       "      <td>1.6</td>\n",
       "      <td>0.1</td>\n",
       "      <td>1.1</td>\n",
       "      <td>0.1</td>\n",
       "      <td>0.0</td>\n",
       "      <td>5.3</td>\n",
       "      <td>13.3</td>\n",
       "      <td>0.3</td>\n",
       "      <td>0.1</td>\n",
       "      <td>12.0</td>\n",
       "      <td>11.0</td>\n",
       "      <td>0.3</td>\n",
       "    </tr>\n",
       "    <tr>\n",
       "      <th>3</th>\n",
       "      <td>SA</td>\n",
       "      <td>24.1</td>\n",
       "      <td>54.8</td>\n",
       "      <td>5.8</td>\n",
       "      <td>0.1</td>\n",
       "      <td>4.8</td>\n",
       "      <td>1.2</td>\n",
       "      <td>0.1</td>\n",
       "      <td>0.3</td>\n",
       "      <td>1.3</td>\n",
       "      <td>0.1</td>\n",
       "      <td>0.1</td>\n",
       "      <td>1.4</td>\n",
       "      <td>5.3</td>\n",
       "      <td>0.6</td>\n",
       "    </tr>\n",
       "    <tr>\n",
       "      <th>4</th>\n",
       "      <td>TA</td>\n",
       "      <td>0.7</td>\n",
       "      <td>23.8</td>\n",
       "      <td>1.2</td>\n",
       "      <td>0.2</td>\n",
       "      <td>0.1</td>\n",
       "      <td>1.9</td>\n",
       "      <td>1.4</td>\n",
       "      <td>50.1</td>\n",
       "      <td>0.6</td>\n",
       "      <td>1.1</td>\n",
       "      <td>7.2</td>\n",
       "      <td>1.5</td>\n",
       "      <td>7.2</td>\n",
       "      <td>3.0</td>\n",
       "    </tr>\n",
       "    <tr>\n",
       "      <th>5</th>\n",
       "      <td>WA</td>\n",
       "      <td>31.3</td>\n",
       "      <td>43.5</td>\n",
       "      <td>5.6</td>\n",
       "      <td>0.0</td>\n",
       "      <td>1.0</td>\n",
       "      <td>0.4</td>\n",
       "      <td>0.0</td>\n",
       "      <td>1.2</td>\n",
       "      <td>2.4</td>\n",
       "      <td>0.2</td>\n",
       "      <td>0.1</td>\n",
       "      <td>4.8</td>\n",
       "      <td>8.7</td>\n",
       "      <td>0.8</td>\n",
       "    </tr>\n",
       "    <tr>\n",
       "      <th>6</th>\n",
       "      <td>VI</td>\n",
       "      <td>1.4</td>\n",
       "      <td>35.0</td>\n",
       "      <td>23.3</td>\n",
       "      <td>1.0</td>\n",
       "      <td>0.1</td>\n",
       "      <td>0.6</td>\n",
       "      <td>0.3</td>\n",
       "      <td>23.9</td>\n",
       "      <td>3.8</td>\n",
       "      <td>0.3</td>\n",
       "      <td>1.5</td>\n",
       "      <td>2.7</td>\n",
       "      <td>5.2</td>\n",
       "      <td>0.9</td>\n",
       "    </tr>\n",
       "  </tbody>\n",
       "</table>\n",
       "</div>"
      ],
      "text/plain": [
       "  Region  Shrubs  Herbaceous vegetation  \\\n",
       "0    NSW     6.2                   43.6   \n",
       "1     NT    18.1                   48.9   \n",
       "2     QL     9.5                   45.3   \n",
       "3     SA    24.1                   54.8   \n",
       "4     TA     0.7                   23.8   \n",
       "5     WA    31.3                   43.5   \n",
       "6     VI     1.4                   35.0   \n",
       "\n",
       "   Cultivated and managed vegetation/agriculture (cropland)  Urban / built up  \\\n",
       "0                                               13.0                      0.3   \n",
       "1                                                0.1                      0.0   \n",
       "2                                                1.6                      0.1   \n",
       "3                                                5.8                      0.1   \n",
       "4                                                1.2                      0.2   \n",
       "5                                                5.6                      0.0   \n",
       "6                                               23.3                      1.0   \n",
       "\n",
       "   Bare / sparse vegetation  Permanent water bodies  Herbaceous wetland  \\\n",
       "0                       0.2                     0.2                 0.1   \n",
       "1                       0.4                     0.1                 0.1   \n",
       "2                       1.1                     0.1                 0.0   \n",
       "3                       4.8                     1.2                 0.1   \n",
       "4                       0.1                     1.9                 1.4   \n",
       "5                       1.0                     0.4                 0.0   \n",
       "6                       0.1                     0.6                 0.3   \n",
       "\n",
       "   Closed forest, evergreen, broad leaf  Closed forest, deciduous broad leaf  \\\n",
       "0                                  14.7                                  6.8   \n",
       "1                                   1.0                                  7.7   \n",
       "2                                   5.3                                 13.3   \n",
       "3                                   0.3                                  1.3   \n",
       "4                                  50.1                                  0.6   \n",
       "5                                   1.2                                  2.4   \n",
       "6                                  23.9                                  3.8   \n",
       "\n",
       "   Closed forest, unknown  Open forest, evergreen broad leaf  \\\n",
       "0                     0.3                                0.5   \n",
       "1                     0.1                                0.1   \n",
       "2                     0.3                                0.1   \n",
       "3                     0.1                                0.1   \n",
       "4                     1.1                                7.2   \n",
       "5                     0.2                                0.1   \n",
       "6                     0.3                                1.5   \n",
       "\n",
       "   Open forest, deciduous broad leaf  Open forest, unknown definitions  \\\n",
       "0                                3.7                              10.3   \n",
       "1                               13.6                               9.3   \n",
       "2                               12.0                              11.0   \n",
       "3                                1.4                               5.3   \n",
       "4                                1.5                               7.2   \n",
       "5                                4.8                               8.7   \n",
       "6                                2.7                               5.2   \n",
       "\n",
       "   Open sea  \n",
       "0       0.1  \n",
       "1       0.5  \n",
       "2       0.3  \n",
       "3       0.6  \n",
       "4       3.0  \n",
       "5       0.8  \n",
       "6       0.9  "
      ]
     },
     "execution_count": 11,
     "metadata": {},
     "output_type": "execute_result"
    }
   ],
   "source": [
    "LandClass"
   ]
  },
  {
   "cell_type": "markdown",
   "metadata": {},
   "source": [
    "#### The row is monthly basis"
   ]
  },
  {
   "cell_type": "markdown",
   "metadata": {},
   "source": [
    "##### A Vegetation Index (VI) is a spectral transformation of two or more bands designed to enhance the contribution of vegetation properties and allow reliable spatial and temporal inter-comparisons of terrestrial photosynthetic activity and canopy structural variations"
   ]
  },
  {
   "cell_type": "code",
   "execution_count": 12,
   "metadata": {
    "scrolled": true
   },
   "outputs": [
    {
     "data": {
      "text/html": [
       "<div>\n",
       "<style scoped>\n",
       "    .dataframe tbody tr th:only-of-type {\n",
       "        vertical-align: middle;\n",
       "    }\n",
       "\n",
       "    .dataframe tbody tr th {\n",
       "        vertical-align: top;\n",
       "    }\n",
       "\n",
       "    .dataframe thead th {\n",
       "        text-align: right;\n",
       "    }\n",
       "</style>\n",
       "<table border=\"1\" class=\"dataframe\">\n",
       "  <thead>\n",
       "    <tr style=\"text-align: right;\">\n",
       "      <th></th>\n",
       "      <th>Region</th>\n",
       "      <th>Date</th>\n",
       "      <th>Vegetation_index_mean</th>\n",
       "      <th>Vegetation_index_max</th>\n",
       "      <th>Vegetation_index_min</th>\n",
       "      <th>Vegetation_index_std</th>\n",
       "      <th>Vegetation_index_variance</th>\n",
       "    </tr>\n",
       "  </thead>\n",
       "  <tbody>\n",
       "    <tr>\n",
       "      <th>0</th>\n",
       "      <td>NSW</td>\n",
       "      <td>1/1/2005</td>\n",
       "      <td>0.349202</td>\n",
       "      <td>0.9972</td>\n",
       "      <td>-0.2</td>\n",
       "      <td>0.204862</td>\n",
       "      <td>0.041968</td>\n",
       "    </tr>\n",
       "    <tr>\n",
       "      <th>1</th>\n",
       "      <td>NSW</td>\n",
       "      <td>2/1/2005</td>\n",
       "      <td>0.357403</td>\n",
       "      <td>0.9772</td>\n",
       "      <td>-0.2</td>\n",
       "      <td>0.208673</td>\n",
       "      <td>0.043544</td>\n",
       "    </tr>\n",
       "    <tr>\n",
       "      <th>2</th>\n",
       "      <td>NSW</td>\n",
       "      <td>3/1/2005</td>\n",
       "      <td>0.354087</td>\n",
       "      <td>0.9750</td>\n",
       "      <td>-0.2</td>\n",
       "      <td>0.209450</td>\n",
       "      <td>0.043869</td>\n",
       "    </tr>\n",
       "    <tr>\n",
       "      <th>3</th>\n",
       "      <td>NSW</td>\n",
       "      <td>4/1/2005</td>\n",
       "      <td>0.347242</td>\n",
       "      <td>0.9904</td>\n",
       "      <td>-0.2</td>\n",
       "      <td>0.207307</td>\n",
       "      <td>0.042976</td>\n",
       "    </tr>\n",
       "    <tr>\n",
       "      <th>4</th>\n",
       "      <td>NSW</td>\n",
       "      <td>5/1/2005</td>\n",
       "      <td>0.345526</td>\n",
       "      <td>0.9972</td>\n",
       "      <td>-0.2</td>\n",
       "      <td>0.202858</td>\n",
       "      <td>0.041151</td>\n",
       "    </tr>\n",
       "    <tr>\n",
       "      <th>5</th>\n",
       "      <td>NSW</td>\n",
       "      <td>6/1/2005</td>\n",
       "      <td>0.399652</td>\n",
       "      <td>0.9602</td>\n",
       "      <td>-0.2</td>\n",
       "      <td>0.188570</td>\n",
       "      <td>0.035559</td>\n",
       "    </tr>\n",
       "    <tr>\n",
       "      <th>6</th>\n",
       "      <td>NSW</td>\n",
       "      <td>7/1/2005</td>\n",
       "      <td>0.451143</td>\n",
       "      <td>0.9555</td>\n",
       "      <td>-0.2</td>\n",
       "      <td>0.174267</td>\n",
       "      <td>0.030369</td>\n",
       "    </tr>\n",
       "    <tr>\n",
       "      <th>7</th>\n",
       "      <td>NSW</td>\n",
       "      <td>8/1/2005</td>\n",
       "      <td>0.498218</td>\n",
       "      <td>0.9782</td>\n",
       "      <td>-0.2</td>\n",
       "      <td>0.181103</td>\n",
       "      <td>0.032798</td>\n",
       "    </tr>\n",
       "    <tr>\n",
       "      <th>8</th>\n",
       "      <td>NSW</td>\n",
       "      <td>9/1/2005</td>\n",
       "      <td>0.505553</td>\n",
       "      <td>0.9805</td>\n",
       "      <td>-0.2</td>\n",
       "      <td>0.204202</td>\n",
       "      <td>0.041698</td>\n",
       "    </tr>\n",
       "    <tr>\n",
       "      <th>9</th>\n",
       "      <td>NSW</td>\n",
       "      <td>10/1/2005</td>\n",
       "      <td>0.439443</td>\n",
       "      <td>0.9814</td>\n",
       "      <td>-0.2</td>\n",
       "      <td>0.214671</td>\n",
       "      <td>0.046084</td>\n",
       "    </tr>\n",
       "    <tr>\n",
       "      <th>10</th>\n",
       "      <td>NSW</td>\n",
       "      <td>11/1/2005</td>\n",
       "      <td>0.393166</td>\n",
       "      <td>0.9915</td>\n",
       "      <td>-0.2</td>\n",
       "      <td>0.206188</td>\n",
       "      <td>0.042513</td>\n",
       "    </tr>\n",
       "    <tr>\n",
       "      <th>11</th>\n",
       "      <td>NSW</td>\n",
       "      <td>12/1/2005</td>\n",
       "      <td>0.358580</td>\n",
       "      <td>0.9661</td>\n",
       "      <td>-0.2</td>\n",
       "      <td>0.192284</td>\n",
       "      <td>0.036973</td>\n",
       "    </tr>\n",
       "    <tr>\n",
       "      <th>12</th>\n",
       "      <td>NSW</td>\n",
       "      <td>1/1/2006</td>\n",
       "      <td>0.359218</td>\n",
       "      <td>0.9930</td>\n",
       "      <td>-0.2</td>\n",
       "      <td>0.206633</td>\n",
       "      <td>0.042697</td>\n",
       "    </tr>\n",
       "  </tbody>\n",
       "</table>\n",
       "</div>"
      ],
      "text/plain": [
       "   Region       Date  Vegetation_index_mean  Vegetation_index_max  \\\n",
       "0     NSW   1/1/2005               0.349202                0.9972   \n",
       "1     NSW   2/1/2005               0.357403                0.9772   \n",
       "2     NSW   3/1/2005               0.354087                0.9750   \n",
       "3     NSW   4/1/2005               0.347242                0.9904   \n",
       "4     NSW   5/1/2005               0.345526                0.9972   \n",
       "5     NSW   6/1/2005               0.399652                0.9602   \n",
       "6     NSW   7/1/2005               0.451143                0.9555   \n",
       "7     NSW   8/1/2005               0.498218                0.9782   \n",
       "8     NSW   9/1/2005               0.505553                0.9805   \n",
       "9     NSW  10/1/2005               0.439443                0.9814   \n",
       "10    NSW  11/1/2005               0.393166                0.9915   \n",
       "11    NSW  12/1/2005               0.358580                0.9661   \n",
       "12    NSW   1/1/2006               0.359218                0.9930   \n",
       "\n",
       "    Vegetation_index_min  Vegetation_index_std  Vegetation_index_variance  \n",
       "0                   -0.2              0.204862                   0.041968  \n",
       "1                   -0.2              0.208673                   0.043544  \n",
       "2                   -0.2              0.209450                   0.043869  \n",
       "3                   -0.2              0.207307                   0.042976  \n",
       "4                   -0.2              0.202858                   0.041151  \n",
       "5                   -0.2              0.188570                   0.035559  \n",
       "6                   -0.2              0.174267                   0.030369  \n",
       "7                   -0.2              0.181103                   0.032798  \n",
       "8                   -0.2              0.204202                   0.041698  \n",
       "9                   -0.2              0.214671                   0.046084  \n",
       "10                  -0.2              0.206188                   0.042513  \n",
       "11                  -0.2              0.192284                   0.036973  \n",
       "12                  -0.2              0.206633                   0.042697  "
      ]
     },
     "execution_count": 12,
     "metadata": {},
     "output_type": "execute_result"
    }
   ],
   "source": [
    "Vege.head(13)"
   ]
  },
  {
   "cell_type": "code",
   "execution_count": 13,
   "metadata": {},
   "outputs": [
    {
     "data": {
      "text/html": [
       "<div>\n",
       "<style scoped>\n",
       "    .dataframe tbody tr th:only-of-type {\n",
       "        vertical-align: middle;\n",
       "    }\n",
       "\n",
       "    .dataframe tbody tr th {\n",
       "        vertical-align: top;\n",
       "    }\n",
       "\n",
       "    .dataframe thead th {\n",
       "        text-align: right;\n",
       "    }\n",
       "</style>\n",
       "<table border=\"1\" class=\"dataframe\">\n",
       "  <thead>\n",
       "    <tr style=\"text-align: right;\">\n",
       "      <th></th>\n",
       "      <th>Region</th>\n",
       "      <th>Date</th>\n",
       "      <th>Vegetation_index_mean</th>\n",
       "      <th>Vegetation_index_max</th>\n",
       "      <th>Vegetation_index_min</th>\n",
       "      <th>Vegetation_index_std</th>\n",
       "      <th>Vegetation_index_variance</th>\n",
       "    </tr>\n",
       "  </thead>\n",
       "  <tbody>\n",
       "    <tr>\n",
       "      <th>1325</th>\n",
       "      <td>WA</td>\n",
       "      <td>6/1/2020</td>\n",
       "      <td>0.263760</td>\n",
       "      <td>0.9886</td>\n",
       "      <td>-0.2</td>\n",
       "      <td>0.129103</td>\n",
       "      <td>0.016667</td>\n",
       "    </tr>\n",
       "    <tr>\n",
       "      <th>1326</th>\n",
       "      <td>WA</td>\n",
       "      <td>7/1/2020</td>\n",
       "      <td>0.265321</td>\n",
       "      <td>0.9941</td>\n",
       "      <td>-0.2</td>\n",
       "      <td>0.148663</td>\n",
       "      <td>0.022101</td>\n",
       "    </tr>\n",
       "    <tr>\n",
       "      <th>1327</th>\n",
       "      <td>WA</td>\n",
       "      <td>8/1/2020</td>\n",
       "      <td>0.255785</td>\n",
       "      <td>0.9692</td>\n",
       "      <td>-0.2</td>\n",
       "      <td>0.155347</td>\n",
       "      <td>0.024133</td>\n",
       "    </tr>\n",
       "    <tr>\n",
       "      <th>1328</th>\n",
       "      <td>WA</td>\n",
       "      <td>9/1/2020</td>\n",
       "      <td>0.234510</td>\n",
       "      <td>0.9849</td>\n",
       "      <td>-0.2</td>\n",
       "      <td>0.126898</td>\n",
       "      <td>0.016103</td>\n",
       "    </tr>\n",
       "    <tr>\n",
       "      <th>1329</th>\n",
       "      <td>WA</td>\n",
       "      <td>10/1/2020</td>\n",
       "      <td>0.213640</td>\n",
       "      <td>0.9782</td>\n",
       "      <td>-0.2</td>\n",
       "      <td>0.099860</td>\n",
       "      <td>0.009972</td>\n",
       "    </tr>\n",
       "  </tbody>\n",
       "</table>\n",
       "</div>"
      ],
      "text/plain": [
       "     Region       Date  Vegetation_index_mean  Vegetation_index_max  \\\n",
       "1325     WA   6/1/2020               0.263760                0.9886   \n",
       "1326     WA   7/1/2020               0.265321                0.9941   \n",
       "1327     WA   8/1/2020               0.255785                0.9692   \n",
       "1328     WA   9/1/2020               0.234510                0.9849   \n",
       "1329     WA  10/1/2020               0.213640                0.9782   \n",
       "\n",
       "      Vegetation_index_min  Vegetation_index_std  Vegetation_index_variance  \n",
       "1325                  -0.2              0.129103                   0.016667  \n",
       "1326                  -0.2              0.148663                   0.022101  \n",
       "1327                  -0.2              0.155347                   0.024133  \n",
       "1328                  -0.2              0.126898                   0.016103  \n",
       "1329                  -0.2              0.099860                   0.009972  "
      ]
     },
     "execution_count": 13,
     "metadata": {},
     "output_type": "execute_result"
    }
   ],
   "source": [
    "Vege.tail()"
   ]
  },
  {
   "cell_type": "code",
   "execution_count": 14,
   "metadata": {},
   "outputs": [
    {
     "data": {
      "text/plain": [
       "Region                                  object\n",
       "Date                                    object\n",
       "Estimated_fire_area                    float64\n",
       "Mean_estimated_fire_brightness         float64\n",
       "Mean_estimated_fire_radiative_power    float64\n",
       "Mean_confidence                        float64\n",
       "Std_confidence                         float64\n",
       "Var_confidence                         float64\n",
       "Count                                    int64\n",
       "Replaced                                object\n",
       "dtype: object"
      ]
     },
     "execution_count": 14,
     "metadata": {},
     "output_type": "execute_result"
    }
   ],
   "source": [
    "H_Wildfires.dtypes"
   ]
  },
  {
   "cell_type": "code",
   "execution_count": 15,
   "metadata": {},
   "outputs": [],
   "source": [
    "from scipy.stats import norm"
   ]
  },
  {
   "cell_type": "code",
   "execution_count": 16,
   "metadata": {},
   "outputs": [
    {
     "data": {
      "image/png": "[encoded data removed]",
      "text/plain": [
       "<Figure size 432x288 with 1 Axes>"
      ]
     },
     "metadata": {
      "needs_background": "light"
     },
     "output_type": "display_data"
    }
   ],
   "source": [
    "plt.hist(H_Wildfires.Estimated_fire_area, density=True)\n",
    "mean,std = norm.fit (H_Wildfires.Estimated_fire_area)\n",
    "x = np.linspace(H_Wildfires.Estimated_fire_area.min(),H_Wildfires.Estimated_fire_area.max(),100)\n",
    "y = norm.pdf(x, mean, std)\n",
    "plt.plot(x,y)\n",
    "plt.title('H_Wildfires.Estimated_fire_area')\n",
    "plt.show()"
   ]
  },
  {
   "cell_type": "markdown",
   "metadata": {},
   "source": [
    "#### It is reasonable that large area is affected by fire."
   ]
  },
  {
   "cell_type": "code",
   "execution_count": 17,
   "metadata": {},
   "outputs": [
    {
     "data": {
      "text/plain": [
       "6706     10120.943170\n",
       "23537     8451.287070\n",
       "23538     6761.264876\n",
       "25356     6203.754148\n",
       "23536     6025.035206\n",
       "6707      5818.988535\n",
       "23535     5722.408968\n",
       "4337      5183.713045\n",
       "6709      5035.357648\n",
       "6717      4997.535176\n",
       "Name: Estimated_fire_area, dtype: float64"
      ]
     },
     "execution_count": 17,
     "metadata": {},
     "output_type": "execute_result"
    }
   ],
   "source": [
    "H_Wildfires.Estimated_fire_area.nlargest(10)"
   ]
  },
  {
   "cell_type": "markdown",
   "metadata": {},
   "source": [
    "### Doubts on 24/Nov/2020 by Huijo\n",
    "[Done]1. How to deal with 'Date' Format? \n",
    "\n",
    "2. How to use different source of input data\n",
    "\n",
    "[Done]3. Is it right to feed all input such as confidence of Mean/Std/Var\n",
    "\n",
    "[Done]4. What is replaced in the History of Wildfires?\n",
    "\n",
    "[Done]5. Should we split input based on Region and train them separately?\n",
    "\n",
    "[Done]6. What is the purpose of History of weather forcast and why there are only 4 parameters?"
   ]
  },
  {
   "cell_type": "code",
   "execution_count": 18,
   "metadata": {},
   "outputs": [
    {
     "data": {
      "text/plain": [
       "Index(['Region', 'Date', 'Estimated_fire_area',\n",
       "       'Mean_estimated_fire_brightness', 'Mean_estimated_fire_radiative_power',\n",
       "       'Mean_confidence', 'Std_confidence', 'Var_confidence', 'Count',\n",
       "       'Replaced'],\n",
       "      dtype='object')"
      ]
     },
     "execution_count": 18,
     "metadata": {},
     "output_type": "execute_result"
    }
   ],
   "source": [
    "H_Wildfires.columns"
   ]
  },
  {
   "cell_type": "markdown",
   "metadata": {},
   "source": [
    "#### There are null values in Std_confidence & Var_confidence column"
   ]
  },
  {
   "cell_type": "code",
   "execution_count": 19,
   "metadata": {},
   "outputs": [
    {
     "name": "stdout",
     "output_type": "stream",
     "text": [
      "No Null in Region column\n",
      "No Null in Date column\n",
      "No Null in Estimated_fire_area column\n",
      "No Null in Mean_estimated_fire_brightness column\n",
      "No Null in Mean_estimated_fire_radiative_power column\n",
      "No Null in Mean_confidence column\n",
      "There is null in Std_confidence column\n",
      "There is null in Var_confidence column\n",
      "No Null in Count column\n",
      "No Null in Replaced column\n",
      "Columns with null: ['Std_confidence', 'Var_confidence']\n"
     ]
    }
   ],
   "source": [
    "H_Wildfires_Null = []\n",
    "for i in H_Wildfires.columns:\n",
    "    if H_Wildfires[i].isnull().sum() != 0:\n",
    "        print('There is null in {} column'.format(i))\n",
    "        H_Wildfires_Null.append(i)\n",
    "    else:\n",
    "        print('No Null in {} column'.format(i))\n",
    "print('Columns with null:',H_Wildfires_Null)"
   ]
  },
  {
   "cell_type": "code",
   "execution_count": 20,
   "metadata": {},
   "outputs": [
    {
     "name": "stdout",
     "output_type": "stream",
     "text": [
      "<class 'pandas.core.frame.DataFrame'>\n",
      "RangeIndex: 26406 entries, 0 to 26405\n",
      "Data columns (total 10 columns):\n",
      "Region                                 26406 non-null object\n",
      "Date                                   26406 non-null object\n",
      "Estimated_fire_area                    26406 non-null float64\n",
      "Mean_estimated_fire_brightness         26406 non-null float64\n",
      "Mean_estimated_fire_radiative_power    26406 non-null float64\n",
      "Mean_confidence                        26406 non-null float64\n",
      "Std_confidence                         24199 non-null float64\n",
      "Var_confidence                         24199 non-null float64\n",
      "Count                                  26406 non-null int64\n",
      "Replaced                               26406 non-null object\n",
      "dtypes: float64(6), int64(1), object(3)\n",
      "memory usage: 2.0+ MB\n"
     ]
    }
   ],
   "source": [
    "H_Wildfires.info()"
   ]
  },
  {
   "cell_type": "markdown",
   "metadata": {},
   "source": [
    "#### If Std is null, Var is also null"
   ]
  },
  {
   "cell_type": "code",
   "execution_count": 21,
   "metadata": {},
   "outputs": [
    {
     "data": {
      "text/plain": [
       "96       0.0\n",
       "185      0.0\n",
       "231      0.0\n",
       "239      0.0\n",
       "272      0.0\n",
       "        ... \n",
       "21192    0.0\n",
       "23076    0.0\n",
       "23675    0.0\n",
       "23999    0.0\n",
       "24706    0.0\n",
       "Name: Std_confidence, Length: 181, dtype: float64"
      ]
     },
     "execution_count": 21,
     "metadata": {},
     "output_type": "execute_result"
    }
   ],
   "source": [
    "H_Wildfires['Std_confidence'][H_Wildfires['Std_confidence']==False]"
   ]
  },
  {
   "cell_type": "code",
   "execution_count": 22,
   "metadata": {},
   "outputs": [
    {
     "data": {
      "text/plain": [
       "96       0.0\n",
       "185      0.0\n",
       "231      0.0\n",
       "239      0.0\n",
       "272      0.0\n",
       "        ... \n",
       "21192    0.0\n",
       "23076    0.0\n",
       "23675    0.0\n",
       "23999    0.0\n",
       "24706    0.0\n",
       "Name: Var_confidence, Length: 181, dtype: float64"
      ]
     },
     "execution_count": 22,
     "metadata": {},
     "output_type": "execute_result"
    }
   ],
   "source": [
    "H_Wildfires['Var_confidence'][H_Wildfires['Var_confidence']==False]"
   ]
  },
  {
   "cell_type": "markdown",
   "metadata": {},
   "source": [
    "### Delete rows with zero confidence"
   ]
  },
  {
   "cell_type": "code",
   "execution_count": 23,
   "metadata": {},
   "outputs": [],
   "source": [
    "H_Wildfires2=H_Wildfires.copy()"
   ]
  },
  {
   "cell_type": "code",
   "execution_count": 24,
   "metadata": {
    "scrolled": false
   },
   "outputs": [],
   "source": [
    "H_Wildfires = H_Wildfires.dropna() "
   ]
  },
  {
   "cell_type": "code",
   "execution_count": 25,
   "metadata": {},
   "outputs": [
    {
     "name": "stdout",
     "output_type": "stream",
     "text": [
      "<class 'pandas.core.frame.DataFrame'>\n",
      "RangeIndex: 242781 entries, 0 to 242780\n",
      "Data columns (total 8 columns):\n",
      "Date                   242781 non-null object\n",
      "Region                 242781 non-null object\n",
      "Parameter              242781 non-null object\n",
      "count()[unit: km^2]    242781 non-null float64\n",
      "min()                  242781 non-null float64\n",
      "max()                  242781 non-null float64\n",
      "mean()                 242781 non-null float64\n",
      "variance()             242781 non-null float64\n",
      "dtypes: float64(5), object(3)\n",
      "memory usage: 14.8+ MB\n"
     ]
    }
   ],
   "source": [
    "H_Weather.info()"
   ]
  },
  {
   "cell_type": "code",
   "execution_count": 26,
   "metadata": {},
   "outputs": [
    {
     "name": "stdout",
     "output_type": "stream",
     "text": [
      "No Null in Date column\n",
      "No Null in Region column\n",
      "No Null in Parameter column\n",
      "No Null in count()[unit: km^2] column\n",
      "No Null in min() column\n",
      "No Null in max() column\n",
      "No Null in mean() column\n",
      "No Null in variance() column\n",
      "Columns with null: []\n"
     ]
    }
   ],
   "source": [
    "H_Weather_Null = []\n",
    "for i in H_Weather.columns:\n",
    "    if H_Weather[i].isnull().sum() != 0:\n",
    "        print('There is null in {} column'.format(i))\n",
    "        H_Weather_Null.append(i)\n",
    "    else:\n",
    "        print('No Null in {} column'.format(i))\n",
    "print('Columns with null:',H_Weather_Null)"
   ]
  },
  {
   "cell_type": "code",
   "execution_count": 27,
   "metadata": {},
   "outputs": [
    {
     "name": "stdout",
     "output_type": "stream",
     "text": [
      "No Null in Date column\n",
      "No Null in Region column\n",
      "No Null in Parameter column\n",
      "No Null in Lead time column\n",
      "No Null in count()[unit: km^2] column\n",
      "No Null in min() column\n",
      "No Null in max() column\n",
      "No Null in mean() column\n",
      "No Null in variance() column\n",
      "Columns with null: []\n"
     ]
    }
   ],
   "source": [
    "H_Weather_Fc_Null = []\n",
    "for i in H_Weather_Fc.columns:\n",
    "    if H_Weather_Fc[i].isnull().sum() != 0:\n",
    "        print('There is null in {} column'.format(i))\n",
    "        H_Weather_Fc_Null.append(i)\n",
    "    else:\n",
    "        print('No Null in {} column'.format(i))\n",
    "print('Columns with null:',H_Weather_Fc_Null)"
   ]
  },
  {
   "cell_type": "code",
   "execution_count": 28,
   "metadata": {},
   "outputs": [
    {
     "name": "stdout",
     "output_type": "stream",
     "text": [
      "No Null in Region column\n",
      "No Null in Date column\n",
      "No Null in Vegetation_index_mean column\n",
      "No Null in Vegetation_index_max column\n",
      "No Null in Vegetation_index_min column\n",
      "No Null in Vegetation_index_std column\n",
      "No Null in Vegetation_index_variance column\n",
      "Columns with null: []\n"
     ]
    }
   ],
   "source": [
    "Vege_Null = []\n",
    "for i in Vege.columns:\n",
    "    if Vege[i].isnull().sum() != 0:\n",
    "        print('There is null in {} column'.format(i))\n",
    "        Vege_Null.append(i)\n",
    "    else:\n",
    "        print('No Null in {} column'.format(i))\n",
    "print('Columns with null:',Vege_Null)"
   ]
  },
  {
   "cell_type": "code",
   "execution_count": 29,
   "metadata": {
    "scrolled": true
   },
   "outputs": [
    {
     "data": {
      "text/plain": [
       "Index(['Region', 'Date', 'Estimated_fire_area',\n",
       "       'Mean_estimated_fire_brightness', 'Mean_estimated_fire_radiative_power',\n",
       "       'Mean_confidence', 'Std_confidence', 'Var_confidence', 'Count',\n",
       "       'Replaced'],\n",
       "      dtype='object')"
      ]
     },
     "execution_count": 29,
     "metadata": {},
     "output_type": "execute_result"
    }
   ],
   "source": [
    "H_Wildfires.columns"
   ]
  },
  {
   "cell_type": "code",
   "execution_count": 30,
   "metadata": {
    "scrolled": true
   },
   "outputs": [
    {
     "data": {
      "text/plain": [
       "Region                                  object\n",
       "Date                                    object\n",
       "Estimated_fire_area                    float64\n",
       "Mean_estimated_fire_brightness         float64\n",
       "Mean_estimated_fire_radiative_power    float64\n",
       "Mean_confidence                        float64\n",
       "Std_confidence                         float64\n",
       "Var_confidence                         float64\n",
       "Count                                    int64\n",
       "Replaced                                object\n",
       "dtype: object"
      ]
     },
     "execution_count": 30,
     "metadata": {},
     "output_type": "execute_result"
    }
   ],
   "source": [
    "H_Wildfires.dtypes"
   ]
  },
  {
   "cell_type": "code",
   "execution_count": 31,
   "metadata": {
    "scrolled": true
   },
   "outputs": [
    {
     "data": {
      "text/plain": [
       "Index(['Estimated_fire_area', 'Mean_estimated_fire_brightness',\n",
       "       'Mean_estimated_fire_radiative_power', 'Mean_confidence',\n",
       "       'Std_confidence', 'Var_confidence', 'Count'],\n",
       "      dtype='object')"
      ]
     },
     "execution_count": 31,
     "metadata": {},
     "output_type": "execute_result"
    }
   ],
   "source": [
    "H_Wildfires.dtypes[H_Wildfires.dtypes!=object].index"
   ]
  },
  {
   "cell_type": "code",
   "execution_count": 32,
   "metadata": {
    "scrolled": true
   },
   "outputs": [
    {
     "data": {
      "text/html": [
       "<div>\n",
       "<style scoped>\n",
       "    .dataframe tbody tr th:only-of-type {\n",
       "        vertical-align: middle;\n",
       "    }\n",
       "\n",
       "    .dataframe tbody tr th {\n",
       "        vertical-align: top;\n",
       "    }\n",
       "\n",
       "    .dataframe thead th {\n",
       "        text-align: right;\n",
       "    }\n",
       "</style>\n",
       "<table border=\"1\" class=\"dataframe\">\n",
       "  <thead>\n",
       "    <tr style=\"text-align: right;\">\n",
       "      <th></th>\n",
       "      <th>Estimated_fire_area</th>\n",
       "      <th>Mean_estimated_fire_brightness</th>\n",
       "      <th>Mean_estimated_fire_radiative_power</th>\n",
       "      <th>Mean_confidence</th>\n",
       "      <th>Std_confidence</th>\n",
       "      <th>Var_confidence</th>\n",
       "      <th>Count</th>\n",
       "    </tr>\n",
       "  </thead>\n",
       "  <tbody>\n",
       "    <tr>\n",
       "      <th>0</th>\n",
       "      <td>8.680000</td>\n",
       "      <td>312.266667</td>\n",
       "      <td>42.400000</td>\n",
       "      <td>78.666667</td>\n",
       "      <td>2.886751</td>\n",
       "      <td>8.333333</td>\n",
       "      <td>3</td>\n",
       "    </tr>\n",
       "    <tr>\n",
       "      <th>1</th>\n",
       "      <td>16.611250</td>\n",
       "      <td>322.475000</td>\n",
       "      <td>62.362500</td>\n",
       "      <td>85.500000</td>\n",
       "      <td>8.088793</td>\n",
       "      <td>65.428571</td>\n",
       "      <td>8</td>\n",
       "    </tr>\n",
       "    <tr>\n",
       "      <th>2</th>\n",
       "      <td>5.520000</td>\n",
       "      <td>325.266667</td>\n",
       "      <td>38.400000</td>\n",
       "      <td>78.333333</td>\n",
       "      <td>3.214550</td>\n",
       "      <td>10.333333</td>\n",
       "      <td>3</td>\n",
       "    </tr>\n",
       "    <tr>\n",
       "      <th>3</th>\n",
       "      <td>6.264000</td>\n",
       "      <td>313.870000</td>\n",
       "      <td>33.800000</td>\n",
       "      <td>92.200000</td>\n",
       "      <td>7.529940</td>\n",
       "      <td>56.700000</td>\n",
       "      <td>5</td>\n",
       "    </tr>\n",
       "    <tr>\n",
       "      <th>4</th>\n",
       "      <td>5.400000</td>\n",
       "      <td>337.383333</td>\n",
       "      <td>122.533333</td>\n",
       "      <td>91.000000</td>\n",
       "      <td>7.937254</td>\n",
       "      <td>63.000000</td>\n",
       "      <td>3</td>\n",
       "    </tr>\n",
       "    <tr>\n",
       "      <th>...</th>\n",
       "      <td>...</td>\n",
       "      <td>...</td>\n",
       "      <td>...</td>\n",
       "      <td>...</td>\n",
       "      <td>...</td>\n",
       "      <td>...</td>\n",
       "      <td>...</td>\n",
       "    </tr>\n",
       "    <tr>\n",
       "      <th>26401</th>\n",
       "      <td>32.970000</td>\n",
       "      <td>324.068182</td>\n",
       "      <td>103.318182</td>\n",
       "      <td>84.363636</td>\n",
       "      <td>5.277741</td>\n",
       "      <td>27.854545</td>\n",
       "      <td>11</td>\n",
       "    </tr>\n",
       "    <tr>\n",
       "      <th>26402</th>\n",
       "      <td>20.840625</td>\n",
       "      <td>314.425000</td>\n",
       "      <td>37.256250</td>\n",
       "      <td>88.312500</td>\n",
       "      <td>8.121730</td>\n",
       "      <td>65.962500</td>\n",
       "      <td>16</td>\n",
       "    </tr>\n",
       "    <tr>\n",
       "      <th>26403</th>\n",
       "      <td>136.083077</td>\n",
       "      <td>323.588461</td>\n",
       "      <td>294.102564</td>\n",
       "      <td>92.974359</td>\n",
       "      <td>8.282789</td>\n",
       "      <td>68.604588</td>\n",
       "      <td>39</td>\n",
       "    </tr>\n",
       "    <tr>\n",
       "      <th>26404</th>\n",
       "      <td>42.397895</td>\n",
       "      <td>324.205263</td>\n",
       "      <td>54.994737</td>\n",
       "      <td>89.631579</td>\n",
       "      <td>8.461107</td>\n",
       "      <td>71.590327</td>\n",
       "      <td>38</td>\n",
       "    </tr>\n",
       "    <tr>\n",
       "      <th>26405</th>\n",
       "      <td>107.370851</td>\n",
       "      <td>330.057447</td>\n",
       "      <td>201.625532</td>\n",
       "      <td>92.978723</td>\n",
       "      <td>7.266628</td>\n",
       "      <td>52.803885</td>\n",
       "      <td>47</td>\n",
       "    </tr>\n",
       "  </tbody>\n",
       "</table>\n",
       "<p>24199 rows × 7 columns</p>\n",
       "</div>"
      ],
      "text/plain": [
       "       Estimated_fire_area  Mean_estimated_fire_brightness  \\\n",
       "0                 8.680000                      312.266667   \n",
       "1                16.611250                      322.475000   \n",
       "2                 5.520000                      325.266667   \n",
       "3                 6.264000                      313.870000   \n",
       "4                 5.400000                      337.383333   \n",
       "...                    ...                             ...   \n",
       "26401            32.970000                      324.068182   \n",
       "26402            20.840625                      314.425000   \n",
       "26403           136.083077                      323.588461   \n",
       "26404            42.397895                      324.205263   \n",
       "26405           107.370851                      330.057447   \n",
       "\n",
       "       Mean_estimated_fire_radiative_power  Mean_confidence  Std_confidence  \\\n",
       "0                                42.400000        78.666667        2.886751   \n",
       "1                                62.362500        85.500000        8.088793   \n",
       "2                                38.400000        78.333333        3.214550   \n",
       "3                                33.800000        92.200000        7.529940   \n",
       "4                               122.533333        91.000000        7.937254   \n",
       "...                                    ...              ...             ...   \n",
       "26401                           103.318182        84.363636        5.277741   \n",
       "26402                            37.256250        88.312500        8.121730   \n",
       "26403                           294.102564        92.974359        8.282789   \n",
       "26404                            54.994737        89.631579        8.461107   \n",
       "26405                           201.625532        92.978723        7.266628   \n",
       "\n",
       "       Var_confidence  Count  \n",
       "0            8.333333      3  \n",
       "1           65.428571      8  \n",
       "2           10.333333      3  \n",
       "3           56.700000      5  \n",
       "4           63.000000      3  \n",
       "...               ...    ...  \n",
       "26401       27.854545     11  \n",
       "26402       65.962500     16  \n",
       "26403       68.604588     39  \n",
       "26404       71.590327     38  \n",
       "26405       52.803885     47  \n",
       "\n",
       "[24199 rows x 7 columns]"
      ]
     },
     "execution_count": 32,
     "metadata": {},
     "output_type": "execute_result"
    }
   ],
   "source": [
    "H_Wildfires[H_Wildfires.dtypes[H_Wildfires.dtypes!=object].index]"
   ]
  },
  {
   "cell_type": "markdown",
   "metadata": {},
   "source": [
    "#### one of two input will be necessary in Std&Var to improve computation\n",
    "I will keep Var and discard Std"
   ]
  },
  {
   "cell_type": "code",
   "execution_count": 33,
   "metadata": {},
   "outputs": [
    {
     "data": {
      "text/plain": [
       "-1.218847339584661e-07"
      ]
     },
     "execution_count": 33,
     "metadata": {},
     "output_type": "execute_result"
    }
   ],
   "source": [
    "(H_Wildfires.Var_confidence-H_Wildfires.Std_confidence**2).sum()"
   ]
  },
  {
   "cell_type": "code",
   "execution_count": 34,
   "metadata": {
    "scrolled": true
   },
   "outputs": [],
   "source": [
    "H_Wildfires=H_Wildfires.drop(columns='Std_confidence')"
   ]
  },
  {
   "cell_type": "markdown",
   "metadata": {},
   "source": [
    "### Data distribution of History of Wildfires"
   ]
  },
  {
   "cell_type": "code",
   "execution_count": 35,
   "metadata": {},
   "outputs": [
    {
     "data": {
      "text/plain": [
       "<matplotlib.axes._subplots.AxesSubplot at 0x1df7d2a2860>"
      ]
     },
     "execution_count": 35,
     "metadata": {},
     "output_type": "execute_result"
    },
    {
     "data": {
      "image/png": "[encoded data removed]",
      "text/plain": [
       "<Figure size 1584x432 with 1 Axes>"
      ]
     },
     "metadata": {},
     "output_type": "display_data"
    }
   ],
   "source": [
    "from seaborn import set_theme\n",
    "sns.set_theme(style=\"whitegrid\")\n",
    "plt.figure(figsize=(22, 6))\n",
    "sns.boxenplot(color=\"b\", order=list(H_Wildfires.columns[H_Wildfires.dtypes != object]),\n",
    "              scale=\"linear\", saturation=0.7, \n",
    "    width=0.6,data=H_Wildfires[H_Wildfires.dtypes[H_Wildfires.dtypes != object].index])"
   ]
  },
  {
   "cell_type": "markdown",
   "metadata": {},
   "source": [
    "## Target of Prediction"
   ]
  },
  {
   "cell_type": "code",
   "execution_count": 36,
   "metadata": {},
   "outputs": [
    {
     "data": {
      "text/html": [
       "<div>\n",
       "<style scoped>\n",
       "    .dataframe tbody tr th:only-of-type {\n",
       "        vertical-align: middle;\n",
       "    }\n",
       "\n",
       "    .dataframe tbody tr th {\n",
       "        vertical-align: top;\n",
       "    }\n",
       "\n",
       "    .dataframe thead th {\n",
       "        text-align: right;\n",
       "    }\n",
       "</style>\n",
       "<table border=\"1\" class=\"dataframe\">\n",
       "  <thead>\n",
       "    <tr style=\"text-align: right;\">\n",
       "      <th></th>\n",
       "      <th>Region</th>\n",
       "      <th>Date</th>\n",
       "      <th>Estimated_fire_area</th>\n",
       "    </tr>\n",
       "  </thead>\n",
       "  <tbody>\n",
       "    <tr>\n",
       "      <th>0</th>\n",
       "      <td>NWS</td>\n",
       "      <td>1-Feb</td>\n",
       "      <td>25.138971</td>\n",
       "    </tr>\n",
       "    <tr>\n",
       "      <th>1</th>\n",
       "      <td>NWS</td>\n",
       "      <td>2-Feb</td>\n",
       "      <td>131.277615</td>\n",
       "    </tr>\n",
       "    <tr>\n",
       "      <th>2</th>\n",
       "      <td>NWS</td>\n",
       "      <td>3-Feb</td>\n",
       "      <td>16.896662</td>\n",
       "    </tr>\n",
       "    <tr>\n",
       "      <th>3</th>\n",
       "      <td>NWS</td>\n",
       "      <td>4-Feb</td>\n",
       "      <td>30.512019</td>\n",
       "    </tr>\n",
       "    <tr>\n",
       "      <th>4</th>\n",
       "      <td>NWS</td>\n",
       "      <td>5-Feb</td>\n",
       "      <td>16.888861</td>\n",
       "    </tr>\n",
       "    <tr>\n",
       "      <th>...</th>\n",
       "      <td>...</td>\n",
       "      <td>...</td>\n",
       "      <td>...</td>\n",
       "    </tr>\n",
       "    <tr>\n",
       "      <th>191</th>\n",
       "      <td>WA</td>\n",
       "      <td>24-Feb</td>\n",
       "      <td>19746.548770</td>\n",
       "    </tr>\n",
       "    <tr>\n",
       "      <th>192</th>\n",
       "      <td>WA</td>\n",
       "      <td>25-Feb</td>\n",
       "      <td>1756.130410</td>\n",
       "    </tr>\n",
       "    <tr>\n",
       "      <th>193</th>\n",
       "      <td>WA</td>\n",
       "      <td>26-Feb</td>\n",
       "      <td>26212.876470</td>\n",
       "    </tr>\n",
       "    <tr>\n",
       "      <th>194</th>\n",
       "      <td>WA</td>\n",
       "      <td>27-Feb</td>\n",
       "      <td>5755.467588</td>\n",
       "    </tr>\n",
       "    <tr>\n",
       "      <th>195</th>\n",
       "      <td>WA</td>\n",
       "      <td>28-Feb</td>\n",
       "      <td>13139.115530</td>\n",
       "    </tr>\n",
       "  </tbody>\n",
       "</table>\n",
       "<p>196 rows × 3 columns</p>\n",
       "</div>"
      ],
      "text/plain": [
       "    Region    Date  Estimated_fire_area\n",
       "0      NWS   1-Feb            25.138971\n",
       "1      NWS   2-Feb           131.277615\n",
       "2      NWS   3-Feb            16.896662\n",
       "3      NWS   4-Feb            30.512019\n",
       "4      NWS   5-Feb            16.888861\n",
       "..     ...     ...                  ...\n",
       "191     WA  24-Feb         19746.548770\n",
       "192     WA  25-Feb          1756.130410\n",
       "193     WA  26-Feb         26212.876470\n",
       "194     WA  27-Feb          5755.467588\n",
       "195     WA  28-Feb         13139.115530\n",
       "\n",
       "[196 rows x 3 columns]"
      ]
     },
     "execution_count": 36,
     "metadata": {},
     "output_type": "execute_result"
    }
   ],
   "source": [
    "Sample = pd.read_csv(r'..\\data\\submission-example.csv')\n",
    "Sample"
   ]
  },
  {
   "cell_type": "code",
   "execution_count": 37,
   "metadata": {},
   "outputs": [
    {
     "data": {
      "text/html": [
       "<div>\n",
       "<style scoped>\n",
       "    .dataframe tbody tr th:only-of-type {\n",
       "        vertical-align: middle;\n",
       "    }\n",
       "\n",
       "    .dataframe tbody tr th {\n",
       "        vertical-align: top;\n",
       "    }\n",
       "\n",
       "    .dataframe thead th {\n",
       "        text-align: right;\n",
       "    }\n",
       "</style>\n",
       "<table border=\"1\" class=\"dataframe\">\n",
       "  <thead>\n",
       "    <tr style=\"text-align: right;\">\n",
       "      <th></th>\n",
       "      <th>Date</th>\n",
       "      <th>Region</th>\n",
       "      <th>Parameter</th>\n",
       "      <th>count()[unit: km^2]</th>\n",
       "      <th>min()</th>\n",
       "      <th>max()</th>\n",
       "      <th>mean()</th>\n",
       "      <th>variance()</th>\n",
       "    </tr>\n",
       "  </thead>\n",
       "  <tbody>\n",
       "    <tr>\n",
       "      <th>242773</th>\n",
       "      <td>2020-10-31</td>\n",
       "      <td>VI</td>\n",
       "      <td>Temperature</td>\n",
       "      <td>2.294532e+05</td>\n",
       "      <td>9.186510</td>\n",
       "      <td>17.307510</td>\n",
       "      <td>13.167147</td>\n",
       "      <td>4.088503</td>\n",
       "    </tr>\n",
       "    <tr>\n",
       "      <th>242774</th>\n",
       "      <td>2020-10-31</td>\n",
       "      <td>VI</td>\n",
       "      <td>WindSpeed</td>\n",
       "      <td>2.294532e+05</td>\n",
       "      <td>1.783996</td>\n",
       "      <td>6.605598</td>\n",
       "      <td>3.838360</td>\n",
       "      <td>1.019079</td>\n",
       "    </tr>\n",
       "    <tr>\n",
       "      <th>242775</th>\n",
       "      <td>2020-10-31</td>\n",
       "      <td>WA</td>\n",
       "      <td>Precipitation</td>\n",
       "      <td>2.528546e+06</td>\n",
       "      <td>0.000000</td>\n",
       "      <td>15.154541</td>\n",
       "      <td>0.328437</td>\n",
       "      <td>2.097161</td>\n",
       "    </tr>\n",
       "    <tr>\n",
       "      <th>242776</th>\n",
       "      <td>2020-10-31</td>\n",
       "      <td>WA</td>\n",
       "      <td>RelativeHumidity</td>\n",
       "      <td>2.528546e+06</td>\n",
       "      <td>9.272744</td>\n",
       "      <td>82.022224</td>\n",
       "      <td>34.193973</td>\n",
       "      <td>309.018764</td>\n",
       "    </tr>\n",
       "    <tr>\n",
       "      <th>242777</th>\n",
       "      <td>2020-10-31</td>\n",
       "      <td>WA</td>\n",
       "      <td>SoilWaterContent</td>\n",
       "      <td>2.528546e+06</td>\n",
       "      <td>0.000000</td>\n",
       "      <td>0.285399</td>\n",
       "      <td>0.050737</td>\n",
       "      <td>0.001419</td>\n",
       "    </tr>\n",
       "    <tr>\n",
       "      <th>242778</th>\n",
       "      <td>2020-10-31</td>\n",
       "      <td>WA</td>\n",
       "      <td>SolarRadiation</td>\n",
       "      <td>2.528546e+06</td>\n",
       "      <td>17.072290</td>\n",
       "      <td>29.743744</td>\n",
       "      <td>26.746413</td>\n",
       "      <td>5.986063</td>\n",
       "    </tr>\n",
       "    <tr>\n",
       "      <th>242779</th>\n",
       "      <td>2020-10-31</td>\n",
       "      <td>WA</td>\n",
       "      <td>Temperature</td>\n",
       "      <td>2.528546e+06</td>\n",
       "      <td>16.238239</td>\n",
       "      <td>34.669132</td>\n",
       "      <td>28.090392</td>\n",
       "      <td>15.293953</td>\n",
       "    </tr>\n",
       "    <tr>\n",
       "      <th>242780</th>\n",
       "      <td>2020-10-31</td>\n",
       "      <td>WA</td>\n",
       "      <td>WindSpeed</td>\n",
       "      <td>2.528546e+06</td>\n",
       "      <td>1.704024</td>\n",
       "      <td>9.031948</td>\n",
       "      <td>4.373947</td>\n",
       "      <td>1.873607</td>\n",
       "    </tr>\n",
       "  </tbody>\n",
       "</table>\n",
       "</div>"
      ],
      "text/plain": [
       "              Date Region         Parameter  count()[unit: km^2]      min()  \\\n",
       "242773  2020-10-31     VI       Temperature         2.294532e+05   9.186510   \n",
       "242774  2020-10-31     VI         WindSpeed         2.294532e+05   1.783996   \n",
       "242775  2020-10-31     WA     Precipitation         2.528546e+06   0.000000   \n",
       "242776  2020-10-31     WA  RelativeHumidity         2.528546e+06   9.272744   \n",
       "242777  2020-10-31     WA  SoilWaterContent         2.528546e+06   0.000000   \n",
       "242778  2020-10-31     WA    SolarRadiation         2.528546e+06  17.072290   \n",
       "242779  2020-10-31     WA       Temperature         2.528546e+06  16.238239   \n",
       "242780  2020-10-31     WA         WindSpeed         2.528546e+06   1.704024   \n",
       "\n",
       "            max()     mean()  variance()  \n",
       "242773  17.307510  13.167147    4.088503  \n",
       "242774   6.605598   3.838360    1.019079  \n",
       "242775  15.154541   0.328437    2.097161  \n",
       "242776  82.022224  34.193973  309.018764  \n",
       "242777   0.285399   0.050737    0.001419  \n",
       "242778  29.743744  26.746413    5.986063  \n",
       "242779  34.669132  28.090392   15.293953  \n",
       "242780   9.031948   4.373947    1.873607  "
      ]
     },
     "execution_count": 37,
     "metadata": {},
     "output_type": "execute_result"
    }
   ],
   "source": [
    "H_Weather.tail(8)"
   ]
  },
  {
   "cell_type": "markdown",
   "metadata": {},
   "source": [
    "### Therefore, the model should predict the estimated fire area of the future (Feb/2021), based on the data until Oct/2020."
   ]
  },
  {
   "cell_type": "code",
   "execution_count": 38,
   "metadata": {},
   "outputs": [
    {
     "data": {
      "text/html": [
       "<div>\n",
       "<style scoped>\n",
       "    .dataframe tbody tr th:only-of-type {\n",
       "        vertical-align: middle;\n",
       "    }\n",
       "\n",
       "    .dataframe tbody tr th {\n",
       "        vertical-align: top;\n",
       "    }\n",
       "\n",
       "    .dataframe thead th {\n",
       "        text-align: right;\n",
       "    }\n",
       "</style>\n",
       "<table border=\"1\" class=\"dataframe\">\n",
       "  <thead>\n",
       "    <tr style=\"text-align: right;\">\n",
       "      <th></th>\n",
       "      <th>Date</th>\n",
       "      <th>Estimated_fire_area</th>\n",
       "    </tr>\n",
       "  </thead>\n",
       "  <tbody>\n",
       "    <tr>\n",
       "      <th>0</th>\n",
       "      <td>1/4/2005</td>\n",
       "      <td>8.680000</td>\n",
       "    </tr>\n",
       "    <tr>\n",
       "      <th>1</th>\n",
       "      <td>1/5/2005</td>\n",
       "      <td>16.611250</td>\n",
       "    </tr>\n",
       "    <tr>\n",
       "      <th>2</th>\n",
       "      <td>1/6/2005</td>\n",
       "      <td>5.520000</td>\n",
       "    </tr>\n",
       "    <tr>\n",
       "      <th>3</th>\n",
       "      <td>1/7/2005</td>\n",
       "      <td>6.264000</td>\n",
       "    </tr>\n",
       "    <tr>\n",
       "      <th>4</th>\n",
       "      <td>1/8/2005</td>\n",
       "      <td>5.400000</td>\n",
       "    </tr>\n",
       "    <tr>\n",
       "      <th>...</th>\n",
       "      <td>...</td>\n",
       "      <td>...</td>\n",
       "    </tr>\n",
       "    <tr>\n",
       "      <th>26401</th>\n",
       "      <td>10/27/2020</td>\n",
       "      <td>32.970000</td>\n",
       "    </tr>\n",
       "    <tr>\n",
       "      <th>26402</th>\n",
       "      <td>10/28/2020</td>\n",
       "      <td>20.840625</td>\n",
       "    </tr>\n",
       "    <tr>\n",
       "      <th>26403</th>\n",
       "      <td>10/29/2020</td>\n",
       "      <td>136.083077</td>\n",
       "    </tr>\n",
       "    <tr>\n",
       "      <th>26404</th>\n",
       "      <td>10/30/2020</td>\n",
       "      <td>42.397895</td>\n",
       "    </tr>\n",
       "    <tr>\n",
       "      <th>26405</th>\n",
       "      <td>10/31/2020</td>\n",
       "      <td>107.370851</td>\n",
       "    </tr>\n",
       "  </tbody>\n",
       "</table>\n",
       "<p>24199 rows × 2 columns</p>\n",
       "</div>"
      ],
      "text/plain": [
       "             Date  Estimated_fire_area\n",
       "0        1/4/2005             8.680000\n",
       "1        1/5/2005            16.611250\n",
       "2        1/6/2005             5.520000\n",
       "3        1/7/2005             6.264000\n",
       "4        1/8/2005             5.400000\n",
       "...           ...                  ...\n",
       "26401  10/27/2020            32.970000\n",
       "26402  10/28/2020            20.840625\n",
       "26403  10/29/2020           136.083077\n",
       "26404  10/30/2020            42.397895\n",
       "26405  10/31/2020           107.370851\n",
       "\n",
       "[24199 rows x 2 columns]"
      ]
     },
     "execution_count": 38,
     "metadata": {},
     "output_type": "execute_result"
    }
   ],
   "source": [
    "target = H_Wildfires[['Date','Estimated_fire_area']]\n",
    "target"
   ]
  },
  {
   "cell_type": "code",
   "execution_count": 39,
   "metadata": {},
   "outputs": [
    {
     "data": {
      "image/png": "[encoded data removed]",
      "text/plain": [
       "<Figure size 432x288 with 2 Axes>"
      ]
     },
     "metadata": {},
     "output_type": "display_data"
    }
   ],
   "source": [
    "corrMatrix = H_Wildfires.corr()\n",
    "sns.heatmap(corrMatrix, annot=True)\n",
    "plt.show()"
   ]
  },
  {
   "cell_type": "markdown",
   "metadata": {},
   "source": [
    "Estimated fire area has very strong correlation with count.\n",
    "I guess when there is huge fire, the number of count is large.\n",
    "However nothing significant info.\n",
    "\n",
    "### To Do List: check the correlation between Estimated fire area and the 6 values in HistoricalWeather"
   ]
  },
  {
   "cell_type": "markdown",
   "metadata": {},
   "source": [
    "### Reorganizing Historical Weather Data and Weather Forecast Data"
   ]
  },
  {
   "cell_type": "code",
   "execution_count": 40,
   "metadata": {},
   "outputs": [],
   "source": [
    "def reform(df, target_column, common_cols, key_cols, param_cols):\n",
    "    elements = df[target_column].unique()\n",
    "    basis = df[common_cols].drop_duplicates()\n",
    "    for elm in elements:\n",
    "        new = df[df[target_column] == elm][key_cols + param_cols]\n",
    "        rename = {}\n",
    "        for col in param_cols:\n",
    "            rename[col] = str(elm) + '_' + col\n",
    "        new = new.rename(columns=rename)\n",
    "        basis = basis.merge(new, on=key_cols)\n",
    "    return basis"
   ]
  },
  {
   "cell_type": "code",
   "execution_count": 41,
   "metadata": {},
   "outputs": [],
   "source": [
    "target_column = 'Parameter'\n",
    "common_cols = ['Date', 'Region', 'count()[unit: km^2]']\n",
    "common_cols_fc = ['Date', 'Region', 'Lead time', 'count()[unit: km^2]']\n",
    "key_cols = ['Date', 'Region']\n",
    "key_cols_fc = ['Date', 'Region', 'Lead time']\n",
    "param_cols = ['min()', 'max()', 'mean()', 'variance()']\n",
    "\n",
    "H_Weather_reform = reform(H_Weather.copy(), target_column, common_cols, key_cols, param_cols)\n",
    "H_Weather_Fc_reform = reform(H_Weather_Fc.copy(), target_column, common_cols_fc, key_cols_fc, param_cols)"
   ]
  },
  {
   "cell_type": "code",
   "execution_count": 42,
   "metadata": {},
   "outputs": [
    {
     "data": {
      "text/html": [
       "<div>\n",
       "<style scoped>\n",
       "    .dataframe tbody tr th:only-of-type {\n",
       "        vertical-align: middle;\n",
       "    }\n",
       "\n",
       "    .dataframe tbody tr th {\n",
       "        vertical-align: top;\n",
       "    }\n",
       "\n",
       "    .dataframe thead th {\n",
       "        text-align: right;\n",
       "    }\n",
       "</style>\n",
       "<table border=\"1\" class=\"dataframe\">\n",
       "  <thead>\n",
       "    <tr style=\"text-align: right;\">\n",
       "      <th></th>\n",
       "      <th>Date</th>\n",
       "      <th>Region</th>\n",
       "      <th>count()[unit: km^2]</th>\n",
       "      <th>Precipitation_min()</th>\n",
       "      <th>Precipitation_max()</th>\n",
       "      <th>Precipitation_mean()</th>\n",
       "      <th>Precipitation_variance()</th>\n",
       "      <th>RelativeHumidity_min()</th>\n",
       "      <th>RelativeHumidity_max()</th>\n",
       "      <th>RelativeHumidity_mean()</th>\n",
       "      <th>...</th>\n",
       "      <th>SolarRadiation_mean()</th>\n",
       "      <th>SolarRadiation_variance()</th>\n",
       "      <th>Temperature_min()</th>\n",
       "      <th>Temperature_max()</th>\n",
       "      <th>Temperature_mean()</th>\n",
       "      <th>Temperature_variance()</th>\n",
       "      <th>WindSpeed_min()</th>\n",
       "      <th>WindSpeed_max()</th>\n",
       "      <th>WindSpeed_mean()</th>\n",
       "      <th>WindSpeed_variance()</th>\n",
       "    </tr>\n",
       "  </thead>\n",
       "  <tbody>\n",
       "    <tr>\n",
       "      <th>0</th>\n",
       "      <td>2005-01-01</td>\n",
       "      <td>NSW</td>\n",
       "      <td>8.002343e+05</td>\n",
       "      <td>0.000000</td>\n",
       "      <td>1.836935</td>\n",
       "      <td>0.044274</td>\n",
       "      <td>0.028362</td>\n",
       "      <td>13.877194</td>\n",
       "      <td>80.522964</td>\n",
       "      <td>36.355567</td>\n",
       "      <td>...</td>\n",
       "      <td>26.749389</td>\n",
       "      <td>6.078587</td>\n",
       "      <td>14.485785</td>\n",
       "      <td>35.878704</td>\n",
       "      <td>27.341182</td>\n",
       "      <td>18.562212</td>\n",
       "      <td>1.354448</td>\n",
       "      <td>7.670482</td>\n",
       "      <td>3.323550</td>\n",
       "      <td>0.850048</td>\n",
       "    </tr>\n",
       "    <tr>\n",
       "      <th>1</th>\n",
       "      <td>2005-01-01</td>\n",
       "      <td>NT</td>\n",
       "      <td>1.357561e+06</td>\n",
       "      <td>0.000000</td>\n",
       "      <td>315.266815</td>\n",
       "      <td>9.884958</td>\n",
       "      <td>546.059262</td>\n",
       "      <td>14.558820</td>\n",
       "      <td>95.683342</td>\n",
       "      <td>61.494675</td>\n",
       "      <td>...</td>\n",
       "      <td>19.781791</td>\n",
       "      <td>58.942658</td>\n",
       "      <td>24.179960</td>\n",
       "      <td>38.136787</td>\n",
       "      <td>29.881492</td>\n",
       "      <td>12.920252</td>\n",
       "      <td>1.840394</td>\n",
       "      <td>9.704402</td>\n",
       "      <td>5.296892</td>\n",
       "      <td>1.930014</td>\n",
       "    </tr>\n",
       "    <tr>\n",
       "      <th>2</th>\n",
       "      <td>2005-01-01</td>\n",
       "      <td>QL</td>\n",
       "      <td>1.730605e+06</td>\n",
       "      <td>0.000000</td>\n",
       "      <td>74.452164</td>\n",
       "      <td>1.453053</td>\n",
       "      <td>35.641257</td>\n",
       "      <td>14.443199</td>\n",
       "      <td>95.898270</td>\n",
       "      <td>47.959364</td>\n",
       "      <td>...</td>\n",
       "      <td>27.056979</td>\n",
       "      <td>29.500832</td>\n",
       "      <td>20.951620</td>\n",
       "      <td>37.047943</td>\n",
       "      <td>28.842866</td>\n",
       "      <td>13.792599</td>\n",
       "      <td>1.106028</td>\n",
       "      <td>7.675632</td>\n",
       "      <td>3.483753</td>\n",
       "      <td>0.883048</td>\n",
       "    </tr>\n",
       "    <tr>\n",
       "      <th>3</th>\n",
       "      <td>2005-01-01</td>\n",
       "      <td>SA</td>\n",
       "      <td>9.913151e+05</td>\n",
       "      <td>0.000000</td>\n",
       "      <td>3.193624</td>\n",
       "      <td>0.059078</td>\n",
       "      <td>0.042837</td>\n",
       "      <td>10.618136</td>\n",
       "      <td>81.980751</td>\n",
       "      <td>30.057683</td>\n",
       "      <td>...</td>\n",
       "      <td>27.142643</td>\n",
       "      <td>7.914246</td>\n",
       "      <td>14.095855</td>\n",
       "      <td>38.326847</td>\n",
       "      <td>30.793675</td>\n",
       "      <td>34.799336</td>\n",
       "      <td>2.023657</td>\n",
       "      <td>10.044715</td>\n",
       "      <td>4.657538</td>\n",
       "      <td>1.655908</td>\n",
       "    </tr>\n",
       "    <tr>\n",
       "      <th>4</th>\n",
       "      <td>2005-01-01</td>\n",
       "      <td>TA</td>\n",
       "      <td>6.778526e+04</td>\n",
       "      <td>0.003973</td>\n",
       "      <td>13.604791</td>\n",
       "      <td>3.099497</td>\n",
       "      <td>12.068597</td>\n",
       "      <td>43.906574</td>\n",
       "      <td>81.501442</td>\n",
       "      <td>65.086764</td>\n",
       "      <td>...</td>\n",
       "      <td>26.755711</td>\n",
       "      <td>12.826400</td>\n",
       "      <td>6.686816</td>\n",
       "      <td>16.228510</td>\n",
       "      <td>11.788805</td>\n",
       "      <td>4.912013</td>\n",
       "      <td>1.995647</td>\n",
       "      <td>11.432408</td>\n",
       "      <td>5.408138</td>\n",
       "      <td>2.963118</td>\n",
       "    </tr>\n",
       "  </tbody>\n",
       "</table>\n",
       "<p>5 rows × 27 columns</p>\n",
       "</div>"
      ],
      "text/plain": [
       "         Date Region  count()[unit: km^2]  Precipitation_min()  \\\n",
       "0  2005-01-01    NSW         8.002343e+05             0.000000   \n",
       "1  2005-01-01     NT         1.357561e+06             0.000000   \n",
       "2  2005-01-01     QL         1.730605e+06             0.000000   \n",
       "3  2005-01-01     SA         9.913151e+05             0.000000   \n",
       "4  2005-01-01     TA         6.778526e+04             0.003973   \n",
       "\n",
       "   Precipitation_max()  Precipitation_mean()  Precipitation_variance()  \\\n",
       "0             1.836935              0.044274                  0.028362   \n",
       "1           315.266815              9.884958                546.059262   \n",
       "2            74.452164              1.453053                 35.641257   \n",
       "3             3.193624              0.059078                  0.042837   \n",
       "4            13.604791              3.099497                 12.068597   \n",
       "\n",
       "   RelativeHumidity_min()  RelativeHumidity_max()  RelativeHumidity_mean()  \\\n",
       "0               13.877194               80.522964                36.355567   \n",
       "1               14.558820               95.683342                61.494675   \n",
       "2               14.443199               95.898270                47.959364   \n",
       "3               10.618136               81.980751                30.057683   \n",
       "4               43.906574               81.501442                65.086764   \n",
       "\n",
       "   ...  SolarRadiation_mean()  SolarRadiation_variance()  Temperature_min()  \\\n",
       "0  ...              26.749389                   6.078587          14.485785   \n",
       "1  ...              19.781791                  58.942658          24.179960   \n",
       "2  ...              27.056979                  29.500832          20.951620   \n",
       "3  ...              27.142643                   7.914246          14.095855   \n",
       "4  ...              26.755711                  12.826400           6.686816   \n",
       "\n",
       "   Temperature_max()  Temperature_mean()  Temperature_variance()  \\\n",
       "0          35.878704           27.341182               18.562212   \n",
       "1          38.136787           29.881492               12.920252   \n",
       "2          37.047943           28.842866               13.792599   \n",
       "3          38.326847           30.793675               34.799336   \n",
       "4          16.228510           11.788805                4.912013   \n",
       "\n",
       "   WindSpeed_min()  WindSpeed_max()  WindSpeed_mean()  WindSpeed_variance()  \n",
       "0         1.354448         7.670482          3.323550              0.850048  \n",
       "1         1.840394         9.704402          5.296892              1.930014  \n",
       "2         1.106028         7.675632          3.483753              0.883048  \n",
       "3         2.023657        10.044715          4.657538              1.655908  \n",
       "4         1.995647        11.432408          5.408138              2.963118  \n",
       "\n",
       "[5 rows x 27 columns]"
      ]
     },
     "execution_count": 42,
     "metadata": {},
     "output_type": "execute_result"
    }
   ],
   "source": [
    "H_Weather_reform.head()"
   ]
  },
  {
   "cell_type": "code",
   "execution_count": 43,
   "metadata": {},
   "outputs": [
    {
     "data": {
      "text/html": [
       "<div>\n",
       "<style scoped>\n",
       "    .dataframe tbody tr th:only-of-type {\n",
       "        vertical-align: middle;\n",
       "    }\n",
       "\n",
       "    .dataframe tbody tr th {\n",
       "        vertical-align: top;\n",
       "    }\n",
       "\n",
       "    .dataframe thead th {\n",
       "        text-align: right;\n",
       "    }\n",
       "</style>\n",
       "<table border=\"1\" class=\"dataframe\">\n",
       "  <thead>\n",
       "    <tr style=\"text-align: right;\">\n",
       "      <th></th>\n",
       "      <th>Date</th>\n",
       "      <th>Region</th>\n",
       "      <th>Lead time</th>\n",
       "      <th>count()[unit: km^2]</th>\n",
       "      <th>RelativeHumidity_min()</th>\n",
       "      <th>RelativeHumidity_max()</th>\n",
       "      <th>RelativeHumidity_mean()</th>\n",
       "      <th>RelativeHumidity_variance()</th>\n",
       "      <th>SolarRadiation_min()</th>\n",
       "      <th>SolarRadiation_max()</th>\n",
       "      <th>...</th>\n",
       "      <th>Temperature_mean()</th>\n",
       "      <th>Temperature_variance()</th>\n",
       "      <th>WindSpeed_min()</th>\n",
       "      <th>WindSpeed_max()</th>\n",
       "      <th>WindSpeed_mean()</th>\n",
       "      <th>WindSpeed_variance()</th>\n",
       "      <th>Precipitation_min()</th>\n",
       "      <th>Precipitation_max()</th>\n",
       "      <th>Precipitation_mean()</th>\n",
       "      <th>Precipitation_variance()</th>\n",
       "    </tr>\n",
       "  </thead>\n",
       "  <tbody>\n",
       "    <tr>\n",
       "      <th>0</th>\n",
       "      <td>2015-07-06</td>\n",
       "      <td>NSW</td>\n",
       "      <td>5</td>\n",
       "      <td>8.037682e+05</td>\n",
       "      <td>36.506927</td>\n",
       "      <td>96.380577</td>\n",
       "      <td>62.832873</td>\n",
       "      <td>144.521980</td>\n",
       "      <td>1.310407</td>\n",
       "      <td>14.294098</td>\n",
       "      <td>...</td>\n",
       "      <td>10.280841</td>\n",
       "      <td>5.677777</td>\n",
       "      <td>1.183472</td>\n",
       "      <td>7.471239</td>\n",
       "      <td>3.541415</td>\n",
       "      <td>1.095084</td>\n",
       "      <td>0.000000</td>\n",
       "      <td>0.676588</td>\n",
       "      <td>0.015649</td>\n",
       "      <td>0.004120</td>\n",
       "    </tr>\n",
       "    <tr>\n",
       "      <th>1</th>\n",
       "      <td>2015-07-06</td>\n",
       "      <td>NT</td>\n",
       "      <td>5</td>\n",
       "      <td>1.349817e+06</td>\n",
       "      <td>22.928360</td>\n",
       "      <td>75.619980</td>\n",
       "      <td>40.378507</td>\n",
       "      <td>144.540934</td>\n",
       "      <td>8.691142</td>\n",
       "      <td>20.307533</td>\n",
       "      <td>...</td>\n",
       "      <td>18.207019</td>\n",
       "      <td>14.549913</td>\n",
       "      <td>1.600128</td>\n",
       "      <td>9.407453</td>\n",
       "      <td>3.861081</td>\n",
       "      <td>1.025623</td>\n",
       "      <td>0.000000</td>\n",
       "      <td>1.775728</td>\n",
       "      <td>0.017325</td>\n",
       "      <td>0.012745</td>\n",
       "    </tr>\n",
       "    <tr>\n",
       "      <th>2</th>\n",
       "      <td>2015-07-06</td>\n",
       "      <td>QL</td>\n",
       "      <td>5</td>\n",
       "      <td>1.736319e+06</td>\n",
       "      <td>30.285908</td>\n",
       "      <td>92.607628</td>\n",
       "      <td>55.704695</td>\n",
       "      <td>198.310702</td>\n",
       "      <td>7.298058</td>\n",
       "      <td>19.379251</td>\n",
       "      <td>...</td>\n",
       "      <td>17.935421</td>\n",
       "      <td>10.532778</td>\n",
       "      <td>0.594453</td>\n",
       "      <td>10.151658</td>\n",
       "      <td>3.091880</td>\n",
       "      <td>1.250189</td>\n",
       "      <td>0.000000</td>\n",
       "      <td>2.001911</td>\n",
       "      <td>0.054568</td>\n",
       "      <td>0.027684</td>\n",
       "    </tr>\n",
       "    <tr>\n",
       "      <th>3</th>\n",
       "      <td>2015-07-06</td>\n",
       "      <td>SA</td>\n",
       "      <td>5</td>\n",
       "      <td>9.797103e+05</td>\n",
       "      <td>29.739246</td>\n",
       "      <td>91.356522</td>\n",
       "      <td>59.212892</td>\n",
       "      <td>215.685550</td>\n",
       "      <td>3.959972</td>\n",
       "      <td>15.410563</td>\n",
       "      <td>...</td>\n",
       "      <td>13.257703</td>\n",
       "      <td>2.698994</td>\n",
       "      <td>1.065457</td>\n",
       "      <td>7.469995</td>\n",
       "      <td>3.159766</td>\n",
       "      <td>0.844959</td>\n",
       "      <td>0.000000</td>\n",
       "      <td>4.364864</td>\n",
       "      <td>0.165038</td>\n",
       "      <td>0.150157</td>\n",
       "    </tr>\n",
       "    <tr>\n",
       "      <th>4</th>\n",
       "      <td>2015-07-06</td>\n",
       "      <td>TA</td>\n",
       "      <td>5</td>\n",
       "      <td>6.567142e+04</td>\n",
       "      <td>71.484756</td>\n",
       "      <td>94.721146</td>\n",
       "      <td>85.190403</td>\n",
       "      <td>38.829059</td>\n",
       "      <td>0.742585</td>\n",
       "      <td>5.149638</td>\n",
       "      <td>...</td>\n",
       "      <td>5.788967</td>\n",
       "      <td>4.412144</td>\n",
       "      <td>2.463978</td>\n",
       "      <td>12.996228</td>\n",
       "      <td>5.260194</td>\n",
       "      <td>3.433708</td>\n",
       "      <td>0.847536</td>\n",
       "      <td>14.824793</td>\n",
       "      <td>4.985277</td>\n",
       "      <td>13.149893</td>\n",
       "    </tr>\n",
       "  </tbody>\n",
       "</table>\n",
       "<p>5 rows × 24 columns</p>\n",
       "</div>"
      ],
      "text/plain": [
       "         Date Region  Lead time  count()[unit: km^2]  RelativeHumidity_min()  \\\n",
       "0  2015-07-06    NSW          5         8.037682e+05               36.506927   \n",
       "1  2015-07-06     NT          5         1.349817e+06               22.928360   \n",
       "2  2015-07-06     QL          5         1.736319e+06               30.285908   \n",
       "3  2015-07-06     SA          5         9.797103e+05               29.739246   \n",
       "4  2015-07-06     TA          5         6.567142e+04               71.484756   \n",
       "\n",
       "   RelativeHumidity_max()  RelativeHumidity_mean()  \\\n",
       "0               96.380577                62.832873   \n",
       "1               75.619980                40.378507   \n",
       "2               92.607628                55.704695   \n",
       "3               91.356522                59.212892   \n",
       "4               94.721146                85.190403   \n",
       "\n",
       "   RelativeHumidity_variance()  SolarRadiation_min()  SolarRadiation_max()  \\\n",
       "0                   144.521980              1.310407             14.294098   \n",
       "1                   144.540934              8.691142             20.307533   \n",
       "2                   198.310702              7.298058             19.379251   \n",
       "3                   215.685550              3.959972             15.410563   \n",
       "4                    38.829059              0.742585              5.149638   \n",
       "\n",
       "   ...  Temperature_mean()  Temperature_variance()  WindSpeed_min()  \\\n",
       "0  ...           10.280841                5.677777         1.183472   \n",
       "1  ...           18.207019               14.549913         1.600128   \n",
       "2  ...           17.935421               10.532778         0.594453   \n",
       "3  ...           13.257703                2.698994         1.065457   \n",
       "4  ...            5.788967                4.412144         2.463978   \n",
       "\n",
       "   WindSpeed_max()  WindSpeed_mean()  WindSpeed_variance()  \\\n",
       "0         7.471239          3.541415              1.095084   \n",
       "1         9.407453          3.861081              1.025623   \n",
       "2        10.151658          3.091880              1.250189   \n",
       "3         7.469995          3.159766              0.844959   \n",
       "4        12.996228          5.260194              3.433708   \n",
       "\n",
       "   Precipitation_min()  Precipitation_max()  Precipitation_mean()  \\\n",
       "0             0.000000             0.676588              0.015649   \n",
       "1             0.000000             1.775728              0.017325   \n",
       "2             0.000000             2.001911              0.054568   \n",
       "3             0.000000             4.364864              0.165038   \n",
       "4             0.847536            14.824793              4.985277   \n",
       "\n",
       "   Precipitation_variance()  \n",
       "0                  0.004120  \n",
       "1                  0.012745  \n",
       "2                  0.027684  \n",
       "3                  0.150157  \n",
       "4                 13.149893  \n",
       "\n",
       "[5 rows x 24 columns]"
      ]
     },
     "execution_count": 43,
     "metadata": {},
     "output_type": "execute_result"
    }
   ],
   "source": [
    "H_Weather_Fc_reform.head()"
   ]
  },
  {
   "cell_type": "code",
   "execution_count": 44,
   "metadata": {},
   "outputs": [],
   "source": [
    "target_column = 'Lead time'\n",
    "common_cols_fc = ['Date', 'Region', 'count()[unit: km^2]']\n",
    "key_cols_fc = ['Date', 'Region']\n",
    "param_cols = ['RelativeHumidity_min()', 'RelativeHumidity_max()',\n",
    "       'RelativeHumidity_mean()', 'RelativeHumidity_variance()',\n",
    "       'SolarRadiation_min()', 'SolarRadiation_max()', 'SolarRadiation_mean()',\n",
    "       'SolarRadiation_variance()', 'Temperature_min()', 'Temperature_max()',\n",
    "       'Temperature_mean()', 'Temperature_variance()', 'WindSpeed_min()',\n",
    "       'WindSpeed_max()', 'WindSpeed_mean()', 'WindSpeed_variance()',\n",
    "       'Precipitation_min()', 'Precipitation_max()', 'Precipitation_mean()',\n",
    "       'Precipitation_variance()']\n",
    "H_Weather_Fc_reform_LeadTime = reform(H_Weather_Fc_reform.copy(), target_column, common_cols_fc, key_cols_fc, param_cols)"
   ]
  },
  {
   "cell_type": "code",
   "execution_count": 45,
   "metadata": {},
   "outputs": [
    {
     "data": {
      "text/html": [
       "<div>\n",
       "<style scoped>\n",
       "    .dataframe tbody tr th:only-of-type {\n",
       "        vertical-align: middle;\n",
       "    }\n",
       "\n",
       "    .dataframe tbody tr th {\n",
       "        vertical-align: top;\n",
       "    }\n",
       "\n",
       "    .dataframe thead th {\n",
       "        text-align: right;\n",
       "    }\n",
       "</style>\n",
       "<table border=\"1\" class=\"dataframe\">\n",
       "  <thead>\n",
       "    <tr style=\"text-align: right;\">\n",
       "      <th></th>\n",
       "      <th>Date</th>\n",
       "      <th>Region</th>\n",
       "      <th>count()[unit: km^2]</th>\n",
       "      <th>5_RelativeHumidity_min()</th>\n",
       "      <th>5_RelativeHumidity_max()</th>\n",
       "      <th>5_RelativeHumidity_mean()</th>\n",
       "      <th>5_RelativeHumidity_variance()</th>\n",
       "      <th>5_SolarRadiation_min()</th>\n",
       "      <th>5_SolarRadiation_max()</th>\n",
       "      <th>5_SolarRadiation_mean()</th>\n",
       "      <th>...</th>\n",
       "      <th>15_Temperature_mean()</th>\n",
       "      <th>15_Temperature_variance()</th>\n",
       "      <th>15_WindSpeed_min()</th>\n",
       "      <th>15_WindSpeed_max()</th>\n",
       "      <th>15_WindSpeed_mean()</th>\n",
       "      <th>15_WindSpeed_variance()</th>\n",
       "      <th>15_Precipitation_min()</th>\n",
       "      <th>15_Precipitation_max()</th>\n",
       "      <th>15_Precipitation_mean()</th>\n",
       "      <th>15_Precipitation_variance()</th>\n",
       "    </tr>\n",
       "  </thead>\n",
       "  <tbody>\n",
       "    <tr>\n",
       "      <th>0</th>\n",
       "      <td>2015-07-16</td>\n",
       "      <td>NSW</td>\n",
       "      <td>8.037682e+05</td>\n",
       "      <td>53.922024</td>\n",
       "      <td>96.653831</td>\n",
       "      <td>81.424096</td>\n",
       "      <td>89.258353</td>\n",
       "      <td>2.089505</td>\n",
       "      <td>14.138119</td>\n",
       "      <td>8.522660</td>\n",
       "      <td>...</td>\n",
       "      <td>10.347345</td>\n",
       "      <td>4.943718</td>\n",
       "      <td>0.999615</td>\n",
       "      <td>9.185587</td>\n",
       "      <td>4.047723</td>\n",
       "      <td>2.849608</td>\n",
       "      <td>0.00000</td>\n",
       "      <td>4.010015</td>\n",
       "      <td>0.607630</td>\n",
       "      <td>0.411440</td>\n",
       "    </tr>\n",
       "    <tr>\n",
       "      <th>1</th>\n",
       "      <td>2015-07-16</td>\n",
       "      <td>NT</td>\n",
       "      <td>1.349817e+06</td>\n",
       "      <td>24.189238</td>\n",
       "      <td>75.253464</td>\n",
       "      <td>40.484736</td>\n",
       "      <td>156.568747</td>\n",
       "      <td>12.434999</td>\n",
       "      <td>20.915419</td>\n",
       "      <td>18.380391</td>\n",
       "      <td>...</td>\n",
       "      <td>18.058505</td>\n",
       "      <td>15.796535</td>\n",
       "      <td>0.352656</td>\n",
       "      <td>8.476827</td>\n",
       "      <td>2.769054</td>\n",
       "      <td>2.174358</td>\n",
       "      <td>0.00000</td>\n",
       "      <td>0.438872</td>\n",
       "      <td>0.002135</td>\n",
       "      <td>0.000248</td>\n",
       "    </tr>\n",
       "    <tr>\n",
       "      <th>2</th>\n",
       "      <td>2015-07-16</td>\n",
       "      <td>QL</td>\n",
       "      <td>1.736319e+06</td>\n",
       "      <td>25.107180</td>\n",
       "      <td>90.107681</td>\n",
       "      <td>52.350346</td>\n",
       "      <td>290.605540</td>\n",
       "      <td>5.621719</td>\n",
       "      <td>20.479937</td>\n",
       "      <td>14.960178</td>\n",
       "      <td>...</td>\n",
       "      <td>15.666894</td>\n",
       "      <td>12.970920</td>\n",
       "      <td>0.456899</td>\n",
       "      <td>9.944665</td>\n",
       "      <td>2.497555</td>\n",
       "      <td>0.922299</td>\n",
       "      <td>0.00000</td>\n",
       "      <td>0.672407</td>\n",
       "      <td>0.015050</td>\n",
       "      <td>0.002931</td>\n",
       "    </tr>\n",
       "    <tr>\n",
       "      <th>3</th>\n",
       "      <td>2015-07-16</td>\n",
       "      <td>SA</td>\n",
       "      <td>9.797103e+05</td>\n",
       "      <td>44.000698</td>\n",
       "      <td>94.996590</td>\n",
       "      <td>67.615530</td>\n",
       "      <td>105.616678</td>\n",
       "      <td>4.538943</td>\n",
       "      <td>15.715313</td>\n",
       "      <td>11.380811</td>\n",
       "      <td>...</td>\n",
       "      <td>13.521799</td>\n",
       "      <td>0.915549</td>\n",
       "      <td>3.079926</td>\n",
       "      <td>13.122737</td>\n",
       "      <td>7.717226</td>\n",
       "      <td>2.805654</td>\n",
       "      <td>0.00000</td>\n",
       "      <td>5.540538</td>\n",
       "      <td>0.534634</td>\n",
       "      <td>0.585572</td>\n",
       "    </tr>\n",
       "    <tr>\n",
       "      <th>4</th>\n",
       "      <td>2015-07-16</td>\n",
       "      <td>TA</td>\n",
       "      <td>6.567142e+04</td>\n",
       "      <td>65.954094</td>\n",
       "      <td>98.546303</td>\n",
       "      <td>88.703049</td>\n",
       "      <td>44.189550</td>\n",
       "      <td>0.982655</td>\n",
       "      <td>8.040900</td>\n",
       "      <td>4.134952</td>\n",
       "      <td>...</td>\n",
       "      <td>8.681971</td>\n",
       "      <td>4.072777</td>\n",
       "      <td>3.615515</td>\n",
       "      <td>13.881755</td>\n",
       "      <td>7.230085</td>\n",
       "      <td>5.788722</td>\n",
       "      <td>0.24407</td>\n",
       "      <td>14.415625</td>\n",
       "      <td>5.819416</td>\n",
       "      <td>20.954985</td>\n",
       "    </tr>\n",
       "  </tbody>\n",
       "</table>\n",
       "<p>5 rows × 63 columns</p>\n",
       "</div>"
      ],
      "text/plain": [
       "         Date Region  count()[unit: km^2]  5_RelativeHumidity_min()  \\\n",
       "0  2015-07-16    NSW         8.037682e+05                 53.922024   \n",
       "1  2015-07-16     NT         1.349817e+06                 24.189238   \n",
       "2  2015-07-16     QL         1.736319e+06                 25.107180   \n",
       "3  2015-07-16     SA         9.797103e+05                 44.000698   \n",
       "4  2015-07-16     TA         6.567142e+04                 65.954094   \n",
       "\n",
       "   5_RelativeHumidity_max()  5_RelativeHumidity_mean()  \\\n",
       "0                 96.653831                  81.424096   \n",
       "1                 75.253464                  40.484736   \n",
       "2                 90.107681                  52.350346   \n",
       "3                 94.996590                  67.615530   \n",
       "4                 98.546303                  88.703049   \n",
       "\n",
       "   5_RelativeHumidity_variance()  5_SolarRadiation_min()  \\\n",
       "0                      89.258353                2.089505   \n",
       "1                     156.568747               12.434999   \n",
       "2                     290.605540                5.621719   \n",
       "3                     105.616678                4.538943   \n",
       "4                      44.189550                0.982655   \n",
       "\n",
       "   5_SolarRadiation_max()  5_SolarRadiation_mean()  ...  \\\n",
       "0               14.138119                 8.522660  ...   \n",
       "1               20.915419                18.380391  ...   \n",
       "2               20.479937                14.960178  ...   \n",
       "3               15.715313                11.380811  ...   \n",
       "4                8.040900                 4.134952  ...   \n",
       "\n",
       "   15_Temperature_mean()  15_Temperature_variance()  15_WindSpeed_min()  \\\n",
       "0              10.347345                   4.943718            0.999615   \n",
       "1              18.058505                  15.796535            0.352656   \n",
       "2              15.666894                  12.970920            0.456899   \n",
       "3              13.521799                   0.915549            3.079926   \n",
       "4               8.681971                   4.072777            3.615515   \n",
       "\n",
       "   15_WindSpeed_max()  15_WindSpeed_mean()  15_WindSpeed_variance()  \\\n",
       "0            9.185587             4.047723                 2.849608   \n",
       "1            8.476827             2.769054                 2.174358   \n",
       "2            9.944665             2.497555                 0.922299   \n",
       "3           13.122737             7.717226                 2.805654   \n",
       "4           13.881755             7.230085                 5.788722   \n",
       "\n",
       "   15_Precipitation_min()  15_Precipitation_max()  15_Precipitation_mean()  \\\n",
       "0                 0.00000                4.010015                 0.607630   \n",
       "1                 0.00000                0.438872                 0.002135   \n",
       "2                 0.00000                0.672407                 0.015050   \n",
       "3                 0.00000                5.540538                 0.534634   \n",
       "4                 0.24407               14.415625                 5.819416   \n",
       "\n",
       "   15_Precipitation_variance()  \n",
       "0                     0.411440  \n",
       "1                     0.000248  \n",
       "2                     0.002931  \n",
       "3                     0.585572  \n",
       "4                    20.954985  \n",
       "\n",
       "[5 rows x 63 columns]"
      ]
     },
     "execution_count": 45,
     "metadata": {},
     "output_type": "execute_result"
    }
   ],
   "source": [
    "H_Weather_Fc_reform_LeadTime.head()"
   ]
  },
  {
   "cell_type": "markdown",
   "metadata": {},
   "source": [
    "\n",
    "### Outliers Handling\n",
    "Step1: Outliers analysis\n",
    "\n",
    "plot log histogram of parameters which have datapoints larger or smaller than (mean+factor x std) or (mean-factor x std)\n",
    "\n",
    "*the \"factor\" variable is adjustable*\n",
    "\n",
    "look at the graphs and set outlier boundary of each parameters by human feeling(?)\n",
    "\n",
    "*the boundary dictionary is adjustable*\n",
    "\n",
    "Step2: Outliers filtering\n",
    "\n",
    "automatic filter out outliers basing on the boundary dictionaries"
   ]
  },
  {
   "cell_type": "code",
   "execution_count": 46,
   "metadata": {},
   "outputs": [],
   "source": [
    "def outlier_filter(df, outliers_bound):\n",
    "    for col in outliers_bound:    \n",
    "        if col in ignore_cols:\n",
    "            continue\n",
    "        if 'upper_bound' in outliers_bound[col]:\n",
    "            df = df[df[col] < outliers_bound[col]['upper_bound']]\n",
    "        if 'lower_bound' in outliers_bound[col]:\n",
    "            df = df[df[col] > outliers_bound[col]['lower_bound']]\n",
    "    return df"
   ]
  },
  {
   "cell_type": "code",
   "execution_count": 47,
   "metadata": {},
   "outputs": [
    {
     "name": "stdout",
     "output_type": "stream",
     "text": [
      "Precipitation_min()\n",
      "mean =  0.03955214263918021  std =  0.3229063542091131\n",
      "outliers count (too large):  91\n",
      "outliers count (too small):  0\n"
     ]
    },
    {
     "data": {
      "image/png": "[encoded data removed]",
      "text/plain": [
       "<Figure size 432x288 with 1 Axes>"
      ]
     },
     "metadata": {},
     "output_type": "display_data"
    },
    {
     "name": "stdout",
     "output_type": "stream",
     "text": [
      "Precipitation_max()\n",
      "mean =  17.791491607324524  std =  30.20811189517603\n",
      "outliers count (too large):  15\n",
      "outliers count (too small):  0\n"
     ]
    },
    {
     "data": {
      "image/png": "[encoded data removed]",
      "text/plain": [
       "<Figure size 432x288 with 1 Axes>"
      ]
     },
     "metadata": {},
     "output_type": "display_data"
    },
    {
     "name": "stdout",
     "output_type": "stream",
     "text": [
      "Precipitation_mean()\n",
      "mean =  1.5373878979082625  std =  2.9849547670865357\n",
      "outliers count (too large):  8\n",
      "outliers count (too small):  0\n"
     ]
    },
    {
     "data": {
      "image/png": "[encoded data removed]",
      "text/plain": [
       "<Figure size 432x288 with 1 Axes>"
      ]
     },
     "metadata": {},
     "output_type": "display_data"
    },
    {
     "name": "stdout",
     "output_type": "stream",
     "text": [
      "Precipitation_variance()\n",
      "mean =  16.681189741896105  std =  62.725691308032175\n",
      "outliers count (too large):  82\n",
      "outliers count (too small):  0\n"
     ]
    },
    {
     "data": {
      "image/png": "[encoded data removed]",
      "text/plain": [
       "<Figure size 432x288 with 1 Axes>"
      ]
     },
     "metadata": {},
     "output_type": "display_data"
    },
    {
     "name": "stdout",
     "output_type": "stream",
     "text": [
      "SolarRadiation_variance()\n",
      "mean =  10.032778833867267  std =  11.348976322572035\n",
      "outliers count (too large):  1\n",
      "outliers count (too small):  0\n"
     ]
    },
    {
     "data": {
      "image/png": "[encoded data removed]",
      "text/plain": [
       "<Figure size 432x288 with 1 Axes>"
      ]
     },
     "metadata": {},
     "output_type": "display_data"
    }
   ],
   "source": [
    "factor = 10\n",
    "df = H_Weather_reform\n",
    "ignore_cols = ['Date', 'Region', 'count()[unit: km^2]']\n",
    "\n",
    "for col in df.columns:\n",
    "    if col in ignore_cols:\n",
    "        continue\n",
    "    y = df[col]\n",
    "    y_mean = np.mean(y)\n",
    "    y_std = np.std(y)\n",
    "    upper_bound = y_mean + factor*y_std\n",
    "    lower_bound = y_mean - factor*y_std\n",
    "    outlier_large = len(y[y>upper_bound])\n",
    "    outlier_small = len(y[y<lower_bound])\n",
    "    if outlier_large + outlier_small > 0:\n",
    "        print(col)\n",
    "        print('mean = ', y_mean, ' std = ', y_std)\n",
    "        print('outliers count (too large): ', outlier_large)\n",
    "        print('outliers count (too small): ', outlier_small)\n",
    "        (n, _, _) = plt.hist(y, bins=100, log=True)\n",
    "        plt.title(col)\n",
    "        plt.show()"
   ]
  },
  {
   "cell_type": "code",
   "execution_count": 48,
   "metadata": {},
   "outputs": [],
   "source": [
    "outliers_bound_weather = {\n",
    "    'Precipitation_min()':{\n",
    "        'upper_bound': 8\n",
    "    },\n",
    "    'Precipitation_max()':{\n",
    "        'upper_bound': 350\n",
    "    },\n",
    "    'RelativeHumidity_max()':{\n",
    "        'lower_bound': 59\n",
    "    },\n",
    "    'WindSpeed_max()':{\n",
    "        'upper_bound': 23\n",
    "    },\n",
    "    'Precipitation_mean()':{\n",
    "        'upper_bound': 32\n",
    "    },\n",
    "    'WindSpeed_mean()':{\n",
    "        'upper_bound': 10\n",
    "    },\n",
    "    'Precipitation_variance()':{\n",
    "        'upper_bound': 1500\n",
    "    },\n",
    "    'RelativeHumidity_variance()':{\n",
    "        'upper_bound': 1050\n",
    "    },\n",
    "    'SolarRadiation_variance()':{\n",
    "        'upper_bound': 1150\n",
    "    },\n",
    "    'WindSpeed_variance()':{\n",
    "        'upper_bound': 9\n",
    "    }\n",
    "}"
   ]
  },
  {
   "cell_type": "code",
   "execution_count": 49,
   "metadata": {},
   "outputs": [],
   "source": [
    "Weather_filtered = outlier_filter(H_Weather_reform.copy(), outliers_bound_weather)"
   ]
  },
  {
   "cell_type": "code",
   "execution_count": 50,
   "metadata": {},
   "outputs": [
    {
     "name": "stdout",
     "output_type": "stream",
     "text": [
      "5_WindSpeed_variance()\n",
      "mean =  1.9028294762334133  std =  1.2121301294227211\n",
      "outliers count (too large):  3\n",
      "outliers count (too small):  0\n"
     ]
    },
    {
     "data": {
      "image/png": "[encoded data removed]",
      "text/plain": [
       "<Figure size 432x288 with 1 Axes>"
      ]
     },
     "metadata": {},
     "output_type": "display_data"
    },
    {
     "name": "stdout",
     "output_type": "stream",
     "text": [
      "5_Precipitation_min()\n",
      "mean =  0.03919799774754658  std =  0.26974131120788536\n",
      "outliers count (too large):  28\n",
      "outliers count (too small):  0\n"
     ]
    },
    {
     "data": {
      "image/png": "[encoded data removed]",
      "text/plain": [
       "<Figure size 432x288 with 1 Axes>"
      ]
     },
     "metadata": {},
     "output_type": "display_data"
    },
    {
     "name": "stdout",
     "output_type": "stream",
     "text": [
      "5_Precipitation_max()\n",
      "mean =  17.523997998339997  std =  29.89052428980644\n",
      "outliers count (too large):  14\n",
      "outliers count (too small):  0\n"
     ]
    },
    {
     "data": {
      "image/png": "[encoded data removed]",
      "text/plain": [
       "<Figure size 432x288 with 1 Axes>"
      ]
     },
     "metadata": {},
     "output_type": "display_data"
    },
    {
     "name": "stdout",
     "output_type": "stream",
     "text": [
      "5_Precipitation_mean()\n",
      "mean =  1.5193043902770882  std =  2.8058129697916105\n",
      "outliers count (too large):  3\n",
      "outliers count (too small):  0\n"
     ]
    },
    {
     "data": {
      "image/png": "[encoded data removed]",
      "text/plain": [
       "<Figure size 432x288 with 1 Axes>"
      ]
     },
     "metadata": {},
     "output_type": "display_data"
    },
    {
     "name": "stdout",
     "output_type": "stream",
     "text": [
      "5_Precipitation_variance()\n",
      "mean =  17.925728239790846  std =  70.8218895841602\n",
      "outliers count (too large):  23\n",
      "outliers count (too small):  0\n"
     ]
    },
    {
     "data": {
      "image/png": "[encoded data removed]",
      "text/plain": [
       "<Figure size 432x288 with 1 Axes>"
      ]
     },
     "metadata": {},
     "output_type": "display_data"
    },
    {
     "name": "stdout",
     "output_type": "stream",
     "text": [
      "10_SolarRadiation_variance()\n",
      "mean =  16.289074415967352  std =  18.891555757497763\n",
      "outliers count (too large):  1\n",
      "outliers count (too small):  0\n"
     ]
    },
    {
     "data": {
      "image/png": "[encoded data removed]",
      "text/plain": [
       "<Figure size 432x288 with 1 Axes>"
      ]
     },
     "metadata": {},
     "output_type": "display_data"
    },
    {
     "name": "stdout",
     "output_type": "stream",
     "text": [
      "10_WindSpeed_variance()\n",
      "mean =  2.089918864308493  std =  1.3930484397871814\n",
      "outliers count (too large):  1\n",
      "outliers count (too small):  0\n"
     ]
    },
    {
     "data": {
      "image/png": "[encoded data removed]",
      "text/plain": [
       "<Figure size 432x288 with 1 Axes>"
      ]
     },
     "metadata": {},
     "output_type": "display_data"
    },
    {
     "name": "stdout",
     "output_type": "stream",
     "text": [
      "10_Precipitation_min()\n",
      "mean =  0.040589932603939456  std =  0.32268263995844354\n",
      "outliers count (too large):  27\n",
      "outliers count (too small):  0\n"
     ]
    },
    {
     "data": {
      "image/png": "[encoded data removed]",
      "text/plain": [
       "<Figure size 432x288 with 1 Axes>"
      ]
     },
     "metadata": {},
     "output_type": "display_data"
    },
    {
     "name": "stdout",
     "output_type": "stream",
     "text": [
      "10_Precipitation_max()\n",
      "mean =  16.213906467216347  std =  26.534688098965205\n",
      "outliers count (too large):  12\n",
      "outliers count (too small):  0\n"
     ]
    },
    {
     "data": {
      "image/png": "[encoded data removed]",
      "text/plain": [
       "<Figure size 432x288 with 1 Axes>"
      ]
     },
     "metadata": {},
     "output_type": "display_data"
    },
    {
     "name": "stdout",
     "output_type": "stream",
     "text": [
      "10_Precipitation_mean()\n",
      "mean =  1.4904923333089843  std =  2.683573330951212\n",
      "outliers count (too large):  4\n",
      "outliers count (too small):  0\n"
     ]
    },
    {
     "data": {
      "image/png": "[encoded data removed]",
      "text/plain": [
       "<Figure size 432x288 with 1 Axes>"
      ]
     },
     "metadata": {},
     "output_type": "display_data"
    },
    {
     "name": "stdout",
     "output_type": "stream",
     "text": [
      "10_Precipitation_variance()\n",
      "mean =  15.868537504191316  std =  65.01947746649634\n",
      "outliers count (too large):  22\n",
      "outliers count (too small):  0\n"
     ]
    },
    {
     "data": {
      "image/png": "[encoded data removed]",
      "text/plain": [
       "<Figure size 432x288 with 1 Axes>"
      ]
     },
     "metadata": {},
     "output_type": "display_data"
    },
    {
     "name": "stdout",
     "output_type": "stream",
     "text": [
      "15_SolarRadiation_variance()\n",
      "mean =  16.415928671519573  std =  18.499674983468722\n",
      "outliers count (too large):  3\n",
      "outliers count (too small):  0\n"
     ]
    },
    {
     "data": {
      "image/png": "[encoded data removed]",
      "text/plain": [
       "<Figure size 432x288 with 1 Axes>"
      ]
     },
     "metadata": {},
     "output_type": "display_data"
    },
    {
     "name": "stdout",
     "output_type": "stream",
     "text": [
      "15_WindSpeed_variance()\n",
      "mean =  2.138704162107919  std =  1.4284826823470007\n",
      "outliers count (too large):  2\n",
      "outliers count (too small):  0\n"
     ]
    },
    {
     "data": {
      "image/png": "[encoded data removed]",
      "text/plain": [
       "<Figure size 432x288 with 1 Axes>"
      ]
     },
     "metadata": {},
     "output_type": "display_data"
    },
    {
     "name": "stdout",
     "output_type": "stream",
     "text": [
      "15_Precipitation_min()\n",
      "mean =  0.4762218956703235  std =  10.578495499819184\n",
      "outliers count (too large):  22\n",
      "outliers count (too small):  0\n"
     ]
    },
    {
     "data": {
      "image/png": "[encoded data removed]",
      "text/plain": [
       "<Figure size 432x288 with 1 Axes>"
      ]
     },
     "metadata": {},
     "output_type": "display_data"
    },
    {
     "name": "stdout",
     "output_type": "stream",
     "text": [
      "15_Precipitation_max()\n",
      "mean =  30.96784485132403  std =  387.38612037273646\n",
      "outliers count (too large):  20\n",
      "outliers count (too small):  0\n"
     ]
    },
    {
     "data": {
      "image/png": "[encoded data removed]",
      "text/plain": [
       "<Figure size 432x288 with 1 Axes>"
      ]
     },
     "metadata": {},
     "output_type": "display_data"
    },
    {
     "name": "stdout",
     "output_type": "stream",
     "text": [
      "15_Precipitation_mean()\n",
      "mean =  5.538347601096533  std =  122.34317399431283\n",
      "outliers count (too large):  16\n",
      "outliers count (too small):  0\n"
     ]
    },
    {
     "data": {
      "image/png": "[encoded data removed]",
      "text/plain": [
       "<Figure size 432x288 with 1 Axes>"
      ]
     },
     "metadata": {},
     "output_type": "display_data"
    },
    {
     "name": "stdout",
     "output_type": "stream",
     "text": [
      "15_Precipitation_variance()\n",
      "mean =  22201.40252002519  std =  645391.7225777303\n",
      "outliers count (too large):  16\n",
      "outliers count (too small):  0\n"
     ]
    },
    {
     "data": {
      "image/png": "[encoded data removed]",
      "text/plain": [
       "<Figure size 432x288 with 1 Axes>"
      ]
     },
     "metadata": {},
     "output_type": "display_data"
    }
   ],
   "source": [
    "factor = 10\n",
    "df = H_Weather_Fc_reform_LeadTime\n",
    "ignore_cols = ['Date', 'Region', 'count()[unit: km^2]']\n",
    "\n",
    "for col in df.columns:\n",
    "    if col in ignore_cols:\n",
    "        continue\n",
    "    y = df[col]\n",
    "    y_mean = np.mean(y)\n",
    "    y_std = np.std(y)\n",
    "    upper_bound = y_mean + factor*y_std\n",
    "    lower_bound = y_mean - factor*y_std\n",
    "    outlier_large = len(y[y>upper_bound])\n",
    "    outlier_small = len(y[y<lower_bound])\n",
    "    if outlier_large + outlier_small > 0:\n",
    "        print(col)\n",
    "        print('mean = ', y_mean, ' std = ', y_std)\n",
    "        print('outliers count (too large): ', outlier_large)\n",
    "        print('outliers count (too small): ', outlier_small)\n",
    "        (n, _, _) = plt.hist(y, bins=100, log=True)\n",
    "        plt.title(col)\n",
    "        plt.show()"
   ]
  },
  {
   "cell_type": "code",
   "execution_count": 51,
   "metadata": {},
   "outputs": [],
   "source": [
    "outliers_bound_forecast = {\n",
    "    '5_RelativeHumidity_max()':{\n",
    "        'lower_bound': 45\n",
    "    },\n",
    "    '5_RelativeHumidity_variance()':{\n",
    "        'upper_bound': 850\n",
    "    },\n",
    "    '5_SolarRadiation_variance()':{\n",
    "        'upper_bound': 130\n",
    "    },\n",
    "    '5_WindSpeed_min()':{\n",
    "        'upper_bound': 6.5\n",
    "    },\n",
    "    '5_WindSpeed_max()':{\n",
    "        'upper_bound': 25\n",
    "    },\n",
    "    '5_WindSpeed_mean()':{\n",
    "        'upper_bound': 10\n",
    "    },\n",
    "    '5_WindSpeed_variance()':{\n",
    "        'upper_bound': 12\n",
    "    },\n",
    "    '5_Precipitation_max()':{\n",
    "        'upper_bound': 500\n",
    "    },\n",
    "    '5_Precipitation_mean()':{\n",
    "        'upper_bound': 30\n",
    "    },\n",
    "    '5_Precipitation_variance()':{\n",
    "        'upper_bound': 1300\n",
    "    },\n",
    "    '10_SolarRadiation_variance()':{\n",
    "        'upper_bound': 200\n",
    "    },\n",
    "    '10_WindSpeed_max()':{\n",
    "        'upper_bound': 26\n",
    "    },\n",
    "    '10_WindSpeed_mean()':{\n",
    "        'upper_bound': 12\n",
    "    },\n",
    "    '10_WindSpeed_variance()':{\n",
    "        'upper_bound': 20\n",
    "    },\n",
    "    '10_Precipitation_min()':{\n",
    "        'upper_bound': 10\n",
    "    },\n",
    "    '10_Precipitation_mean()':{\n",
    "        'upper_bound': 30\n",
    "    },\n",
    "    '10_Precipitation_variance()':{\n",
    "        'upper_bound': 2000\n",
    "    },\n",
    "    '15_SolarRadiation_variance()':{\n",
    "        'upper_bound': 200\n",
    "    },\n",
    "    '15_WindSpeed_max()':{\n",
    "        'upper_bound': 25\n",
    "    },\n",
    "    '15_Precipitation_variance()':{\n",
    "        'upper_bound': 200000\n",
    "    }\n",
    "}"
   ]
  },
  {
   "cell_type": "code",
   "execution_count": 52,
   "metadata": {},
   "outputs": [],
   "source": [
    "Weather_Fc_filtered = outlier_filter(H_Weather_Fc_reform_LeadTime.copy(), outliers_bound_forecast)"
   ]
  },
  {
   "cell_type": "markdown",
   "metadata": {},
   "source": [
    "Found it quite difficult to set the boundaries of outliers, but we can adjust it anytime we wish to.\n",
    "\n",
    "\"H_Weather_reform_filtered\" and \"H_Weather_Fc_reform_filtered\" are the latest dataframes for weather history data and weather forecast data.\n",
    "\n",
    "It was really nice approach! However, \n",
    "1. it is still right ways if it doesn't follow Normal Distribution? How about Using IQR ( mean - k * IQR )? (Later we can compare the output based on multiple outlier sorting  \n",
    "2. Besides, if we delete the value of the date, do we need to make up some value to put there? This is because we will deal with time series data, it could be important. (maybe not)  \n",
    "3. Forcast data begin from 2015-07-16 after reform. This is because before the date, it has less parameters. We should consider this fact, if we will use the data with less parameters - HJ, 30.Nov"
   ]
  },
  {
   "cell_type": "code",
   "execution_count": 53,
   "metadata": {},
   "outputs": [],
   "source": [
    "def decomposite_Date(df, column_name = 'Date'):\n",
    "    import datetime as dt\n",
    "    first_date = df[column_name].iloc[0]\n",
    "    df['Year'] = pd.DatetimeIndex(df[column_name]).year\n",
    "    df['Month'] = pd.DatetimeIndex(df[column_name]).month\n",
    "    df['Days_from_start'] = (df[column_name] - first_date).dt.total_seconds()/86400\n",
    "    df['Days_this_year'] = df[column_name].dt.dayofyear\n",
    "    df['Days_cos'] = np.cos(2*np.pi*df['Days_this_year']/366)\n",
    "    return df"
   ]
  },
  {
   "cell_type": "code",
   "execution_count": 54,
   "metadata": {},
   "outputs": [],
   "source": [
    "# To skip filltering, run this:\n",
    "Weather_reform_filtered = H_Weather_Fc_reform\n",
    "Weather_Fc_reform_filtered = H_Weather_Fc_reform_LeadTime"
   ]
  },
  {
   "cell_type": "code",
   "execution_count": 55,
   "metadata": {
    "scrolled": true
   },
   "outputs": [
    {
     "name": "stdout",
     "output_type": "stream",
     "text": [
      "<class 'pandas.core.frame.DataFrame'>\n",
      "Int64Index: 12400 entries, 0 to 12456\n",
      "Data columns (total 63 columns):\n",
      "Date                              12400 non-null object\n",
      "Region                            12400 non-null object\n",
      "count()[unit: km^2]               12400 non-null float64\n",
      "5_RelativeHumidity_min()          12400 non-null float64\n",
      "5_RelativeHumidity_max()          12400 non-null float64\n",
      "5_RelativeHumidity_mean()         12400 non-null float64\n",
      "5_RelativeHumidity_variance()     12400 non-null float64\n",
      "5_SolarRadiation_min()            12400 non-null float64\n",
      "5_SolarRadiation_max()            12400 non-null float64\n",
      "5_SolarRadiation_mean()           12400 non-null float64\n",
      "5_SolarRadiation_variance()       12400 non-null float64\n",
      "5_Temperature_min()               12400 non-null float64\n",
      "5_Temperature_max()               12400 non-null float64\n",
      "5_Temperature_mean()              12400 non-null float64\n",
      "5_Temperature_variance()          12400 non-null float64\n",
      "5_WindSpeed_min()                 12400 non-null float64\n",
      "5_WindSpeed_max()                 12400 non-null float64\n",
      "5_WindSpeed_mean()                12400 non-null float64\n",
      "5_WindSpeed_variance()            12400 non-null float64\n",
      "5_Precipitation_min()             12400 non-null float64\n",
      "5_Precipitation_max()             12400 non-null float64\n",
      "5_Precipitation_mean()            12400 non-null float64\n",
      "5_Precipitation_variance()        12400 non-null float64\n",
      "10_RelativeHumidity_min()         12400 non-null float64\n",
      "10_RelativeHumidity_max()         12400 non-null float64\n",
      "10_RelativeHumidity_mean()        12400 non-null float64\n",
      "10_RelativeHumidity_variance()    12400 non-null float64\n",
      "10_SolarRadiation_min()           12400 non-null float64\n",
      "10_SolarRadiation_max()           12400 non-null float64\n",
      "10_SolarRadiation_mean()          12400 non-null float64\n",
      "10_SolarRadiation_variance()      12400 non-null float64\n",
      "10_Temperature_min()              12400 non-null float64\n",
      "10_Temperature_max()              12400 non-null float64\n",
      "10_Temperature_mean()             12400 non-null float64\n",
      "10_Temperature_variance()         12400 non-null float64\n",
      "10_WindSpeed_min()                12400 non-null float64\n",
      "10_WindSpeed_max()                12400 non-null float64\n",
      "10_WindSpeed_mean()               12400 non-null float64\n",
      "10_WindSpeed_variance()           12400 non-null float64\n",
      "10_Precipitation_min()            12400 non-null float64\n",
      "10_Precipitation_max()            12400 non-null float64\n",
      "10_Precipitation_mean()           12400 non-null float64\n",
      "10_Precipitation_variance()       12400 non-null float64\n",
      "15_RelativeHumidity_min()         12400 non-null float64\n",
      "15_RelativeHumidity_max()         12400 non-null float64\n",
      "15_RelativeHumidity_mean()        12400 non-null float64\n",
      "15_RelativeHumidity_variance()    12400 non-null float64\n",
      "15_SolarRadiation_min()           12400 non-null float64\n",
      "15_SolarRadiation_max()           12400 non-null float64\n",
      "15_SolarRadiation_mean()          12400 non-null float64\n",
      "15_SolarRadiation_variance()      12400 non-null float64\n",
      "15_Temperature_min()              12400 non-null float64\n",
      "15_Temperature_max()              12400 non-null float64\n",
      "15_Temperature_mean()             12400 non-null float64\n",
      "15_Temperature_variance()         12400 non-null float64\n",
      "15_WindSpeed_min()                12400 non-null float64\n",
      "15_WindSpeed_max()                12400 non-null float64\n",
      "15_WindSpeed_mean()               12400 non-null float64\n",
      "15_WindSpeed_variance()           12400 non-null float64\n",
      "15_Precipitation_min()            12400 non-null float64\n",
      "15_Precipitation_max()            12400 non-null float64\n",
      "15_Precipitation_mean()           12400 non-null float64\n",
      "15_Precipitation_variance()       12400 non-null float64\n",
      "dtypes: float64(61), object(2)\n",
      "memory usage: 6.1+ MB\n"
     ]
    }
   ],
   "source": [
    "Weather_Fc_filtered.info()"
   ]
  },
  {
   "cell_type": "code",
   "execution_count": 56,
   "metadata": {},
   "outputs": [
    {
     "data": {
      "text/plain": [
       "Index(['Date', 'Region', 'count()[unit: km^2]', 'Precipitation_min()',\n",
       "       'Precipitation_max()', 'Precipitation_mean()',\n",
       "       'Precipitation_variance()', 'RelativeHumidity_min()',\n",
       "       'RelativeHumidity_max()', 'RelativeHumidity_mean()',\n",
       "       'RelativeHumidity_variance()', 'SoilWaterContent_min()',\n",
       "       'SoilWaterContent_max()', 'SoilWaterContent_mean()',\n",
       "       'SoilWaterContent_variance()', 'SolarRadiation_min()',\n",
       "       'SolarRadiation_max()', 'SolarRadiation_mean()',\n",
       "       'SolarRadiation_variance()', 'Temperature_min()', 'Temperature_max()',\n",
       "       'Temperature_mean()', 'Temperature_variance()', 'WindSpeed_min()',\n",
       "       'WindSpeed_max()', 'WindSpeed_mean()', 'WindSpeed_variance()'],\n",
       "      dtype='object')"
      ]
     },
     "execution_count": 56,
     "metadata": {},
     "output_type": "execute_result"
    }
   ],
   "source": [
    "Weather_filtered.columns"
   ]
  },
  {
   "cell_type": "code",
   "execution_count": 57,
   "metadata": {},
   "outputs": [
    {
     "data": {
      "text/plain": [
       "(40373, 27)"
      ]
     },
     "execution_count": 57,
     "metadata": {},
     "output_type": "execute_result"
    }
   ],
   "source": [
    "Weather_filtered.shape"
   ]
  },
  {
   "cell_type": "markdown",
   "metadata": {},
   "source": [
    "1. Decide input dimension. \n",
    "   Of course, it depends on the types of preprocessing.\n",
    "   Once we build model, then it will be the proof of which      data processing is better.\n",
    "2. Firstly, based on 'Weather_filtered', we build RNN model. So the input dimension is 27. | 30.Nov / HuiJo"
   ]
  },
  {
   "cell_type": "code",
   "execution_count": 58,
   "metadata": {},
   "outputs": [],
   "source": [
    "from sklearn.preprocessing import OneHotEncoder\n",
    "from sklearn.compose import make_column_transformer\n",
    "# it is used to change only subset of column"
   ]
  },
  {
   "cell_type": "code",
   "execution_count": 59,
   "metadata": {
    "scrolled": true
   },
   "outputs": [
    {
     "data": {
      "text/plain": [
       "array([[1., 0., 0., ..., 0., 0., 0.],\n",
       "       [0., 1., 0., ..., 0., 0., 0.],\n",
       "       [0., 0., 1., ..., 0., 0., 0.],\n",
       "       ...,\n",
       "       [0., 0., 0., ..., 1., 0., 0.],\n",
       "       [0., 0., 0., ..., 0., 1., 0.],\n",
       "       [0., 0., 0., ..., 0., 0., 1.]])"
      ]
     },
     "execution_count": 59,
     "metadata": {},
     "output_type": "execute_result"
    }
   ],
   "source": [
    "ohe = OneHotEncoder(sparse=False)\n",
    "ohe.fit_transform(Weather_filtered[['Region']])"
   ]
  },
  {
   "cell_type": "code",
   "execution_count": 60,
   "metadata": {
    "scrolled": true
   },
   "outputs": [
    {
     "data": {
      "text/plain": [
       "[array(['NSW', 'NT', 'QL', 'SA', 'TA', 'VI', 'WA'], dtype=object)]"
      ]
     },
     "execution_count": 60,
     "metadata": {},
     "output_type": "execute_result"
    }
   ],
   "source": [
    "ohe.categories_"
   ]
  },
  {
   "cell_type": "code",
   "execution_count": 61,
   "metadata": {},
   "outputs": [],
   "source": [
    "column_trans = make_column_transformer(\n",
    "(OneHotEncoder(),['Region']), remainder='passthrough')\n",
    "Weather_filtered_ohe1=column_trans.fit_transform(Weather_filtered.copy())\n",
    "# now Region is transformed into one-hot encoder."
   ]
  },
  {
   "cell_type": "code",
   "execution_count": 62,
   "metadata": {
    "scrolled": true
   },
   "outputs": [],
   "source": [
    "column_wo_Region=np.delete(Weather_filtered.columns.values,1)"
   ]
  },
  {
   "cell_type": "code",
   "execution_count": 107,
   "metadata": {
    "scrolled": true
   },
   "outputs": [
    {
     "data": {
      "text/html": [
       "<div>\n",
       "<style scoped>\n",
       "    .dataframe tbody tr th:only-of-type {\n",
       "        vertical-align: middle;\n",
       "    }\n",
       "\n",
       "    .dataframe tbody tr th {\n",
       "        vertical-align: top;\n",
       "    }\n",
       "\n",
       "    .dataframe thead th {\n",
       "        text-align: right;\n",
       "    }\n",
       "</style>\n",
       "<table border=\"1\" class=\"dataframe\">\n",
       "  <thead>\n",
       "    <tr style=\"text-align: right;\">\n",
       "      <th></th>\n",
       "      <th>Date</th>\n",
       "      <th>NSW</th>\n",
       "      <th>NT</th>\n",
       "      <th>QL</th>\n",
       "      <th>SA</th>\n",
       "      <th>TA</th>\n",
       "      <th>VI</th>\n",
       "      <th>WA</th>\n",
       "      <th>count()[unit: km^2]</th>\n",
       "      <th>Precipitation_min()</th>\n",
       "      <th>...</th>\n",
       "      <th>SolarRadiation_mean()</th>\n",
       "      <th>SolarRadiation_variance()</th>\n",
       "      <th>Temperature_min()</th>\n",
       "      <th>Temperature_max()</th>\n",
       "      <th>Temperature_mean()</th>\n",
       "      <th>Temperature_variance()</th>\n",
       "      <th>WindSpeed_min()</th>\n",
       "      <th>WindSpeed_max()</th>\n",
       "      <th>WindSpeed_mean()</th>\n",
       "      <th>WindSpeed_variance()</th>\n",
       "    </tr>\n",
       "  </thead>\n",
       "  <tbody>\n",
       "    <tr>\n",
       "      <th>0</th>\n",
       "      <td>2005-01-01</td>\n",
       "      <td>1</td>\n",
       "      <td>0</td>\n",
       "      <td>0</td>\n",
       "      <td>0</td>\n",
       "      <td>0</td>\n",
       "      <td>0</td>\n",
       "      <td>0</td>\n",
       "      <td>800234</td>\n",
       "      <td>0</td>\n",
       "      <td>...</td>\n",
       "      <td>26.7494</td>\n",
       "      <td>6.07859</td>\n",
       "      <td>14.4858</td>\n",
       "      <td>35.8787</td>\n",
       "      <td>27.3412</td>\n",
       "      <td>18.5622</td>\n",
       "      <td>1.35445</td>\n",
       "      <td>7.67048</td>\n",
       "      <td>3.32355</td>\n",
       "      <td>0.850048</td>\n",
       "    </tr>\n",
       "    <tr>\n",
       "      <th>1</th>\n",
       "      <td>2005-01-01</td>\n",
       "      <td>0</td>\n",
       "      <td>1</td>\n",
       "      <td>0</td>\n",
       "      <td>0</td>\n",
       "      <td>0</td>\n",
       "      <td>0</td>\n",
       "      <td>0</td>\n",
       "      <td>1.35756e+06</td>\n",
       "      <td>0</td>\n",
       "      <td>...</td>\n",
       "      <td>19.7818</td>\n",
       "      <td>58.9427</td>\n",
       "      <td>24.18</td>\n",
       "      <td>38.1368</td>\n",
       "      <td>29.8815</td>\n",
       "      <td>12.9203</td>\n",
       "      <td>1.84039</td>\n",
       "      <td>9.7044</td>\n",
       "      <td>5.29689</td>\n",
       "      <td>1.93001</td>\n",
       "    </tr>\n",
       "    <tr>\n",
       "      <th>2</th>\n",
       "      <td>2005-01-01</td>\n",
       "      <td>0</td>\n",
       "      <td>0</td>\n",
       "      <td>1</td>\n",
       "      <td>0</td>\n",
       "      <td>0</td>\n",
       "      <td>0</td>\n",
       "      <td>0</td>\n",
       "      <td>1.73061e+06</td>\n",
       "      <td>0</td>\n",
       "      <td>...</td>\n",
       "      <td>27.057</td>\n",
       "      <td>29.5008</td>\n",
       "      <td>20.9516</td>\n",
       "      <td>37.0479</td>\n",
       "      <td>28.8429</td>\n",
       "      <td>13.7926</td>\n",
       "      <td>1.10603</td>\n",
       "      <td>7.67563</td>\n",
       "      <td>3.48375</td>\n",
       "      <td>0.883048</td>\n",
       "    </tr>\n",
       "    <tr>\n",
       "      <th>3</th>\n",
       "      <td>2005-01-01</td>\n",
       "      <td>0</td>\n",
       "      <td>0</td>\n",
       "      <td>0</td>\n",
       "      <td>1</td>\n",
       "      <td>0</td>\n",
       "      <td>0</td>\n",
       "      <td>0</td>\n",
       "      <td>991315</td>\n",
       "      <td>0</td>\n",
       "      <td>...</td>\n",
       "      <td>27.1426</td>\n",
       "      <td>7.91425</td>\n",
       "      <td>14.0959</td>\n",
       "      <td>38.3268</td>\n",
       "      <td>30.7937</td>\n",
       "      <td>34.7993</td>\n",
       "      <td>2.02366</td>\n",
       "      <td>10.0447</td>\n",
       "      <td>4.65754</td>\n",
       "      <td>1.65591</td>\n",
       "    </tr>\n",
       "    <tr>\n",
       "      <th>4</th>\n",
       "      <td>2005-01-01</td>\n",
       "      <td>0</td>\n",
       "      <td>0</td>\n",
       "      <td>0</td>\n",
       "      <td>0</td>\n",
       "      <td>1</td>\n",
       "      <td>0</td>\n",
       "      <td>0</td>\n",
       "      <td>67785.3</td>\n",
       "      <td>0.00397299</td>\n",
       "      <td>...</td>\n",
       "      <td>26.7557</td>\n",
       "      <td>12.8264</td>\n",
       "      <td>6.68682</td>\n",
       "      <td>16.2285</td>\n",
       "      <td>11.7888</td>\n",
       "      <td>4.91201</td>\n",
       "      <td>1.99565</td>\n",
       "      <td>11.4324</td>\n",
       "      <td>5.40814</td>\n",
       "      <td>2.96312</td>\n",
       "    </tr>\n",
       "    <tr>\n",
       "      <th>...</th>\n",
       "      <td>...</td>\n",
       "      <td>...</td>\n",
       "      <td>...</td>\n",
       "      <td>...</td>\n",
       "      <td>...</td>\n",
       "      <td>...</td>\n",
       "      <td>...</td>\n",
       "      <td>...</td>\n",
       "      <td>...</td>\n",
       "      <td>...</td>\n",
       "      <td>...</td>\n",
       "      <td>...</td>\n",
       "      <td>...</td>\n",
       "      <td>...</td>\n",
       "      <td>...</td>\n",
       "      <td>...</td>\n",
       "      <td>...</td>\n",
       "      <td>...</td>\n",
       "      <td>...</td>\n",
       "      <td>...</td>\n",
       "      <td>...</td>\n",
       "    </tr>\n",
       "    <tr>\n",
       "      <th>40368</th>\n",
       "      <td>2020-10-31</td>\n",
       "      <td>0</td>\n",
       "      <td>0</td>\n",
       "      <td>1</td>\n",
       "      <td>0</td>\n",
       "      <td>0</td>\n",
       "      <td>0</td>\n",
       "      <td>0</td>\n",
       "      <td>1.73061e+06</td>\n",
       "      <td>0</td>\n",
       "      <td>...</td>\n",
       "      <td>28.7451</td>\n",
       "      <td>4.79628</td>\n",
       "      <td>17.2498</td>\n",
       "      <td>32.113</td>\n",
       "      <td>24.7778</td>\n",
       "      <td>8.81194</td>\n",
       "      <td>1.18056</td>\n",
       "      <td>7.64372</td>\n",
       "      <td>3.13774</td>\n",
       "      <td>0.549077</td>\n",
       "    </tr>\n",
       "    <tr>\n",
       "      <th>40369</th>\n",
       "      <td>2020-10-31</td>\n",
       "      <td>0</td>\n",
       "      <td>0</td>\n",
       "      <td>0</td>\n",
       "      <td>1</td>\n",
       "      <td>0</td>\n",
       "      <td>0</td>\n",
       "      <td>0</td>\n",
       "      <td>991315</td>\n",
       "      <td>0</td>\n",
       "      <td>...</td>\n",
       "      <td>26.5306</td>\n",
       "      <td>17.0932</td>\n",
       "      <td>9.94841</td>\n",
       "      <td>26.117</td>\n",
       "      <td>18.9478</td>\n",
       "      <td>9.46686</td>\n",
       "      <td>2.06262</td>\n",
       "      <td>7.62072</td>\n",
       "      <td>3.54823</td>\n",
       "      <td>0.640926</td>\n",
       "    </tr>\n",
       "    <tr>\n",
       "      <th>40370</th>\n",
       "      <td>2020-10-31</td>\n",
       "      <td>0</td>\n",
       "      <td>0</td>\n",
       "      <td>0</td>\n",
       "      <td>0</td>\n",
       "      <td>1</td>\n",
       "      <td>0</td>\n",
       "      <td>0</td>\n",
       "      <td>67785.3</td>\n",
       "      <td>0.000703253</td>\n",
       "      <td>...</td>\n",
       "      <td>21.7827</td>\n",
       "      <td>8.71898</td>\n",
       "      <td>8.21709</td>\n",
       "      <td>14.5774</td>\n",
       "      <td>11.6488</td>\n",
       "      <td>2.38899</td>\n",
       "      <td>1.30077</td>\n",
       "      <td>7.38819</td>\n",
       "      <td>2.5017</td>\n",
       "      <td>0.859296</td>\n",
       "    </tr>\n",
       "    <tr>\n",
       "      <th>40371</th>\n",
       "      <td>2020-10-31</td>\n",
       "      <td>0</td>\n",
       "      <td>0</td>\n",
       "      <td>0</td>\n",
       "      <td>0</td>\n",
       "      <td>0</td>\n",
       "      <td>1</td>\n",
       "      <td>0</td>\n",
       "      <td>229453</td>\n",
       "      <td>0</td>\n",
       "      <td>...</td>\n",
       "      <td>19.5538</td>\n",
       "      <td>9.9172</td>\n",
       "      <td>9.18651</td>\n",
       "      <td>17.3075</td>\n",
       "      <td>13.1671</td>\n",
       "      <td>4.0885</td>\n",
       "      <td>1.784</td>\n",
       "      <td>6.6056</td>\n",
       "      <td>3.83836</td>\n",
       "      <td>1.01908</td>\n",
       "    </tr>\n",
       "    <tr>\n",
       "      <th>40372</th>\n",
       "      <td>2020-10-31</td>\n",
       "      <td>0</td>\n",
       "      <td>0</td>\n",
       "      <td>0</td>\n",
       "      <td>0</td>\n",
       "      <td>0</td>\n",
       "      <td>0</td>\n",
       "      <td>1</td>\n",
       "      <td>2.52855e+06</td>\n",
       "      <td>0</td>\n",
       "      <td>...</td>\n",
       "      <td>26.7464</td>\n",
       "      <td>5.98606</td>\n",
       "      <td>16.2382</td>\n",
       "      <td>34.6691</td>\n",
       "      <td>28.0904</td>\n",
       "      <td>15.294</td>\n",
       "      <td>1.70402</td>\n",
       "      <td>9.03195</td>\n",
       "      <td>4.37395</td>\n",
       "      <td>1.87361</td>\n",
       "    </tr>\n",
       "  </tbody>\n",
       "</table>\n",
       "<p>40373 rows × 33 columns</p>\n",
       "</div>"
      ],
      "text/plain": [
       "             Date NSW NT QL SA TA VI WA count()[unit: km^2]  \\\n",
       "0      2005-01-01   1  0  0  0  0  0  0              800234   \n",
       "1      2005-01-01   0  1  0  0  0  0  0         1.35756e+06   \n",
       "2      2005-01-01   0  0  1  0  0  0  0         1.73061e+06   \n",
       "3      2005-01-01   0  0  0  1  0  0  0              991315   \n",
       "4      2005-01-01   0  0  0  0  1  0  0             67785.3   \n",
       "...           ...  .. .. .. .. .. .. ..                 ...   \n",
       "40368  2020-10-31   0  0  1  0  0  0  0         1.73061e+06   \n",
       "40369  2020-10-31   0  0  0  1  0  0  0              991315   \n",
       "40370  2020-10-31   0  0  0  0  1  0  0             67785.3   \n",
       "40371  2020-10-31   0  0  0  0  0  1  0              229453   \n",
       "40372  2020-10-31   0  0  0  0  0  0  1         2.52855e+06   \n",
       "\n",
       "      Precipitation_min()  ... SolarRadiation_mean()  \\\n",
       "0                       0  ...               26.7494   \n",
       "1                       0  ...               19.7818   \n",
       "2                       0  ...                27.057   \n",
       "3                       0  ...               27.1426   \n",
       "4              0.00397299  ...               26.7557   \n",
       "...                   ...  ...                   ...   \n",
       "40368                   0  ...               28.7451   \n",
       "40369                   0  ...               26.5306   \n",
       "40370         0.000703253  ...               21.7827   \n",
       "40371                   0  ...               19.5538   \n",
       "40372                   0  ...               26.7464   \n",
       "\n",
       "      SolarRadiation_variance() Temperature_min() Temperature_max()  \\\n",
       "0                       6.07859           14.4858           35.8787   \n",
       "1                       58.9427             24.18           38.1368   \n",
       "2                       29.5008           20.9516           37.0479   \n",
       "3                       7.91425           14.0959           38.3268   \n",
       "4                       12.8264           6.68682           16.2285   \n",
       "...                         ...               ...               ...   \n",
       "40368                   4.79628           17.2498            32.113   \n",
       "40369                   17.0932           9.94841            26.117   \n",
       "40370                   8.71898           8.21709           14.5774   \n",
       "40371                    9.9172           9.18651           17.3075   \n",
       "40372                   5.98606           16.2382           34.6691   \n",
       "\n",
       "      Temperature_mean() Temperature_variance() WindSpeed_min()  \\\n",
       "0                27.3412                18.5622         1.35445   \n",
       "1                29.8815                12.9203         1.84039   \n",
       "2                28.8429                13.7926         1.10603   \n",
       "3                30.7937                34.7993         2.02366   \n",
       "4                11.7888                4.91201         1.99565   \n",
       "...                  ...                    ...             ...   \n",
       "40368            24.7778                8.81194         1.18056   \n",
       "40369            18.9478                9.46686         2.06262   \n",
       "40370            11.6488                2.38899         1.30077   \n",
       "40371            13.1671                 4.0885           1.784   \n",
       "40372            28.0904                 15.294         1.70402   \n",
       "\n",
       "      WindSpeed_max() WindSpeed_mean() WindSpeed_variance()  \n",
       "0             7.67048          3.32355             0.850048  \n",
       "1              9.7044          5.29689              1.93001  \n",
       "2             7.67563          3.48375             0.883048  \n",
       "3             10.0447          4.65754              1.65591  \n",
       "4             11.4324          5.40814              2.96312  \n",
       "...               ...              ...                  ...  \n",
       "40368         7.64372          3.13774             0.549077  \n",
       "40369         7.62072          3.54823             0.640926  \n",
       "40370         7.38819           2.5017             0.859296  \n",
       "40371          6.6056          3.83836              1.01908  \n",
       "40372         9.03195          4.37395              1.87361  \n",
       "\n",
       "[40373 rows x 33 columns]"
      ]
     },
     "execution_count": 107,
     "metadata": {},
     "output_type": "execute_result"
    }
   ],
   "source": [
    "Weather_filtered_ohe=pd.DataFrame(Weather_filtered_ohe1,columns=np.concatenate((np.squeeze(np.array(ohe.categories_)),column_wo_Region)))\n",
    "Weather_filtered_ohe=Weather_filtered_ohe.reindex(columns=['Date','NSW', 'NT', 'QL', 'SA', 'TA', 'VI', 'WA','count()[unit: km^2]', 'Precipitation_min()',\n",
    "       'Precipitation_max()', 'Precipitation_mean()',\n",
    "       'Precipitation_variance()', 'RelativeHumidity_min()',\n",
    "       'RelativeHumidity_max()', 'RelativeHumidity_mean()',\n",
    "       'RelativeHumidity_variance()', 'SoilWaterContent_min()',\n",
    "       'SoilWaterContent_max()', 'SoilWaterContent_mean()',\n",
    "       'SoilWaterContent_variance()', 'SolarRadiation_min()',\n",
    "       'SolarRadiation_max()', 'SolarRadiation_mean()',\n",
    "       'SolarRadiation_variance()', 'Temperature_min()', 'Temperature_max()',\n",
    "       'Temperature_mean()', 'Temperature_variance()', 'WindSpeed_min()',\n",
    "       'WindSpeed_max()', 'WindSpeed_mean()', 'WindSpeed_variance()'])\n",
    "Weather_filtered_ohe"
   ]
  },
  {
   "cell_type": "code",
   "execution_count": 108,
   "metadata": {
    "scrolled": true
   },
   "outputs": [
    {
     "data": {
      "text/html": [
       "<div>\n",
       "<style scoped>\n",
       "    .dataframe tbody tr th:only-of-type {\n",
       "        vertical-align: middle;\n",
       "    }\n",
       "\n",
       "    .dataframe tbody tr th {\n",
       "        vertical-align: top;\n",
       "    }\n",
       "\n",
       "    .dataframe thead th {\n",
       "        text-align: right;\n",
       "    }\n",
       "</style>\n",
       "<table border=\"1\" class=\"dataframe\">\n",
       "  <thead>\n",
       "    <tr style=\"text-align: right;\">\n",
       "      <th></th>\n",
       "      <th>NSW</th>\n",
       "      <th>NT</th>\n",
       "      <th>QL</th>\n",
       "      <th>SA</th>\n",
       "      <th>TA</th>\n",
       "      <th>VI</th>\n",
       "      <th>WA</th>\n",
       "      <th>Date</th>\n",
       "      <th>Estimated_fire_area</th>\n",
       "      <th>Mean_estimated_fire_brightness</th>\n",
       "      <th>Mean_estimated_fire_radiative_power</th>\n",
       "      <th>Mean_confidence</th>\n",
       "      <th>Var_confidence</th>\n",
       "      <th>Count</th>\n",
       "      <th>Replaced</th>\n",
       "    </tr>\n",
       "  </thead>\n",
       "  <tbody>\n",
       "    <tr>\n",
       "      <th>0</th>\n",
       "      <td>1</td>\n",
       "      <td>0</td>\n",
       "      <td>0</td>\n",
       "      <td>0</td>\n",
       "      <td>0</td>\n",
       "      <td>0</td>\n",
       "      <td>0</td>\n",
       "      <td>1/4/2005</td>\n",
       "      <td>8.68</td>\n",
       "      <td>312.267</td>\n",
       "      <td>42.4</td>\n",
       "      <td>78.6667</td>\n",
       "      <td>8.33333</td>\n",
       "      <td>3</td>\n",
       "      <td>R</td>\n",
       "    </tr>\n",
       "    <tr>\n",
       "      <th>1</th>\n",
       "      <td>1</td>\n",
       "      <td>0</td>\n",
       "      <td>0</td>\n",
       "      <td>0</td>\n",
       "      <td>0</td>\n",
       "      <td>0</td>\n",
       "      <td>0</td>\n",
       "      <td>1/5/2005</td>\n",
       "      <td>16.6112</td>\n",
       "      <td>322.475</td>\n",
       "      <td>62.3625</td>\n",
       "      <td>85.5</td>\n",
       "      <td>65.4286</td>\n",
       "      <td>8</td>\n",
       "      <td>R</td>\n",
       "    </tr>\n",
       "    <tr>\n",
       "      <th>2</th>\n",
       "      <td>1</td>\n",
       "      <td>0</td>\n",
       "      <td>0</td>\n",
       "      <td>0</td>\n",
       "      <td>0</td>\n",
       "      <td>0</td>\n",
       "      <td>0</td>\n",
       "      <td>1/6/2005</td>\n",
       "      <td>5.52</td>\n",
       "      <td>325.267</td>\n",
       "      <td>38.4</td>\n",
       "      <td>78.3333</td>\n",
       "      <td>10.3333</td>\n",
       "      <td>3</td>\n",
       "      <td>R</td>\n",
       "    </tr>\n",
       "    <tr>\n",
       "      <th>3</th>\n",
       "      <td>1</td>\n",
       "      <td>0</td>\n",
       "      <td>0</td>\n",
       "      <td>0</td>\n",
       "      <td>0</td>\n",
       "      <td>0</td>\n",
       "      <td>0</td>\n",
       "      <td>1/7/2005</td>\n",
       "      <td>6.264</td>\n",
       "      <td>313.87</td>\n",
       "      <td>33.8</td>\n",
       "      <td>92.2</td>\n",
       "      <td>56.7</td>\n",
       "      <td>5</td>\n",
       "      <td>R</td>\n",
       "    </tr>\n",
       "    <tr>\n",
       "      <th>4</th>\n",
       "      <td>1</td>\n",
       "      <td>0</td>\n",
       "      <td>0</td>\n",
       "      <td>0</td>\n",
       "      <td>0</td>\n",
       "      <td>0</td>\n",
       "      <td>0</td>\n",
       "      <td>1/8/2005</td>\n",
       "      <td>5.4</td>\n",
       "      <td>337.383</td>\n",
       "      <td>122.533</td>\n",
       "      <td>91</td>\n",
       "      <td>63</td>\n",
       "      <td>3</td>\n",
       "      <td>R</td>\n",
       "    </tr>\n",
       "    <tr>\n",
       "      <th>...</th>\n",
       "      <td>...</td>\n",
       "      <td>...</td>\n",
       "      <td>...</td>\n",
       "      <td>...</td>\n",
       "      <td>...</td>\n",
       "      <td>...</td>\n",
       "      <td>...</td>\n",
       "      <td>...</td>\n",
       "      <td>...</td>\n",
       "      <td>...</td>\n",
       "      <td>...</td>\n",
       "      <td>...</td>\n",
       "      <td>...</td>\n",
       "      <td>...</td>\n",
       "      <td>...</td>\n",
       "    </tr>\n",
       "    <tr>\n",
       "      <th>24194</th>\n",
       "      <td>0</td>\n",
       "      <td>0</td>\n",
       "      <td>0</td>\n",
       "      <td>0</td>\n",
       "      <td>0</td>\n",
       "      <td>0</td>\n",
       "      <td>1</td>\n",
       "      <td>10/27/2020</td>\n",
       "      <td>32.97</td>\n",
       "      <td>324.068</td>\n",
       "      <td>103.318</td>\n",
       "      <td>84.3636</td>\n",
       "      <td>27.8545</td>\n",
       "      <td>11</td>\n",
       "      <td>N</td>\n",
       "    </tr>\n",
       "    <tr>\n",
       "      <th>24195</th>\n",
       "      <td>0</td>\n",
       "      <td>0</td>\n",
       "      <td>0</td>\n",
       "      <td>0</td>\n",
       "      <td>0</td>\n",
       "      <td>0</td>\n",
       "      <td>1</td>\n",
       "      <td>10/28/2020</td>\n",
       "      <td>20.8406</td>\n",
       "      <td>314.425</td>\n",
       "      <td>37.2563</td>\n",
       "      <td>88.3125</td>\n",
       "      <td>65.9625</td>\n",
       "      <td>16</td>\n",
       "      <td>N</td>\n",
       "    </tr>\n",
       "    <tr>\n",
       "      <th>24196</th>\n",
       "      <td>0</td>\n",
       "      <td>0</td>\n",
       "      <td>0</td>\n",
       "      <td>0</td>\n",
       "      <td>0</td>\n",
       "      <td>0</td>\n",
       "      <td>1</td>\n",
       "      <td>10/29/2020</td>\n",
       "      <td>136.083</td>\n",
       "      <td>323.588</td>\n",
       "      <td>294.103</td>\n",
       "      <td>92.9744</td>\n",
       "      <td>68.6046</td>\n",
       "      <td>39</td>\n",
       "      <td>N</td>\n",
       "    </tr>\n",
       "    <tr>\n",
       "      <th>24197</th>\n",
       "      <td>0</td>\n",
       "      <td>0</td>\n",
       "      <td>0</td>\n",
       "      <td>0</td>\n",
       "      <td>0</td>\n",
       "      <td>0</td>\n",
       "      <td>1</td>\n",
       "      <td>10/30/2020</td>\n",
       "      <td>42.3979</td>\n",
       "      <td>324.205</td>\n",
       "      <td>54.9947</td>\n",
       "      <td>89.6316</td>\n",
       "      <td>71.5903</td>\n",
       "      <td>38</td>\n",
       "      <td>N</td>\n",
       "    </tr>\n",
       "    <tr>\n",
       "      <th>24198</th>\n",
       "      <td>0</td>\n",
       "      <td>0</td>\n",
       "      <td>0</td>\n",
       "      <td>0</td>\n",
       "      <td>0</td>\n",
       "      <td>0</td>\n",
       "      <td>1</td>\n",
       "      <td>10/31/2020</td>\n",
       "      <td>107.371</td>\n",
       "      <td>330.057</td>\n",
       "      <td>201.626</td>\n",
       "      <td>92.9787</td>\n",
       "      <td>52.8039</td>\n",
       "      <td>47</td>\n",
       "      <td>N</td>\n",
       "    </tr>\n",
       "  </tbody>\n",
       "</table>\n",
       "<p>24199 rows × 15 columns</p>\n",
       "</div>"
      ],
      "text/plain": [
       "      NSW NT QL SA TA VI WA        Date Estimated_fire_area  \\\n",
       "0       1  0  0  0  0  0  0    1/4/2005                8.68   \n",
       "1       1  0  0  0  0  0  0    1/5/2005             16.6112   \n",
       "2       1  0  0  0  0  0  0    1/6/2005                5.52   \n",
       "3       1  0  0  0  0  0  0    1/7/2005               6.264   \n",
       "4       1  0  0  0  0  0  0    1/8/2005                 5.4   \n",
       "...    .. .. .. .. .. .. ..         ...                 ...   \n",
       "24194   0  0  0  0  0  0  1  10/27/2020               32.97   \n",
       "24195   0  0  0  0  0  0  1  10/28/2020             20.8406   \n",
       "24196   0  0  0  0  0  0  1  10/29/2020             136.083   \n",
       "24197   0  0  0  0  0  0  1  10/30/2020             42.3979   \n",
       "24198   0  0  0  0  0  0  1  10/31/2020             107.371   \n",
       "\n",
       "      Mean_estimated_fire_brightness Mean_estimated_fire_radiative_power  \\\n",
       "0                            312.267                                42.4   \n",
       "1                            322.475                             62.3625   \n",
       "2                            325.267                                38.4   \n",
       "3                             313.87                                33.8   \n",
       "4                            337.383                             122.533   \n",
       "...                              ...                                 ...   \n",
       "24194                        324.068                             103.318   \n",
       "24195                        314.425                             37.2563   \n",
       "24196                        323.588                             294.103   \n",
       "24197                        324.205                             54.9947   \n",
       "24198                        330.057                             201.626   \n",
       "\n",
       "      Mean_confidence Var_confidence Count Replaced  \n",
       "0             78.6667        8.33333     3        R  \n",
       "1                85.5        65.4286     8        R  \n",
       "2             78.3333        10.3333     3        R  \n",
       "3                92.2           56.7     5        R  \n",
       "4                  91             63     3        R  \n",
       "...               ...            ...   ...      ...  \n",
       "24194         84.3636        27.8545    11        N  \n",
       "24195         88.3125        65.9625    16        N  \n",
       "24196         92.9744        68.6046    39        N  \n",
       "24197         89.6316        71.5903    38        N  \n",
       "24198         92.9787        52.8039    47        N  \n",
       "\n",
       "[24199 rows x 15 columns]"
      ]
     },
     "execution_count": 108,
     "metadata": {},
     "output_type": "execute_result"
    }
   ],
   "source": [
    "ohe2 = OneHotEncoder(sparse=False)\n",
    "ohe2.fit_transform(H_Wildfires[['Region']])\n",
    "column_trans = make_column_transformer(\n",
    "(OneHotEncoder(),['Region']), remainder='passthrough')\n",
    "H_Wildfires_ohe2=column_trans.fit_transform(H_Wildfires.copy())\n",
    "# now Region is transformed into one-hot encoder.\n",
    "H_Wildfires_ohe2\n",
    "column_wo_Region2=np.delete(H_Wildfires.columns.values,0) # if the wrong column is deleted, change 0 to proper column.\n",
    "H_Wildfires_ohe=pd.DataFrame(H_Wildfires_ohe2,columns=np.concatenate((np.squeeze(np.array(ohe2.categories_)),column_wo_Region2)))\n",
    "H_Wildfires_ohe"
   ]
  },
  {
   "cell_type": "code",
   "execution_count": 109,
   "metadata": {},
   "outputs": [],
   "source": [
    "H_Wildfires_ohe=H_Wildfires_ohe.drop(columns=['Replaced'])\n",
    "# Delete Replaced. I believe it has no impact for the result."
   ]
  },
  {
   "cell_type": "markdown",
   "metadata": {},
   "source": [
    "In order to merge the input data, set up the same data type of Date"
   ]
  },
  {
   "cell_type": "code",
   "execution_count": 110,
   "metadata": {
    "scrolled": true
   },
   "outputs": [],
   "source": [
    "H_Wildfires_ohe.Date=pd.to_datetime(H_Wildfires_ohe.Date)\n",
    "Weather_filtered_ohe.Date=pd.to_datetime(Weather_filtered_ohe.Date)"
   ]
  },
  {
   "cell_type": "code",
   "execution_count": 111,
   "metadata": {},
   "outputs": [
    {
     "data": {
      "text/plain": [
       "True"
      ]
     },
     "execution_count": 111,
     "metadata": {},
     "output_type": "execute_result"
    }
   ],
   "source": [
    "Weather_filtered_ohe.iloc[24,0]==H_Wildfires_ohe.iloc[0,7] # It's same now."
   ]
  },
  {
   "cell_type": "markdown",
   "metadata": {},
   "source": [
    "Apply INNER JOIN (Relational Algebra, SQL)\n",
    "That means it doesn't consider the values of NaN (which was filtered before)"
   ]
  },
  {
   "cell_type": "markdown",
   "metadata": {},
   "source": [
    "Our goal (4. 12. 2020)\n",
    "1. Change the sorting of Input (it should be based on date.)\n",
    "2. label and train data both have State.\n",
    "3. Make simple model (input 28days 38columns 7regions, output 28days 8columns(7regions and 1fire area number))\n",
    "\n",
    "-. Maybe Noralizing. (later, after building model)"
   ]
  },
  {
   "cell_type": "code",
   "execution_count": 125,
   "metadata": {},
   "outputs": [],
   "source": [
    "Input = pd.merge(H_Wildfires_ohe, Weather_filtered_ohe, how='inner', on=['Date','NSW', 'NT', 'QL', 'SA', 'TA', 'VI', 'WA'])\n",
    "Input = Input.sort_values(['Date'])"
   ]
  },
  {
   "cell_type": "code",
   "execution_count": 126,
   "metadata": {
    "scrolled": true
   },
   "outputs": [],
   "source": [
    "# label = Input[['NSW', 'NT', 'QL', 'SA', 'TA', 'VI', 'WA', 'Estimated_fire_area']]\n",
    "# train = Input.drop(columns = ['Estimated_fire_area'])\n",
    "# I don't agree with this now. - HJ"
   ]
  },
  {
   "cell_type": "code",
   "execution_count": 127,
   "metadata": {},
   "outputs": [],
   "source": [
    "# label = Input[['Estimated_fire_area']]\n",
    "# data = Input.drop(columns = ['Estimated_fire_area','Date'])\n",
    "# Now, date is not necessary !"
   ]
  },
  {
   "cell_type": "code",
   "execution_count": 119,
   "metadata": {},
   "outputs": [],
   "source": [
    "# train_data = data[:int(np.round((0.7*n),0))]\n",
    "# val_data = data[int(np.round((0.7*n),0)):int(np.round((0.85*n),0))]\n",
    "# test_data = data[int(np.round((0.85*n),0)):]\n",
    "# train_label = label[:int(np.round((0.7*n),0))]\n",
    "# val_label =  label[int(np.round((0.7*n),0)):int(np.round((0.85*n),0))]\n",
    "# train_label = label[:int(np.round((0.85*n),0))]"
   ]
  },
  {
   "cell_type": "markdown",
   "metadata": {},
   "source": [
    "## Split & Normalize Data + Delete Date column"
   ]
  },
  {
   "cell_type": "code",
   "execution_count": 159,
   "metadata": {},
   "outputs": [],
   "source": [
    "df = Input.drop(columns = ['Date'])\n",
    "num_features = Input.shape[1]\n",
    "\n",
    "n = len(df)\n",
    "train_df = df[0:int(n*0.7)]\n",
    "val_df = df[int(n*0.7):int(n*0.9)]\n",
    "test_df = df[int(n*0.9):]\n",
    "\n",
    "df.astype(float)\n",
    "\n",
    "train_mean = train_df.mean()\n",
    "train_std = train_df.std()\n",
    "\n",
    "# train_df = (train_df - train_mean) / train_std\n",
    "# val_df = (val_df - train_mean) / train_std\n",
    "# test_df = (test_df - train_mean) / train_std"
   ]
  },
  {
   "cell_type": "markdown",
   "metadata": {},
   "source": [
    "If want to apply Normalize, it should be done before one-hot encoding. 4.Dec.2020 Huijo"
   ]
  },
  {
   "cell_type": "markdown",
   "metadata": {},
   "source": [
    "Code below is not yet ready to use.\n",
    "I should manage Input into one file and split them. 30.Nov / Huijo"
   ]
  },
  {
   "cell_type": "code",
   "execution_count": 70,
   "metadata": {},
   "outputs": [],
   "source": [
    "import tensorflow as tf\n",
    "from tensorflow import keras\n",
    "from tensorflow.keras import layers\n"
   ]
  },
  {
   "cell_type": "markdown",
   "metadata": {},
   "source": [
    "I think we only need to set the size of input as 38.\n",
    "If the input represent a specific state, output will represent the state.\n",
    "However, in this case, we consider very much of the relation among states. -04.DEC.Huijo"
   ]
  },
  {
   "cell_type": "markdown",
   "metadata": {},
   "source": [
    "The main features of the input windows are:\n",
    "\n",
    "1. The width (number of time steps) of the input and label windows\n",
    "2. The time offset between them.\n",
    "3. Which features are used as inputs, labels, or both."
   ]
  },
  {
   "cell_type": "markdown",
   "metadata": {},
   "source": [
    "## 1. Indexes and offsets\n",
    "\n",
    "The rest of this section defines a WindowGenerator class. This class can:\n",
    "\n",
    "Handle the indexes and offsets as shown in the diagrams above.\n",
    "Split windows of features into a (features, labels) pairs.\n",
    "Plot the content of the resulting windows.\n",
    "Efficiently generate batches of these windows from the training, evaluation, and test data, using tf.data.Datasets.\n",
    "\n",
    "Start by creating the WindowGenerator class. The __init__ method includes all the necessary logic for the input and label indices.\n",
    "\n",
    "It also takes the train, eval, and test dataframes as input. These will be converted to tf.data.Datasets of windows later."
   ]
  },
  {
   "cell_type": "code",
   "execution_count": 163,
   "metadata": {},
   "outputs": [],
   "source": [
    "class WindowGenerator():\n",
    "  def __init__(self, input_width, label_width, shift,\n",
    "               train_df=train_df, val_df=val_df, test_df=test_df,\n",
    "               label_columns=None):\n",
    "    # Store the raw data.\n",
    "    self.train_df = train_df\n",
    "    self.val_df = val_df\n",
    "    self.test_df = test_df\n",
    "\n",
    "    # Work out the label column indices.\n",
    "    self.label_columns = label_columns\n",
    "    if label_columns is not None:\n",
    "      self.label_columns_indices = {name: i for i, name in\n",
    "                                    enumerate(label_columns)}\n",
    "    self.column_indices = {name: i for i, name in\n",
    "                           enumerate(train_df.columns)}\n",
    "\n",
    "    # Work out the window parameters.\n",
    "    self.input_width = input_width\n",
    "    self.label_width = label_width\n",
    "    self.shift = shift\n",
    "\n",
    "    self.total_window_size = input_width + shift\n",
    "\n",
    "    self.input_slice = slice(0, input_width)\n",
    "    self.input_indices = np.arange(self.total_window_size)[self.input_slice]\n",
    "\n",
    "    self.label_start = self.total_window_size - self.label_width\n",
    "    self.labels_slice = slice(self.label_start, None)\n",
    "    self.label_indices = np.arange(self.total_window_size)[self.labels_slice]\n",
    "\n",
    "  def __repr__(self):\n",
    "    return '\\n'.join([\n",
    "        f'Total window size: {self.total_window_size}',\n",
    "        f'Input indices: {self.input_indices}',\n",
    "        f'Label indices: {self.label_indices}',\n",
    "        f'Label column name(s): {self.label_columns}'])"
   ]
  },
  {
   "cell_type": "code",
   "execution_count": 192,
   "metadata": {},
   "outputs": [
    {
     "data": {
      "text/plain": [
       "Total window size: 48\n",
       "Input indices: [ 0  1  2  3  4  5  6  7  8  9 10 11 12 13 14 15 16 17 18 19 20 21 22 23]\n",
       "Label indices: [47]\n",
       "Label column name(s): ['Estimated_fire_area']"
      ]
     },
     "execution_count": 192,
     "metadata": {},
     "output_type": "execute_result"
    }
   ],
   "source": [
    "w1 = WindowGenerator(input_width=24, label_width=1, shift=24,\n",
    "                     label_columns=['Estimated_fire_area'])\n",
    "w1"
   ]
  },
  {
   "cell_type": "code",
   "execution_count": 193,
   "metadata": {},
   "outputs": [
    {
     "data": {
      "text/plain": [
       "Total window size: 7\n",
       "Input indices: [0 1 2 3 4 5]\n",
       "Label indices: [6]\n",
       "Label column name(s): ['Estimated_fire_area']"
      ]
     },
     "execution_count": 193,
     "metadata": {},
     "output_type": "execute_result"
    }
   ],
   "source": [
    "w2 = WindowGenerator(input_width=6, label_width=1, shift=1,\n",
    "                     label_columns=['Estimated_fire_area'])\n",
    "w2"
   ]
  },
  {
   "cell_type": "markdown",
   "metadata": {},
   "source": [
    "## 2. Split"
   ]
  },
  {
   "cell_type": "code",
   "execution_count": 167,
   "metadata": {},
   "outputs": [],
   "source": [
    "def split_window(self, features):\n",
    "  inputs = features[:, self.input_slice, :]\n",
    "  labels = features[:, self.labels_slice, :]\n",
    "  if self.label_columns is not None:\n",
    "    labels = tf.stack(\n",
    "        [labels[:, :, self.column_indices[name]] for name in self.label_columns],\n",
    "        axis=-1)\n",
    "\n",
    "  # Slicing doesn't preserve static shape information, so set the shapes\n",
    "  # manually. This way the `tf.data.Datasets` are easier to inspect.\n",
    "  inputs.set_shape([None, self.input_width, None])\n",
    "  labels.set_shape([None, self.label_width, None])\n",
    "\n",
    "  return inputs, labels\n",
    "\n",
    "WindowGenerator.split_window = split_window"
   ]
  },
  {
   "cell_type": "markdown",
   "metadata": {},
   "source": [
    "Typically data in TensorFlow is packed into arrays where the outermost index is across examples (the \"batch\" dimension). The middle indices are the \"time\" or \"space\" (width, height) dimension(s). The innermost indices are the features."
   ]
  },
  {
   "cell_type": "markdown",
   "metadata": {},
   "source": [
    "## 3. Plot\n",
    "Here is a plot method that allows a simple visualization of the split window:"
   ]
  },
  {
   "cell_type": "code",
   "execution_count": 194,
   "metadata": {},
   "outputs": [],
   "source": [
    "def plot(self, model=None, plot_col='Estimated_fire_area', max_subplots=3):\n",
    "  inputs, labels = self.example\n",
    "  plt.figure(figsize=(12, 8))\n",
    "  plot_col_index = self.column_indices[plot_col]\n",
    "  max_n = min(max_subplots, len(inputs))\n",
    "  for n in range(max_n):\n",
    "    plt.subplot(3, 1, n+1)\n",
    "    plt.ylabel(f'{plot_col} [normed]')\n",
    "    plt.plot(self.input_indices, inputs[n, :, plot_col_index],\n",
    "             label='Inputs', marker='.', zorder=-10)\n",
    "\n",
    "    if self.label_columns:\n",
    "      label_col_index = self.label_columns_indices.get(plot_col, None)\n",
    "    else:\n",
    "      label_col_index = plot_col_index\n",
    "\n",
    "    if label_col_index is None:\n",
    "      continue\n",
    "\n",
    "    plt.scatter(self.label_indices, labels[n, :, label_col_index],\n",
    "                edgecolors='k', label='Labels', c='#2ca02c', s=64)\n",
    "    if model is not None:\n",
    "      predictions = model(inputs)\n",
    "      plt.scatter(self.label_indices, predictions[n, :, label_col_index],\n",
    "                  marker='X', edgecolors='k', label='Predictions',\n",
    "                  c='#ff7f0e', s=64)\n",
    "\n",
    "    if n == 0:\n",
    "      plt.legend()\n",
    "\n",
    "  plt.xlabel('Time [h]')\n",
    "\n",
    "WindowGenerator.plot = plot"
   ]
  },
  {
   "cell_type": "markdown",
   "metadata": {},
   "source": [
    "## 4. Create tf.data.Datasets\n",
    "Finally this make_dataset method will take a time series DataFrame and convert it to a tf.data.Dataset of (input_window, label_window) pairs using the preprocessing.timeseries_dataset_from_array function."
   ]
  },
  {
   "cell_type": "code",
   "execution_count": 169,
   "metadata": {},
   "outputs": [],
   "source": [
    "def make_dataset(self, data):\n",
    "  data = np.array(data, dtype=np.float32)\n",
    "  ds = tf.keras.preprocessing.timeseries_dataset_from_array(\n",
    "      data=data,\n",
    "      targets=None,\n",
    "      sequence_length=self.total_window_size,\n",
    "      sequence_stride=1,\n",
    "      shuffle=True,\n",
    "      batch_size=32,)\n",
    "\n",
    "  ds = ds.map(self.split_window)\n",
    "\n",
    "  return ds\n",
    "\n",
    "WindowGenerator.make_dataset = make_dataset"
   ]
  },
  {
   "cell_type": "code",
   "execution_count": 170,
   "metadata": {},
   "outputs": [],
   "source": [
    "@property\n",
    "def train(self):\n",
    "  return self.make_dataset(self.train_df)\n",
    "\n",
    "@property\n",
    "def val(self):\n",
    "  return self.make_dataset(self.val_df)\n",
    "\n",
    "@property\n",
    "def test(self):\n",
    "  return self.make_dataset(self.test_df)\n",
    "\n",
    "@property\n",
    "def example(self):\n",
    "  \"\"\"Get and cache an example batch of `inputs, labels` for plotting.\"\"\"\n",
    "  result = getattr(self, '_example', None)\n",
    "  if result is None:\n",
    "    # No example batch was found, so get one from the `.train` dataset\n",
    "    result = next(iter(self.train))\n",
    "    # And cache it for next time\n",
    "    self._example = result\n",
    "  return result\n",
    "\n",
    "WindowGenerator.train = train\n",
    "WindowGenerator.val = val\n",
    "WindowGenerator.test = test\n",
    "WindowGenerator.example = example"
   ]
  },
  {
   "cell_type": "markdown",
   "metadata": {},
   "source": [
    "Now the WindowGenerator object gives you access to the tf.data.Dataset objects, so you can easily iterate over the data.\n",
    "\n",
    "The Dataset.element_spec property tells you the structure, dtypes and shapes of the dataset elements."
   ]
  },
  {
   "cell_type": "code",
   "execution_count": 183,
   "metadata": {},
   "outputs": [],
   "source": [
    "lstm_model = tf.keras.models.Sequential([\n",
    "    # Shape [batch, time, features] => [batch, time, lstm_units]\n",
    "    tf.keras.layers.LSTM(32, return_sequences=True),\n",
    "    # Shape => [batch, time, features]\n",
    "    tf.keras.layers.Dense(units=1)\n",
    "])\n",
    "\n",
    "val_performance = {}\n",
    "performance = {}"
   ]
  },
  {
   "cell_type": "code",
   "execution_count": 197,
   "metadata": {},
   "outputs": [
    {
     "data": {
      "text/plain": [
       "Total window size: 59\n",
       "Input indices: [ 0  1  2  3  4  5  6  7  8  9 10 11 12 13 14 15 16 17 18 19 20 21 22 23\n",
       " 24 25 26 27]\n",
       "Label indices: [31 32 33 34 35 36 37 38 39 40 41 42 43 44 45 46 47 48 49 50 51 52 53 54\n",
       " 55 56 57 58]\n",
       "Label column name(s): ['Estimated_fire_area']"
      ]
     },
     "execution_count": 197,
     "metadata": {},
     "output_type": "execute_result"
    },
    {
     "data": {
      "image/png": "[encoded data removed]",
      "text/plain": [
       "<Figure size 864x576 with 3 Axes>"
      ]
     },
     "metadata": {},
     "output_type": "display_data"
    }
   ],
   "source": [
    "wide_window = WindowGenerator(\n",
    "    input_width=28, label_width=28, shift=31,\n",
    "    label_columns=['Estimated_fire_area'])\n",
    "wide_window.plot()\n",
    "wide_window"
   ]
  },
  {
   "cell_type": "code",
   "execution_count": 185,
   "metadata": {},
   "outputs": [],
   "source": [
    "MAX_EPOCHS = 20\n",
    "\n",
    "def compile_and_fit(model, window, patience=2):\n",
    "  early_stopping = tf.keras.callbacks.EarlyStopping(monitor='val_loss',\n",
    "                                                    patience=patience,\n",
    "                                                    mode='min')\n",
    "\n",
    "  model.compile(loss=tf.losses.MeanSquaredError(),\n",
    "                optimizer=tf.optimizers.Adam(),\n",
    "                metrics=[tf.metrics.MeanAbsoluteError()])\n",
    "\n",
    "  history = model.fit(window.train, epochs=MAX_EPOCHS,\n",
    "                      validation_data=window.val,\n",
    "                      callbacks=[early_stopping])\n",
    "  return history"
   ]
  },
  {
   "cell_type": "code",
   "execution_count": 187,
   "metadata": {},
   "outputs": [
    {
     "name": "stdout",
     "output_type": "stream",
     "text": [
      "Epoch 1/20\n",
      "527/527 [==============================] - 15s 28ms/step - loss: 136829.8750 - mean_absolute_error: 154.6785 - val_loss: 105843.1016 - val_mean_absolute_error: 143.2877\n",
      "Epoch 2/20\n",
      "527/527 [==============================] - 13s 25ms/step - loss: 135152.0469 - mean_absolute_error: 151.7318 - val_loss: 104317.9844 - val_mean_absolute_error: 140.5433\n",
      "Epoch 3/20\n",
      "527/527 [==============================] - 14s 26ms/step - loss: 133564.2812 - mean_absolute_error: 149.5768 - val_loss: 102874.6797 - val_mean_absolute_error: 138.4874\n",
      "Epoch 4/20\n",
      "527/527 [==============================] - 13s 24ms/step - loss: 132057.3594 - mean_absolute_error: 148.0015 - val_loss: 101509.5469 - val_mean_absolute_error: 136.9454\n",
      "Epoch 5/20\n",
      "527/527 [==============================] - 14s 27ms/step - loss: 130627.1797 - mean_absolute_error: 146.8839 - val_loss: 100215.7891 - val_mean_absolute_error: 135.8401\n",
      "Epoch 6/20\n",
      "527/527 [==============================] - 14s 26ms/step - loss: 129267.5078 - mean_absolute_error: 146.1418 - val_loss: 98990.8203 - val_mean_absolute_error: 135.1001\n",
      "Epoch 7/20\n",
      "527/527 [==============================] - 13s 25ms/step - loss: 127976.3438 - mean_absolute_error: 145.7070 - val_loss: 97831.8438 - val_mean_absolute_error: 134.6709\n",
      "Epoch 8/20\n",
      "527/527 [==============================] - 13s 24ms/step - loss: 126750.0469 - mean_absolute_error: 145.5234 - val_loss: 96734.9844 - val_mean_absolute_error: 134.4982\n",
      "Epoch 9/20\n",
      "527/527 [==============================] - 12s 23ms/step - loss: 125588.1562 - mean_absolute_error: 145.5549 - val_loss: 95702.8281 - val_mean_absolute_error: 134.5356\n",
      "Epoch 10/20\n",
      "527/527 [==============================] - 13s 25ms/step - loss: 124487.6406 - mean_absolute_error: 145.7830 - val_loss: 94729.2500 - val_mean_absolute_error: 134.7852\n",
      "Epoch 11/20\n",
      "527/527 [==============================] - 13s 25ms/step - loss: 123447.7969 - mean_absolute_error: 146.1837 - val_loss: 93815.3516 - val_mean_absolute_error: 135.2233\n",
      "Epoch 12/20\n",
      "527/527 [==============================] - 13s 25ms/step - loss: 122467.2344 - mean_absolute_error: 146.7498 - val_loss: 92958.8984 - val_mean_absolute_error: 135.8059\n",
      "Epoch 13/20\n",
      "527/527 [==============================] - 13s 24ms/step - loss: 121544.8438 - mean_absolute_error: 147.4503 - val_loss: 92160.7891 - val_mean_absolute_error: 136.5212\n",
      "Epoch 14/20\n",
      "527/527 [==============================] - 12s 23ms/step - loss: 120681.1641 - mean_absolute_error: 148.2740 - val_loss: 91418.4062 - val_mean_absolute_error: 137.3623\n",
      "Epoch 15/20\n",
      "527/527 [==============================] - 12s 23ms/step - loss: 119874.8906 - mean_absolute_error: 149.2084 - val_loss: 90733.3750 - val_mean_absolute_error: 138.3252\n",
      "Epoch 16/20\n",
      "527/527 [==============================] - 12s 23ms/step - loss: 119125.7812 - mean_absolute_error: 150.2479 - val_loss: 90102.3281 - val_mean_absolute_error: 139.3927\n",
      "Epoch 17/20\n",
      "527/527 [==============================] - 12s 22ms/step - loss: 118432.9844 - mean_absolute_error: 151.3747 - val_loss: 89527.4531 - val_mean_absolute_error: 140.5594\n",
      "Epoch 18/20\n",
      "527/527 [==============================] - 13s 25ms/step - loss: 117793.8594 - mean_absolute_error: 152.5781 - val_loss: 89003.2578 - val_mean_absolute_error: 141.8159\n",
      "Epoch 19/20\n",
      "527/527 [==============================] - 12s 23ms/step - loss: 117207.8750 - mean_absolute_error: 153.8462 - val_loss: 88529.8359 - val_mean_absolute_error: 143.1586\n",
      "Epoch 20/20\n",
      "527/527 [==============================] - 13s 24ms/step - loss: 116673.9453 - mean_absolute_error: 155.1729 - val_loss: 88106.8047 - val_mean_absolute_error: 144.5507\n"
     ]
    }
   ],
   "source": [
    "history = compile_and_fit(lstm_model, wide_window)"
   ]
  },
  {
   "cell_type": "code",
   "execution_count": 188,
   "metadata": {},
   "outputs": [
    {
     "name": "stdout",
     "output_type": "stream",
     "text": [
      "150/150 [==============================] - ETA: 0s - loss: 88043.8828 - mean_absolute_error: 144.494 - 2s 12ms/step - loss: 88106.7812 - mean_absolute_error: 144.5507\n"
     ]
    }
   ],
   "source": [
    "val_performance['LSTM'] = lstm_model.evaluate(wide_window.val)\n",
    "performance['LSTM'] = lstm_model.evaluate(wide_window.test, verbose=0)"
   ]
  },
  {
   "cell_type": "markdown",
   "metadata": {},
   "source": [
    "TODO\n",
    "1. On the first timestep the model has no access to previous steps, and so can't do any better than the simple linear and dense models shown earlier. it should be considered\n",
    "\n",
    "2. Normalizing with considering Onehot encoding. (before onehot encoding it shoyld be aplied)\n",
    "\n",
    "3. I should develop this model more...    - 04.Dec.2020 Huijo"
   ]
  },
  {
   "cell_type": "code",
   "execution_count": 196,
   "metadata": {},
   "outputs": [
    {
     "data": {
      "image/png": "[encoded data removed]",
      "text/plain": [
       "<Figure size 864x576 with 3 Axes>"
      ]
     },
     "metadata": {},
     "output_type": "display_data"
    }
   ],
   "source": [
    "wide_window.plot(lstm_model)"
   ]
  },
  {
   "cell_type": "markdown",
   "metadata": {},
   "source": [
    "This plots the performances of different models. so it will be nice to compare."
   ]
  },
  {
   "cell_type": "code",
   "execution_count": 198,
   "metadata": {},
   "outputs": [
    {
     "data": {
      "image/png": "[encoded data removed]",
      "text/plain": [
       "<Figure size 432x288 with 1 Axes>"
      ]
     },
     "metadata": {},
     "output_type": "display_data"
    }
   ],
   "source": [
    "x = np.arange(len(performance))\n",
    "width = 0.3\n",
    "\n",
    "metric_name = 'mean_absolute_error'\n",
    "metric_index = lstm_model.metrics_names.index('mean_absolute_error')\n",
    "val_mae = [v[metric_index] for v in val_performance.values()]\n",
    "test_mae = [v[metric_index] for v in performance.values()]\n",
    "\n",
    "plt.bar(x - 0.17, val_mae, width, label='Validation')\n",
    "plt.bar(x + 0.17, test_mae, width, label='Test')\n",
    "plt.xticks(ticks=x, labels=performance.keys(),\n",
    "           rotation=45)\n",
    "plt.ylabel('MAE (average over all outputs)')\n",
    "_ = plt.legend()"
   ]
  },
  {
   "cell_type": "code",
   "execution_count": null,
   "metadata": {},
   "outputs": [],
   "source": []
  }
 ],
 "metadata": {
  "kernelspec": {
   "display_name": "Python 3",
   "language": "python",
   "name": "python3"
  },
  "language_info": {
   "codemirror_mode": {
    "name": "ipython",
    "version": 3
   },
   "file_extension": ".py",
   "mimetype": "text/x-python",
   "name": "python",
   "nbconvert_exporter": "python",
   "pygments_lexer": "ipython3",
   "version": "3.6.10"
  }
 },
 "nbformat": 4,
 "nbformat_minor": 4
}
